{
  "cells": [
    {
      "cell_type": "markdown",
      "metadata": {
        "id": "Ue5hxxkdAQJg"
      },
      "source": [
        "<img src=\"https://github.com/FIUBA-Posgrado-Inteligencia-Artificial/procesamiento_lenguaje_natural/raw/main/logoFIUBA.jpg\" width=\"500\" align=\"center\">\n",
        "\n",
        "\n",
        "# Procesamiento de lenguaje natural\n",
        "## Word2vect\n"
      ]
    },
    {
      "cell_type": "code",
      "execution_count": 1,
      "metadata": {
        "id": "kCED1hh-Ioyf"
      },
      "outputs": [],
      "source": [
        "import numpy as np"
      ]
    },
    {
      "cell_type": "code",
      "execution_count": 2,
      "metadata": {
        "id": "PUbfVnzIIoMj"
      },
      "outputs": [],
      "source": [
        "def cosine_similarity(a, b):\n",
        "    return np.dot(a, b) / (np.linalg.norm(a) * (np.linalg.norm(b)))"
      ]
    },
    {
      "cell_type": "markdown",
      "metadata": {
        "id": "DMOa4JPSCJ29"
      },
      "source": [
        "### Datos"
      ]
    },
    {
      "cell_type": "code",
      "execution_count": 13,
      "metadata": {
        "id": "RIO7b8GjAC17"
      },
      "outputs": [],
      "source": [
        "corpus = np.array(['que dia es hoy', 'martes el dia de hoy es martes', 'martes muchas gracias'])"
      ]
    },
    {
      "cell_type": "markdown",
      "metadata": {
        "id": "8WqdaTmO8P1r"
      },
      "source": [
        "Documento 1 --> que dia es hoy \\\n",
        "Documento 2 --> martes el dia de hoy es martes \\\n",
        "Documento 3 --> martes muchas gracias"
      ]
    },
    {
      "cell_type": "markdown",
      "metadata": {
        "id": "FVHxBRNzCMOS"
      },
      "source": [
        "### 1 - Obtener el vocabulario del corpus (los términos utilizados)\n",
        "- Cada documento transformarlo en una lista de términos\n",
        "- Armar un vector de términos no repetidos de todos los documentos"
      ]
    },
    {
      "cell_type": "code",
      "execution_count": 16,
      "metadata": {
        "id": "3ZqTOZzDI7uv",
        "colab": {
          "base_uri": "https://localhost:8080/"
        },
        "outputId": "4326e2b1-c01c-4b50-da21-f9c423b33669"
      },
      "outputs": [
        {
          "output_type": "stream",
          "name": "stdout",
          "text": [
            "{'dia', 'hoy', 'de', 'que', 'gracias', 'es', 'el', 'muchas', 'martes'}\n"
          ]
        }
      ],
      "source": [
        "\n",
        "def get_vocabulary(corpus):\n",
        "  corpus_str = \"\"\n",
        "  for val in corpus:\n",
        "    corpus_str = corpus_str + val + \" \"\n",
        "  return set(corpus_str.split())\n",
        "\n",
        "vocabulary = get_vocabulary(corpus)\n",
        "print(vocabulary)"
      ]
    },
    {
      "cell_type": "markdown",
      "metadata": {
        "id": "RUhH983FI7It"
      },
      "source": [
        "### 2- OneHot encoding\n",
        "Data una lista de textos, devolver una matriz con la representación oneHotEncoding de estos"
      ]
    },
    {
      "cell_type": "code",
      "execution_count": 35,
      "metadata": {
        "id": "Os0AAQo6I6Z1",
        "colab": {
          "base_uri": "https://localhost:8080/"
        },
        "outputId": "b64831f9-e56e-4bcb-d3bf-5b75df757ee1"
      },
      "outputs": [
        {
          "output_type": "stream",
          "name": "stdout",
          "text": [
            "[[1. 1. 0. 1. 0. 1. 0. 0. 0.]\n",
            " [1. 1. 1. 0. 0. 1. 1. 0. 1.]\n",
            " [0. 0. 0. 0. 1. 0. 0. 1. 1.]]\n"
          ]
        }
      ],
      "source": [
        "def get_one_hot(corpus, vocabulary):\n",
        "  one_hot = np.zeros((len(corpus), len(vocabulary)))\n",
        "  for row, sentence in enumerate(corpus):\n",
        "    for col, val in enumerate(vocabulary):\n",
        "      one_hot[row, col] = 1 if val in sentence.split() else 0 \n",
        "  return one_hot\n",
        "\n",
        "one_hot = get_one_hot(corpus, vocabulary)\n",
        "print(one_hot)"
      ]
    },
    {
      "cell_type": "markdown",
      "metadata": {
        "id": "IIyWGmCpJVQL"
      },
      "source": [
        "### 3- Vectores de frecuencia\n",
        "Data una lista de textos, devolver una matriz con la representación de frecuencia de estos"
      ]
    },
    {
      "cell_type": "code",
      "execution_count": 32,
      "metadata": {
        "id": "yqij_7eHJbUi",
        "colab": {
          "base_uri": "https://localhost:8080/"
        },
        "outputId": "02ece396-25ed-4d91-9c3c-76c2550a5a20"
      },
      "outputs": [
        {
          "output_type": "stream",
          "name": "stdout",
          "text": [
            "[[1. 1. 0. 1. 0. 1. 0. 0. 0.]\n",
            " [1. 1. 1. 0. 0. 1. 1. 0. 2.]\n",
            " [0. 0. 0. 0. 1. 0. 0. 1. 1.]]\n"
          ]
        }
      ],
      "source": [
        "def get_frequency(corpus, vocabulary):\n",
        "  frequency = np.zeros((len(corpus), len(vocabulary)))\n",
        "  for row, sentence in enumerate(corpus):\n",
        "    for col, val in enumerate(vocabulary):\n",
        "      frequency[row, col] = sentence.split().count(val)\n",
        "  return frequency\n",
        "\n",
        "frequency = get_frequency(corpus, vocabulary)\n",
        "print(frequency)"
      ]
    },
    {
      "cell_type": "markdown",
      "metadata": {
        "id": "z_Ot8HvWJcBu"
      },
      "source": [
        "### 4- TF-IDF\n",
        "Data una lista de textos, devolver una matriz con la representacion TFIDF"
      ]
    },
    {
      "cell_type": "code",
      "execution_count": 57,
      "metadata": {
        "id": "waG_oWtpJjRw",
        "colab": {
          "base_uri": "https://localhost:8080/"
        },
        "outputId": "21c7371a-f9cd-4b6a-be36-902c0abab0d7"
      },
      "outputs": [
        {
          "output_type": "execute_result",
          "data": {
            "text/plain": [
              "array([[0.17609126, 0.17609126, 0.        , 0.47712125, 0.        ,\n",
              "        0.17609126, 0.        , 0.        , 0.        ],\n",
              "       [0.17609126, 0.17609126, 0.47712125, 0.        , 0.        ,\n",
              "        0.17609126, 0.47712125, 0.        , 0.35218252],\n",
              "       [0.        , 0.        , 0.        , 0.        , 0.47712125,\n",
              "        0.        , 0.        , 0.47712125, 0.17609126]])"
            ]
          },
          "metadata": {},
          "execution_count": 57
        }
      ],
      "source": [
        "import math\n",
        "\n",
        "def get_tfidf(frequency, one_hot, vocabulary):\n",
        "  idf = np.zeros(len(vocabulary))\n",
        "  document_freq = np.sum(one_hot, axis=0)\n",
        "  for i, val in enumerate(vocabulary):\n",
        "    idf[i] = math.log10(frequency.shape[0]/ document_freq[i])\n",
        "  tfidf = np.multiply(frequency, idf) \n",
        "  return tfidf\n",
        "\n",
        "tfidf = get_tfidf(frequency, one_hot, vocabulary)\n",
        "tfidf"
      ]
    },
    {
      "cell_type": "markdown",
      "metadata": {
        "id": "xMcsfndWJjm_"
      },
      "source": [
        "### 5 - Comparación de documentos\n",
        "Realizar una funcion que reciba el corpus y el índice de un documento y devuelva los documentos ordenados por la similitud coseno"
      ]
    },
    {
      "cell_type": "code",
      "execution_count": 89,
      "metadata": {
        "id": "CZdiop6IJpZN",
        "colab": {
          "base_uri": "https://localhost:8080/"
        },
        "outputId": "1088cb10-3e14-46b3-b330-cbb0ecc7045b"
      },
      "outputs": [
        {
          "output_type": "execute_result",
          "data": {
            "text/plain": [
              "[('martes muchas gracias', 1.0),\n",
              " ('martes el dia de hoy es martes', 0.10845711727883083),\n",
              " ('que dia es hoy', 0.0)]"
            ]
          },
          "metadata": {},
          "execution_count": 89
        }
      ],
      "source": [
        "def get_similarity(corpus, index):\n",
        "  vocabulary = get_vocabulary(corpus)\n",
        "  one_hot = get_one_hot(corpus, vocabulary)\n",
        "  frequency = get_frequency(corpus, vocabulary)\n",
        "  tfidf = get_tfidf(frequency, one_hot, vocabulary)\n",
        "  sim_dict = {}\n",
        "  for i in range(tfidf.shape[0]):\n",
        "    similarity = cosine_similarity(tfidf[index], tfidf[i])\n",
        "    #print(f\"Document similarity doc {index}, doc {i}: {similarity:.2f}\")\n",
        "    sim_dict[corpus[i]] = similarity\n",
        "  return sorted(sim_dict.items(), key=lambda item: item[1], reverse=True)\n",
        "\n",
        "    \n",
        "get_similarity(corpus, 2)\n"
      ]
    }
  ],
  "metadata": {
    "colab": {
      "collapsed_sections": [],
      "name": "1a - word2vec.ipynb",
      "provenance": []
    },
    "kernelspec": {
      "display_name": "Python 3",
      "name": "python3"
    },
    "language_info": {
      "codemirror_mode": {
        "name": "ipython",
        "version": 3
      },
      "file_extension": ".py",
      "mimetype": "text/x-python",
      "name": "python",
      "nbconvert_exporter": "python",
      "pygments_lexer": "ipython3",
      "version": "3.9.7"
    }
  },
  "nbformat": 4,
  "nbformat_minor": 0
}