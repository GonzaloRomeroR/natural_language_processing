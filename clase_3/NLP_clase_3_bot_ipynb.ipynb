{
  "nbformat": 4,
  "nbformat_minor": 0,
  "metadata": {
    "colab": {
      "name": "NLP_clase_3_bot.ipynb.ipynb",
      "provenance": [],
      "collapsed_sections": []
    },
    "kernelspec": {
      "name": "python3",
      "display_name": "Python 3"
    },
    "language_info": {
      "name": "python"
    },
    "accelerator": "GPU"
  },
  "cells": [
    {
      "cell_type": "markdown",
      "source": [
        "<img src=\"https://github.com/hernancontigiani/ceia_memorias_especializacion/raw/master/Figures/logoFIUBA.jpg\" width=\"500\" align=\"center\">\n",
        "\n",
        "\n",
        "# Natural language processing\n",
        "## Custom embedddings using Gensim\n",
        "\n"
      ],
      "metadata": {
        "id": "2-cByPIMTfDa"
      }
    },
    {
      "cell_type": "code",
      "source": [
        "# Import libraries\n",
        "import pandas as pd\n",
        "import matplotlib.pyplot as plt\n",
        "import seaborn as sns\n",
        "import os\n",
        "import platform\n",
        "\n",
        "import multiprocessing\n",
        "from gensim.models import Word2Vec\n",
        "from keras.preprocessing.text import text_to_word_sequence\n",
        "from gensim.models.callbacks import CallbackAny2Vec\n",
        "from sklearn.decomposition import IncrementalPCA    \n",
        "from sklearn.manifold import TSNE                   \n",
        "import numpy as np\n",
        "import plotly.graph_objects as go\n",
        "import plotly.express as px\n",
        "\n"
      ],
      "metadata": {
        "id": "uWSsV04SToCB"
      },
      "execution_count": 1,
      "outputs": []
    },
    {
      "cell_type": "markdown",
      "source": [
        "### Import dataset"
      ],
      "metadata": {
        "id": "kiE1N5_PUBL4"
      }
    },
    {
      "cell_type": "code",
      "source": [
        "if os.access('./songs_dataset', os.F_OK) is False:\n",
        "    if os.access('songs_dataset.zip', os.F_OK) is False:\n",
        "        if platform.system() == 'Windows':\n",
        "            !curl https://raw.githubusercontent.com/FIUBA-Posgrado-Inteligencia-Artificial/procesamiento_lenguaje_natural/main/datasets/songs_dataset.zip -o songs_dataset.zip\n",
        "        else:\n",
        "            !wget songs_dataset.zip https://github.com/FIUBA-Posgrado-Inteligencia-Artificial/procesamiento_lenguaje_natural/raw/main/datasets/songs_dataset.zip\n",
        "    !unzip -q songs_dataset.zip   \n",
        "else:\n",
        "    print(\"El dataset ya se encuentra descargado\")"
      ],
      "metadata": {
        "colab": {
          "base_uri": "https://localhost:8080/"
        },
        "id": "YMYTgl9CUEOh",
        "outputId": "56682233-b3b2-44fb-f1c9-df2f1a458925"
      },
      "execution_count": 2,
      "outputs": [
        {
          "output_type": "stream",
          "name": "stdout",
          "text": [
            "--2022-03-29 04:04:40--  http://songs_dataset.zip/\n",
            "Resolving songs_dataset.zip (songs_dataset.zip)... failed: Name or service not known.\n",
            "wget: unable to resolve host address ‘songs_dataset.zip’\n",
            "--2022-03-29 04:04:40--  https://github.com/FIUBA-Posgrado-Inteligencia-Artificial/procesamiento_lenguaje_natural/raw/main/datasets/songs_dataset.zip\n",
            "Resolving github.com (github.com)... 140.82.114.3\n",
            "Connecting to github.com (github.com)|140.82.114.3|:443... connected.\n",
            "HTTP request sent, awaiting response... 302 Found\n",
            "Location: https://raw.githubusercontent.com/FIUBA-Posgrado-Inteligencia-Artificial/procesamiento_lenguaje_natural/main/datasets/songs_dataset.zip [following]\n",
            "--2022-03-29 04:04:40--  https://raw.githubusercontent.com/FIUBA-Posgrado-Inteligencia-Artificial/procesamiento_lenguaje_natural/main/datasets/songs_dataset.zip\n",
            "Resolving raw.githubusercontent.com (raw.githubusercontent.com)... 185.199.108.133, 185.199.109.133, 185.199.110.133, ...\n",
            "Connecting to raw.githubusercontent.com (raw.githubusercontent.com)|185.199.108.133|:443... connected.\n",
            "HTTP request sent, awaiting response... 200 OK\n",
            "Length: 2075036 (2.0M) [application/zip]\n",
            "Saving to: ‘songs_dataset.zip’\n",
            "\n",
            "songs_dataset.zip   100%[===================>]   1.98M  --.-KB/s    in 0.06s   \n",
            "\n",
            "2022-03-29 04:04:40 (32.4 MB/s) - ‘songs_dataset.zip’ saved [2075036/2075036]\n",
            "\n",
            "FINISHED --2022-03-29 04:04:40--\n",
            "Total wall clock time: 0.6s\n",
            "Downloaded: 1 files, 2.0M in 0.06s (32.4 MB/s)\n"
          ]
        }
      ]
    },
    {
      "cell_type": "code",
      "source": [
        "# Posibles bandas\n",
        "os.listdir(\"./songs_dataset/\")"
      ],
      "metadata": {
        "colab": {
          "base_uri": "https://localhost:8080/"
        },
        "id": "-ioEOfGyUW74",
        "outputId": "59d2d06d-a66f-41b3-a6f7-28febcca1882"
      },
      "execution_count": 3,
      "outputs": [
        {
          "output_type": "execute_result",
          "data": {
            "text/plain": [
              "['Lil_Wayne.txt',\n",
              " 'nickelback.txt',\n",
              " 'ludacris.txt',\n",
              " 'kanye-west.txt',\n",
              " 'lin-manuel-miranda.txt',\n",
              " 'patti-smith.txt',\n",
              " 'britney-spears.txt',\n",
              " 'prince.txt',\n",
              " 'bruno-mars.txt',\n",
              " 'leonard-cohen.txt',\n",
              " 'dickinson.txt',\n",
              " 'beatles.txt',\n",
              " 'eminem.txt',\n",
              " 'joni-mitchell.txt',\n",
              " 'johnny-cash.txt',\n",
              " 'lady-gaga.txt',\n",
              " 'radiohead.txt',\n",
              " 'kanye.txt',\n",
              " 'jimi-hendrix.txt',\n",
              " 'michael-jackson.txt',\n",
              " 'rihanna.txt',\n",
              " 'adele.txt',\n",
              " 'janisjoplin.txt',\n",
              " 'nicki-minaj.txt',\n",
              " 'nirvana.txt',\n",
              " 'nursery_rhymes.txt',\n",
              " 'amy-winehouse.txt',\n",
              " 'blink-182.txt',\n",
              " 'drake.txt',\n",
              " 'dj-khaled.txt',\n",
              " 'missy-elliott.txt',\n",
              " 'notorious-big.txt',\n",
              " 'disney.txt',\n",
              " 'bjork.txt',\n",
              " 'bob-marley.txt',\n",
              " 'bruce-springsteen.txt',\n",
              " 'cake.txt',\n",
              " 'dr-seuss.txt',\n",
              " 'Kanye_West.txt',\n",
              " 'dolly-parton.txt',\n",
              " 'notorious_big.txt',\n",
              " 'r-kelly.txt',\n",
              " 'lorde.txt',\n",
              " 'alicia-keys.txt',\n",
              " 'al-green.txt',\n",
              " 'bob-dylan.txt',\n",
              " 'bieber.txt',\n",
              " 'paul-simon.txt',\n",
              " 'lil-wayne.txt']"
            ]
          },
          "metadata": {},
          "execution_count": 3
        }
      ]
    },
    {
      "cell_type": "code",
      "source": [
        "df = pd.DataFrame()\n",
        "for dataset in os.listdir(\"./songs_dataset/\"):\n",
        "    df_tmp = pd.read_csv(f'songs_dataset/{dataset}', sep='/n', header=None, engine=\"python\")\n",
        "    df = pd.concat([df, df_tmp])\n",
        "df.head()"
      ],
      "metadata": {
        "colab": {
          "base_uri": "https://localhost:8080/",
          "height": 206
        },
        "id": "KaWEWnnTU73u",
        "outputId": "69965692-588f-4e21-b34f-ad6b462ee1d7"
      },
      "execution_count": 4,
      "outputs": [
        {
          "output_type": "execute_result",
          "data": {
            "text/plain": [
              "                                              0\n",
              "0  They call me Mr Carter I kissed the daughter\n",
              "1     Of the deads forehead I killed the father\n",
              "2           Spilled the heart of a mildew hater\n",
              "3   I will put them body on chill like glaciers\n",
              "4              Gracias Im crazy yes its obvious"
            ],
            "text/html": [
              "\n",
              "  <div id=\"df-b5f503c0-90ad-4b1e-b253-4631ec7d9012\">\n",
              "    <div class=\"colab-df-container\">\n",
              "      <div>\n",
              "<style scoped>\n",
              "    .dataframe tbody tr th:only-of-type {\n",
              "        vertical-align: middle;\n",
              "    }\n",
              "\n",
              "    .dataframe tbody tr th {\n",
              "        vertical-align: top;\n",
              "    }\n",
              "\n",
              "    .dataframe thead th {\n",
              "        text-align: right;\n",
              "    }\n",
              "</style>\n",
              "<table border=\"1\" class=\"dataframe\">\n",
              "  <thead>\n",
              "    <tr style=\"text-align: right;\">\n",
              "      <th></th>\n",
              "      <th>0</th>\n",
              "    </tr>\n",
              "  </thead>\n",
              "  <tbody>\n",
              "    <tr>\n",
              "      <th>0</th>\n",
              "      <td>They call me Mr Carter I kissed the daughter</td>\n",
              "    </tr>\n",
              "    <tr>\n",
              "      <th>1</th>\n",
              "      <td>Of the deads forehead I killed the father</td>\n",
              "    </tr>\n",
              "    <tr>\n",
              "      <th>2</th>\n",
              "      <td>Spilled the heart of a mildew hater</td>\n",
              "    </tr>\n",
              "    <tr>\n",
              "      <th>3</th>\n",
              "      <td>I will put them body on chill like glaciers</td>\n",
              "    </tr>\n",
              "    <tr>\n",
              "      <th>4</th>\n",
              "      <td>Gracias Im crazy yes its obvious</td>\n",
              "    </tr>\n",
              "  </tbody>\n",
              "</table>\n",
              "</div>\n",
              "      <button class=\"colab-df-convert\" onclick=\"convertToInteractive('df-b5f503c0-90ad-4b1e-b253-4631ec7d9012')\"\n",
              "              title=\"Convert this dataframe to an interactive table.\"\n",
              "              style=\"display:none;\">\n",
              "        \n",
              "  <svg xmlns=\"http://www.w3.org/2000/svg\" height=\"24px\"viewBox=\"0 0 24 24\"\n",
              "       width=\"24px\">\n",
              "    <path d=\"M0 0h24v24H0V0z\" fill=\"none\"/>\n",
              "    <path d=\"M18.56 5.44l.94 2.06.94-2.06 2.06-.94-2.06-.94-.94-2.06-.94 2.06-2.06.94zm-11 1L8.5 8.5l.94-2.06 2.06-.94-2.06-.94L8.5 2.5l-.94 2.06-2.06.94zm10 10l.94 2.06.94-2.06 2.06-.94-2.06-.94-.94-2.06-.94 2.06-2.06.94z\"/><path d=\"M17.41 7.96l-1.37-1.37c-.4-.4-.92-.59-1.43-.59-.52 0-1.04.2-1.43.59L10.3 9.45l-7.72 7.72c-.78.78-.78 2.05 0 2.83L4 21.41c.39.39.9.59 1.41.59.51 0 1.02-.2 1.41-.59l7.78-7.78 2.81-2.81c.8-.78.8-2.07 0-2.86zM5.41 20L4 18.59l7.72-7.72 1.47 1.35L5.41 20z\"/>\n",
              "  </svg>\n",
              "      </button>\n",
              "      \n",
              "  <style>\n",
              "    .colab-df-container {\n",
              "      display:flex;\n",
              "      flex-wrap:wrap;\n",
              "      gap: 12px;\n",
              "    }\n",
              "\n",
              "    .colab-df-convert {\n",
              "      background-color: #E8F0FE;\n",
              "      border: none;\n",
              "      border-radius: 50%;\n",
              "      cursor: pointer;\n",
              "      display: none;\n",
              "      fill: #1967D2;\n",
              "      height: 32px;\n",
              "      padding: 0 0 0 0;\n",
              "      width: 32px;\n",
              "    }\n",
              "\n",
              "    .colab-df-convert:hover {\n",
              "      background-color: #E2EBFA;\n",
              "      box-shadow: 0px 1px 2px rgba(60, 64, 67, 0.3), 0px 1px 3px 1px rgba(60, 64, 67, 0.15);\n",
              "      fill: #174EA6;\n",
              "    }\n",
              "\n",
              "    [theme=dark] .colab-df-convert {\n",
              "      background-color: #3B4455;\n",
              "      fill: #D2E3FC;\n",
              "    }\n",
              "\n",
              "    [theme=dark] .colab-df-convert:hover {\n",
              "      background-color: #434B5C;\n",
              "      box-shadow: 0px 1px 3px 1px rgba(0, 0, 0, 0.15);\n",
              "      filter: drop-shadow(0px 1px 2px rgba(0, 0, 0, 0.3));\n",
              "      fill: #FFFFFF;\n",
              "    }\n",
              "  </style>\n",
              "\n",
              "      <script>\n",
              "        const buttonEl =\n",
              "          document.querySelector('#df-b5f503c0-90ad-4b1e-b253-4631ec7d9012 button.colab-df-convert');\n",
              "        buttonEl.style.display =\n",
              "          google.colab.kernel.accessAllowed ? 'block' : 'none';\n",
              "\n",
              "        async function convertToInteractive(key) {\n",
              "          const element = document.querySelector('#df-b5f503c0-90ad-4b1e-b253-4631ec7d9012');\n",
              "          const dataTable =\n",
              "            await google.colab.kernel.invokeFunction('convertToInteractive',\n",
              "                                                     [key], {});\n",
              "          if (!dataTable) return;\n",
              "\n",
              "          const docLinkHtml = 'Like what you see? Visit the ' +\n",
              "            '<a target=\"_blank\" href=https://colab.research.google.com/notebooks/data_table.ipynb>data table notebook</a>'\n",
              "            + ' to learn more about interactive tables.';\n",
              "          element.innerHTML = '';\n",
              "          dataTable['output_type'] = 'display_data';\n",
              "          await google.colab.output.renderOutput(dataTable, element);\n",
              "          const docLink = document.createElement('div');\n",
              "          docLink.innerHTML = docLinkHtml;\n",
              "          element.appendChild(docLink);\n",
              "        }\n",
              "      </script>\n",
              "    </div>\n",
              "  </div>\n",
              "  "
            ]
          },
          "metadata": {},
          "execution_count": 4
        }
      ]
    },
    {
      "cell_type": "code",
      "source": [
        "print(\"Number of documents:\", df.shape[0])"
      ],
      "metadata": {
        "colab": {
          "base_uri": "https://localhost:8080/"
        },
        "id": "25GP9NWzU_Ee",
        "outputId": "171b1e9d-4766-41d1-f3da-b9dc2ffca8c9"
      },
      "execution_count": 5,
      "outputs": [
        {
          "output_type": "stream",
          "name": "stdout",
          "text": [
            "Number of documents: 175960\n"
          ]
        }
      ]
    },
    {
      "cell_type": "markdown",
      "source": [
        "### Preprocessing"
      ],
      "metadata": {
        "id": "hRZLoQucVIYE"
      }
    },
    {
      "cell_type": "code",
      "source": [
        "sentence_tokens = []\n",
        "# Transform sentence in sequence of words\n",
        "for _, row in df[:None].iterrows():\n",
        "    sentence_tokens.append(text_to_word_sequence(row[0]))\n",
        "sentence_tokens[:2]"
      ],
      "metadata": {
        "colab": {
          "base_uri": "https://localhost:8080/"
        },
        "id": "U79tezP3VHPH",
        "outputId": "523f8c18-ae1d-4d38-e068-cc6c6efa8336"
      },
      "execution_count": 6,
      "outputs": [
        {
          "output_type": "execute_result",
          "data": {
            "text/plain": [
              "[['they', 'call', 'me', 'mr', 'carter', 'i', 'kissed', 'the', 'daughter'],\n",
              " ['of', 'the', 'deads', 'forehead', 'i', 'killed', 'the', 'father']]"
            ]
          },
          "metadata": {},
          "execution_count": 6
        }
      ]
    },
    {
      "cell_type": "markdown",
      "source": [
        "### Create vectors (word2vec)"
      ],
      "metadata": {
        "id": "C8bjw0JXVs03"
      }
    },
    {
      "cell_type": "code",
      "source": [
        "class callback(CallbackAny2Vec):\n",
        "    \"\"\"\n",
        "    Callback to print loss after each epoch\n",
        "    \"\"\"\n",
        "    def __init__(self):\n",
        "        self.epoch = 0\n",
        "        self.loss = []\n",
        "\n",
        "    def on_epoch_end(self, model):\n",
        "        loss = model.get_latest_training_loss()\n",
        "        if self.epoch == 0:\n",
        "            print('Loss after epoch {}: {}'.format(self.epoch, loss))\n",
        "            self.loss.append(loss)\n",
        "        else:\n",
        "            print('Loss after epoch {}: {}'.format(self.epoch, loss - self.loss_previous_step))\n",
        "            self.loss.append(loss - self.loss_previous_step)\n",
        "        self.epoch += 1\n",
        "        self.loss_previous_step = loss\n",
        "        "
      ],
      "metadata": {
        "id": "vwPd9nXmVlNe"
      },
      "execution_count": 7,
      "outputs": []
    },
    {
      "cell_type": "code",
      "source": [
        "# Create vector generator model\n",
        "w2v_model = Word2Vec(\n",
        "    min_count=5,    # Minumum frequency of words to be included in the vocabulary\n",
        "    window=2,       # Number of words before and after the predicted one\n",
        "    size=300,       # Vectors dimentionality \n",
        "    negative=20,    # Number of negative samples\n",
        "    workers=1,      # Number of workers\n",
        "    sg=1,           # Model 0:CBOW  1:skipgram\n",
        ")           "
      ],
      "metadata": {
        "id": "5ocK50uKYTcd"
      },
      "execution_count": 8,
      "outputs": []
    },
    {
      "cell_type": "code",
      "source": [
        "w2v_model.build_vocab(sentence_tokens)\n",
        "print(\"Number of docs in the corpus:\", w2v_model.corpus_count)\n",
        "print(\"Number of distinct words in the copus:\", len(w2v_model.wv.vocab))"
      ],
      "metadata": {
        "colab": {
          "base_uri": "https://localhost:8080/"
        },
        "id": "vJ-Dd-k4ZeMj",
        "outputId": "49276c8a-200e-499f-d12e-80b3e8b2b43d"
      },
      "execution_count": 9,
      "outputs": [
        {
          "output_type": "stream",
          "name": "stdout",
          "text": [
            "Number of docs in the corpus: 175960\n",
            "Number of distinct words in the copus: 10029\n"
          ]
        }
      ]
    },
    {
      "cell_type": "markdown",
      "source": [
        "### Train generator model"
      ],
      "metadata": {
        "id": "dO9rsfVrZrHP"
      }
    },
    {
      "cell_type": "code",
      "source": [
        "# Train the generator model\n",
        "train_callback = callback()\n",
        "w2v_model.train(\n",
        "    sentence_tokens,\n",
        "    total_examples=w2v_model.corpus_count,\n",
        "    epochs=50,\n",
        "    compute_loss = True,\n",
        "    callbacks=[train_callback]\n",
        ")"
      ],
      "metadata": {
        "colab": {
          "base_uri": "https://localhost:8080/"
        },
        "id": "OPVvY0sUZppL",
        "outputId": "df318d12-d3f2-4595-b422-30b6bb804b5d"
      },
      "execution_count": 10,
      "outputs": [
        {
          "output_type": "stream",
          "name": "stdout",
          "text": [
            "Loss after epoch 0: 6979081.5\n",
            "Loss after epoch 1: 5439422.5\n",
            "Loss after epoch 2: 5159742.0\n",
            "Loss after epoch 3: 4834668.0\n",
            "Loss after epoch 4: 4711020.0\n",
            "Loss after epoch 5: 4614962.0\n",
            "Loss after epoch 6: 4412464.0\n",
            "Loss after epoch 7: 4260568.0\n",
            "Loss after epoch 8: 4182548.0\n",
            "Loss after epoch 9: 4112888.0\n",
            "Loss after epoch 10: 4065880.0\n",
            "Loss after epoch 11: 4020828.0\n",
            "Loss after epoch 12: 3983152.0\n",
            "Loss after epoch 13: 3941716.0\n",
            "Loss after epoch 14: 2867604.0\n",
            "Loss after epoch 15: 1219656.0\n",
            "Loss after epoch 16: 1198616.0\n",
            "Loss after epoch 17: 1179456.0\n",
            "Loss after epoch 18: 1165440.0\n",
            "Loss after epoch 19: 1148464.0\n",
            "Loss after epoch 20: 1131448.0\n",
            "Loss after epoch 21: 1107816.0\n",
            "Loss after epoch 22: 1093152.0\n",
            "Loss after epoch 23: 1080336.0\n",
            "Loss after epoch 24: 1064728.0\n",
            "Loss after epoch 25: 1046312.0\n",
            "Loss after epoch 26: 1034952.0\n",
            "Loss after epoch 27: 1015248.0\n",
            "Loss after epoch 28: 998312.0\n",
            "Loss after epoch 29: 978432.0\n",
            "Loss after epoch 30: 960968.0\n",
            "Loss after epoch 31: 947840.0\n",
            "Loss after epoch 32: 926808.0\n",
            "Loss after epoch 33: 913800.0\n",
            "Loss after epoch 34: 897336.0\n",
            "Loss after epoch 35: 878376.0\n",
            "Loss after epoch 36: 861752.0\n",
            "Loss after epoch 37: 842544.0\n",
            "Loss after epoch 38: 828504.0\n",
            "Loss after epoch 39: 807832.0\n",
            "Loss after epoch 40: 791024.0\n",
            "Loss after epoch 41: 772544.0\n",
            "Loss after epoch 42: 759200.0\n",
            "Loss after epoch 43: 736296.0\n",
            "Loss after epoch 44: 723592.0\n",
            "Loss after epoch 45: 704944.0\n",
            "Loss after epoch 46: 688112.0\n",
            "Loss after epoch 47: 672752.0\n",
            "Loss after epoch 48: 658032.0\n",
            "Loss after epoch 49: 642968.0\n"
          ]
        },
        {
          "output_type": "execute_result",
          "data": {
            "text/plain": [
              "(48784146, 67753350)"
            ]
          },
          "metadata": {},
          "execution_count": 10
        }
      ]
    },
    {
      "cell_type": "code",
      "source": [
        "plt.plot(train_callback.loss)\n",
        "plt.ylabel(\"loss\")\n",
        "plt.xlabel(\"epoch\")\n",
        "plt.grid()"
      ],
      "metadata": {
        "colab": {
          "base_uri": "https://localhost:8080/",
          "height": 290
        },
        "id": "rL6YMP83qTfF",
        "outputId": "780ae21e-4163-4424-9776-c77209c65b9f"
      },
      "execution_count": 11,
      "outputs": [
        {
          "output_type": "display_data",
          "data": {
            "text/plain": [
              "<Figure size 432x288 with 1 Axes>"
            ],
            "image/png": "[encoded data removed]"
          },
          "metadata": {
            "needs_background": "light"
          }
        }
      ]
    },
    {
      "cell_type": "markdown",
      "source": [
        "### Results\n"
      ],
      "metadata": {
        "id": "n8OHM7O0esQg"
      }
    },
    {
      "cell_type": "code",
      "source": [
        "# The most related\n",
        "w2v_model.wv.most_similar(positive=[\"darling\"], topn=10)"
      ],
      "metadata": {
        "colab": {
          "base_uri": "https://localhost:8080/"
        },
        "id": "YI3aYMsUerzS",
        "outputId": "1fa7b2a2-313a-4a05-844d-13ffe35df2ff"
      },
      "execution_count": 12,
      "outputs": [
        {
          "output_type": "execute_result",
          "data": {
            "text/plain": [
              "[('oooo', 0.3567364811897278),\n",
              " ('whaa', 0.3407559096813202),\n",
              " ('guidance', 0.33869025111198425),\n",
              " ('getaway', 0.33842137455940247),\n",
              " ('unusual', 0.3381232023239136),\n",
              " ('“oh', 0.3357376158237457),\n",
              " ('whoaa', 0.3337134122848511),\n",
              " ('discreet', 0.3321044147014618),\n",
              " ('bambi', 0.33016514778137207),\n",
              " ('inspire', 0.3293995261192322)]"
            ]
          },
          "metadata": {},
          "execution_count": 12
        }
      ]
    },
    {
      "cell_type": "code",
      "source": [
        "# The least related\n",
        "w2v_model.wv.most_similar(negative=[\"love\"], topn=10)"
      ],
      "metadata": {
        "colab": {
          "base_uri": "https://localhost:8080/"
        },
        "id": "8zDeC9hFed9Y",
        "outputId": "0756dc89-3827-4269-86c7-783311354f4e"
      },
      "execution_count": 13,
      "outputs": [
        {
          "output_type": "execute_result",
          "data": {
            "text/plain": [
              "[('xxix', 0.11887381970882416),\n",
              " ('xxxvi', 0.10323155671358109),\n",
              " ('xvi', 0.10039831697940826),\n",
              " ('xii', 0.09784182906150818),\n",
              " ('xxxix', 0.09631551057100296),\n",
              " ('xxvii', 0.08722763508558273),\n",
              " ('xxxiii', 0.07976940274238586),\n",
              " ('ix', 0.06558245420455933),\n",
              " ('siedah', 0.05004114657640457),\n",
              " ('parade', 0.04586414992809296)]"
            ]
          },
          "metadata": {},
          "execution_count": 13
        }
      ]
    },
    {
      "cell_type": "code",
      "source": [
        "# The most related\n",
        "w2v_model.wv.most_similar(positive=[\"four\"], topn=10)"
      ],
      "metadata": {
        "colab": {
          "base_uri": "https://localhost:8080/"
        },
        "id": "30tW0Krke83P",
        "outputId": "0d8c62b2-cb80-45a5-d565-ca7648a5eeb4"
      },
      "execution_count": 14,
      "outputs": [
        {
          "output_type": "execute_result",
          "data": {
            "text/plain": [
              "[('twenty', 0.4172571897506714),\n",
              " ('whee', 0.3869883418083191),\n",
              " ('karat', 0.37435564398765564),\n",
              " ('swiftly', 0.3569449186325073),\n",
              " ('donate', 0.3537265956401825),\n",
              " ('seven', 0.3531298339366913),\n",
              " ('lopez', 0.3513649106025696),\n",
              " ('blackbirds', 0.34967344999313354),\n",
              " ('goon', 0.33422908186912537),\n",
              " ('dandelion', 0.3294452428817749)]"
            ]
          },
          "metadata": {},
          "execution_count": 14
        }
      ]
    },
    {
      "cell_type": "code",
      "source": [
        "# The most related\n",
        "w2v_model.wv.most_similar(positive=[\"money\"], topn=5)"
      ],
      "metadata": {
        "colab": {
          "base_uri": "https://localhost:8080/"
        },
        "id": "xs4AZ7mgfEbI",
        "outputId": "e4fe084d-3782-4945-9101-e8dd1fa7abf7"
      },
      "execution_count": 15,
      "outputs": [
        {
          "output_type": "execute_result",
          "data": {
            "text/plain": [
              "[('naire', 0.4115443229675293),\n",
              " ('forrest', 0.37579989433288574),\n",
              " ('wronger', 0.363911509513855),\n",
              " (\"plottin'\", 0.3621219992637634),\n",
              " ('maker', 0.3586929738521576)]"
            ]
          },
          "metadata": {},
          "execution_count": 15
        }
      ]
    },
    {
      "cell_type": "code",
      "source": [
        "def reduce_dimensions(model, num_dimensions=2):\n",
        "\n",
        "    vectors = np.asarray(model.wv.vectors)\n",
        "    labels = np.asarray(model.wv.index2word)  \n",
        "\n",
        "    tsne = TSNE(n_components=num_dimensions, random_state=0)\n",
        "    vectors = tsne.fit_transform(vectors)\n",
        "\n",
        "    return vectors, labels"
      ],
      "metadata": {
        "id": "K6WmaY9NfZCJ"
      },
      "execution_count": 16,
      "outputs": []
    },
    {
      "cell_type": "code",
      "source": [
        "vectors, labels = reduce_dimensions(w2v_model)\n",
        "x_vals = [v[0] for v in vectors]\n",
        "y_vals = [v[1] for v in vectors]\n",
        "\n",
        "MAX_WORDS = 200\n",
        "fig = px.scatter(x=x_vals[:MAX_WORDS], y=y_vals[:MAX_WORDS], text=labels[:MAX_WORDS])\n",
        "fig.show(renderer=\"colab\")"
      ],
      "metadata": {
        "colab": {
          "base_uri": "https://localhost:8080/",
          "height": 631
        },
        "id": "A8_AABpNffvY",
        "outputId": "09aa4777-9311-4eed-e34b-1fea3fe36554"
      },
      "execution_count": 17,
      "outputs": [
        {
          "output_type": "stream",
          "name": "stderr",
          "text": [
            "/usr/local/lib/python3.7/dist-packages/sklearn/manifold/_t_sne.py:783: FutureWarning: The default initialization in TSNE will change from 'random' to 'pca' in 1.2.\n",
            "  FutureWarning,\n",
            "/usr/local/lib/python3.7/dist-packages/sklearn/manifold/_t_sne.py:793: FutureWarning: The default learning rate in TSNE will change from 200.0 to 'auto' in 1.2.\n",
            "  FutureWarning,\n"
          ]
        },
        {
          "output_type": "display_data",
          "data": {
            "text/html": [
              "<html>\n",
              "<head><meta charset=\"utf-8\" /></head>\n",
              "<body>\n",
              "    <div>            <script src=\"https://cdnjs.cloudflare.com/ajax/libs/mathjax/2.7.5/MathJax.js?config=TeX-AMS-MML_SVG\"></script><script type=\"text/javascript\">if (window.MathJax) {MathJax.Hub.Config({SVG: {font: \"STIX-Web\"}});}</script>                <script type=\"text/javascript\">window.PlotlyConfig = {MathJaxConfig: 'local'};</script>\n",
              "        <script src=\"https://cdn.plot.ly/plotly-2.8.3.min.js\"></script>                <div id=\"52a32b32-7fd4-4b28-9204-4353d14e567f\" class=\"plotly-graph-div\" style=\"height:525px; width:100%;\"></div>            <script type=\"text/javascript\">                                    window.PLOTLYENV=window.PLOTLYENV || {};                                    if (document.getElementById(\"52a32b32-7fd4-4b28-9204-4353d14e567f\")) {                    Plotly.newPlot(                        \"52a32b32-7fd4-4b28-9204-4353d14e567f\",                        [{\"hovertemplate\":\"x=%{x}<br>y=%{y}<br>text=%{text}<extra></extra>\",\"legendgroup\":\"\",\"marker\":{\"color\":\"#636efa\",\"symbol\":\"circle\"},\"mode\":\"markers+text\",\"name\":\"\",\"orientation\":\"v\",\"showlegend\":false,\"text\":[\"the\",\"i\",\"you\",\"and\",\"to\",\"a\",\"me\",\"my\",\"it\",\"in\",\"that\",\"on\",\"of\",\"your\",\"i'm\",\"like\",\"all\",\"is\",\"be\",\"we\",\"for\",\"up\",\"so\",\"with\",\"know\",\"love\",\"but\",\"just\",\"don't\",\"no\",\"oh\",\"got\",\"this\",\"get\",\"what\",\"when\",\"do\",\"yeah\",\"they\",\"now\",\"baby\",\"if\",\"go\",\"can\",\"she\",\"out\",\"was\",\"it's\",\"one\",\"down\",\"want\",\"he\",\"see\",\"come\",\"her\",\"say\",\"not\",\"at\",\"make\",\"time\",\"from\",\"back\",\"have\",\"are\",\"you're\",\"how\",\"let\",\"never\",\"girl\",\"as\",\"take\",\"man\",\"right\",\"way\",\"wanna\",\"will\",\"im\",\"can't\",\"ain't\",\"there\",\"need\",\"tell\",\"then\",\"gonna\",\"here\",\"more\",\"some\",\"i'll\",\"u\",\"feel\",\"too\",\"where\",\"his\",\"could\",\"been\",\"said\",\"'cause\",\"life\",\"good\",\"who\",\"them\",\"or\",\"about\",\"shit\",\"give\",\"why\",\"night\",\"had\",\"little\",\"off\",\"day\",\"still\",\"by\",\"that's\",\"la\",\"only\",\"ya\",\"think\",\"cause\",\"keep\",\"fuck\",\"bitch\",\"us\",\"through\",\"every\",\"look\",\"hey\",\"well\",\"away\",\"around\",\"these\",\"would\",\"heart\",\"him\",\"world\",\"money\",\"gotta\",\"over\",\"its\",\"dont\",\"put\",\"i've\",\"new\",\"better\",\"am\",\"call\",\"our\",\"ever\",\"bad\",\"boy\",\"2\",\"home\",\"an\",\"long\",\"stop\",\"even\",\"really\",\"than\",\"big\",\"did\",\"we're\",\"won't\",\"mind\",\"again\",\"nigga\",\"always\",\"there's\",\"aint\",\"da\",\"ooh\",\"were\",\"hold\",\"much\",\"things\",\"people\",\"thing\",\"nothing\",\"before\",\"head\",\"niggas\",\"show\",\"hear\",\"'em\",\"name\",\"everything\",\"uh\",\"going\",\"ass\",\"yo\",\"hard\",\"na\",\"hit\",\"god\",\"leave\",\"try\",\"gone\",\"eyes\",\"find\",\"live\",\"turn\"],\"x\":[1.6407150030136108,2.8062353134155273,2.735187292098999,1.9577782154083252,2.3903141021728516,1.987120270729065,2.493922472000122,1.650997281074524,1.842298150062561,1.7038214206695557,1.853882908821106,1.6306076049804688,1.968225359916687,1.9980984926223755,3.011824607849121,1.6406670808792114,1.9459309577941895,1.9649221897125244,1.7991341352462769,2.7387514114379883,1.7778306007385254,1.6840920448303223,1.7628087997436523,1.645772933959961,2.0941379070281982,1.9803792238235474,1.9077928066253662,1.6145122051239014,-9.169791221618652,3.0207643508911133,-16.372722625732422,2.18546986579895,1.669122576713562,-6.598658561706543,2.1493775844573975,1.0802944898605347,2.1836729049682617,-1.6218760013580322,2.7070538997650146,1.963909387588501,-17.151142120361328,1.9623055458068848,-13.755073547363281,0.9905950427055359,2.637484073638916,1.9614185094833374,1.8892312049865723,2.5272676944732666,1.9456470012664795,0.9002962708473206,2.182185411453247,14.410201072692871,1.138634204864502,-4.586779594421387,1.9270319938659668,1.076888918876648,1.9518598318099976,1.1951647996902466,1.970144271850586,1.976951003074646,-18.807397842407227,-4.299039363861084,1.875726342201233,0.22324645519256592,2.2489430904388428,1.1817872524261475,-2.148252248764038,1.7078914642333984,17.539125442504883,4.507883071899414,-7.7905073165893555,10.062555313110352,2.002122163772583,-5.793194770812988,-9.296257972717285,10.174083709716797,-23.40715789794922,12.046422958374023,2.1956305503845215,2.0874972343444824,5.750132083892822,1.8591777086257935,1.7493501901626587,10.271690368652344,-19.891511917114258,2.3586626052856445,2.5136539936065674,1.3557313680648804,2.817157745361328,2.226301431655884,5.393009185791016,-9.6286039352417,2.8801162242889404,10.070626258850098,16.33295440673828,-8.978363990783691,1.9675980806350708,4.140376091003418,1.1016488075256348,2.244400978088379,2.829767942428589,2.4436910152435303,-6.670279502868652,-1.1185057163238525,2.625213623046875,0.7597612142562866,3.5327627658843994,2.6854732036590576,19.341510772705078,-7.186685085296631,2.7363288402557373,0.9146317839622498,9.93040943145752,3.3497607707977295,-22.38766860961914,9.590667724609375,-10.707681655883789,2.0953168869018555,2.122864246368408,1.7697169780731201,2.205296754837036,19.6473445892334,-2.1847846508026123,1.9005440473556519,2.4778313636779785,-0.16152535378932953,-22.07465362548828,1.642708659172058,3.3476009368896484,-4.820281982421875,-2.2979676723480225,1.609412670135498,17.906171798706055,2.5284130573272705,8.296686172485352,1.3773475885391235,-6.636394500732422,0.31101328134536743,7.48568058013916,-9.179122924804688,3.318687915802002,7.7150726318359375,10.166581153869629,13.481846809387207,17.433725357055664,11.43762493133545,1.770592212677002,2.8339247703552246,17.051170349121094,18.29584312438965,2.705474615097046,-10.102226257324219,11.941365242004395,5.701535701751709,2.81072735786438,7.6201629638671875,2.4440176486968994,8.365375518798828,18.308521270751953,3.16848087310791,-2.2811012268066406,-32.405006408691406,-6.710168361663818,16.22780418395996,9.857684135437012,-3.8969974517822266,-7.906558990478516,3.0088019371032715,-23.383272171020508,-16.089622497558594,-0.11644340306520462,-4.550665855407715,6.869350433349609,-4.215294361114502,0.9771162271499634,-4.944677829742432,1.800587773323059,2.6151070594787598,2.622636318206787,7.854076385498047,7.816849231719971,-0.5039701461791992,-0.2791365385055542,12.24703598022461,2.9025356769561768,-19.008928298950195,8.201064109802246,8.70828628540039,-26.51631736755371,-1.0689491033554077,-19.2741641998291,-11.67320728302002,6.0673651695251465,-3.3844892978668213,-0.6933313608169556,6.977502822875977,9.240209579467773,2.9628374576568604,3.1274020671844482,2.789174795150757],\"xaxis\":\"x\",\"y\":[0.15555699169635773,-1.5469725131988525,-1.711634874343872,-0.25121089816093445,-0.15789686143398285,0.06360276788473129,-1.1457451581954956,0.07880739867687225,-0.36915072798728943,0.11651220172643661,-0.2529681324958801,0.09597976505756378,0.6437069177627563,-0.11206125468015671,-0.5349215269088745,0.08468687534332275,-0.2143530696630478,0.004167043138295412,-0.314740926027298,-1.2845996618270874,0.14629602432250977,0.09310407191514969,-0.32117441296577454,-0.26382625102996826,-1.2659997940063477,-1.0824673175811768,-0.3050597906112671,0.0214974544942379,-26.164634704589844,-2.4868979454040527,13.39237117767334,-0.5580170154571533,0.5613067150115967,-12.734764099121094,-1.9129616022109985,-0.28917574882507324,-1.7542012929916382,-2.4837067127227783,-1.2152856588363647,-0.14196859300136566,-6.829668998718262,-0.17912691831588745,-16.508058547973633,0.10320586711168289,-1.366429328918457,0.6232459545135498,0.006642038468271494,0.19766731560230255,0.04252094402909279,0.8260918259620667,-3.076615571975708,-11.479796409606934,0.479717880487442,-2.1368372440338135,-0.2528422176837921,-0.8037882447242737,-1.3777228593826294,0.44235938787460327,-0.93306565284729,-0.9041237831115723,9.481170654296875,-1.4936331510543823,-0.2944352924823761,-4.551296234130859,-1.5392471551895142,-1.8056002855300903,-1.79482102394104,0.6258408427238464,-3.5731117725372314,1.6082029342651367,17.085304260253906,3.136608600616455,-2.84010910987854,-0.703396737575531,16.7180118560791,3.4178872108459473,4.077060699462891,4.377788066864014,-2.742013692855835,1.17537260055542,-2.7749383449554443,-1.8164499998092651,-0.30818748474121094,2.84352445602417,11.115864753723145,-2.5207197666168213,-0.3983376920223236,2.1874918937683105,-1.586967945098877,-2.852971315383911,1.55841064453125,15.387662887573242,5.907811164855957,3.118825674057007,-6.760003089904785,17.23865509033203,-0.9712131023406982,17.231420516967773,-2.931867837905884,-1.7607717514038086,-0.048461757600307465,-0.4306919276714325,-5.811997890472412,-2.359123468399048,-1.9932737350463867,-3.93795108795166,1.9348225593566895,-0.6766455173492432,-2.486255645751953,-12.93214225769043,1.0595756769180298,0.6049073934555054,23.386371612548828,-0.16139985620975494,-1.4990864992141724,1.4880836009979248,-17.591703414916992,-1.8015927076339722,0.5027235746383667,3.2973132133483887,-2.942636251449585,12.862711906433105,-10.347665786743164,3.6150262355804443,1.1921674013137817,-2.679244041442871,6.732522964477539,0.1028861254453659,5.676497936248779,7.251913070678711,4.202622890472412,1.0260950326919556,-0.03326551243662834,-0.9816979765892029,5.239325523376465,-1.7105422019958496,-8.06751537322998,1.9295496940612793,7.7817063331604,-26.181283950805664,-17.859355926513672,-24.728742599487305,5.217981338500977,-1.3595203161239624,2.0781002044677734,-0.5057654976844788,18.30706214904785,-1.895666480064392,-17.575698852539062,-3.7435429096221924,-0.1524173468351364,-9.112838745117188,10.237565040588379,1.6867204904556274,-8.824244499206543,-5.300309658050537,-2.941877841949463,1.5753535032272339,-12.98731517791748,-1.6143293380737305,1.2119969129562378,4.146841526031494,-12.928775787353516,-15.258570671081543,-22.87820816040039,-1.7029520273208618,17.492576599121094,-2.9571287631988525,-6.229795932769775,14.316535949707031,6.450310230255127,-11.39461612701416,1.826439380645752,-2.4909791946411133,-2.985813856124878,-3.8584988117218018,-2.2928240299224854,1.7360299825668335,-18.953954696655273,-12.797675132751465,2.1798946857452393,-2.8476593494415283,-14.191559791564941,0.03978465124964714,-2.863356351852417,-7.530387878417969,2.961855173110962,-21.188127517700195,-1.870640754699707,-14.723904609680176,-4.7566680908203125,-12.190258979797363,-1.4770877361297607,2.2118642330169678,-9.111577987670898,-2.007078170776367,-7.297717571258545,2.2402091026306152,18.58527374267578,-5.0592427253723145],\"yaxis\":\"y\",\"type\":\"scatter\"}],                        {\"template\":{\"data\":{\"bar\":[{\"error_x\":{\"color\":\"#2a3f5f\"},\"error_y\":{\"color\":\"#2a3f5f\"},\"marker\":{\"line\":{\"color\":\"#E5ECF6\",\"width\":0.5},\"pattern\":{\"fillmode\":\"overlay\",\"size\":10,\"solidity\":0.2}},\"type\":\"bar\"}],\"barpolar\":[{\"marker\":{\"line\":{\"color\":\"#E5ECF6\",\"width\":0.5},\"pattern\":{\"fillmode\":\"overlay\",\"size\":10,\"solidity\":0.2}},\"type\":\"barpolar\"}],\"carpet\":[{\"aaxis\":{\"endlinecolor\":\"#2a3f5f\",\"gridcolor\":\"white\",\"linecolor\":\"white\",\"minorgridcolor\":\"white\",\"startlinecolor\":\"#2a3f5f\"},\"baxis\":{\"endlinecolor\":\"#2a3f5f\",\"gridcolor\":\"white\",\"linecolor\":\"white\",\"minorgridcolor\":\"white\",\"startlinecolor\":\"#2a3f5f\"},\"type\":\"carpet\"}],\"choropleth\":[{\"colorbar\":{\"outlinewidth\":0,\"ticks\":\"\"},\"type\":\"choropleth\"}],\"contour\":[{\"colorbar\":{\"outlinewidth\":0,\"ticks\":\"\"},\"colorscale\":[[0.0,\"#0d0887\"],[0.1111111111111111,\"#46039f\"],[0.2222222222222222,\"#7201a8\"],[0.3333333333333333,\"#9c179e\"],[0.4444444444444444,\"#bd3786\"],[0.5555555555555556,\"#d8576b\"],[0.6666666666666666,\"#ed7953\"],[0.7777777777777778,\"#fb9f3a\"],[0.8888888888888888,\"#fdca26\"],[1.0,\"#f0f921\"]],\"type\":\"contour\"}],\"contourcarpet\":[{\"colorbar\":{\"outlinewidth\":0,\"ticks\":\"\"},\"type\":\"contourcarpet\"}],\"heatmap\":[{\"colorbar\":{\"outlinewidth\":0,\"ticks\":\"\"},\"colorscale\":[[0.0,\"#0d0887\"],[0.1111111111111111,\"#46039f\"],[0.2222222222222222,\"#7201a8\"],[0.3333333333333333,\"#9c179e\"],[0.4444444444444444,\"#bd3786\"],[0.5555555555555556,\"#d8576b\"],[0.6666666666666666,\"#ed7953\"],[0.7777777777777778,\"#fb9f3a\"],[0.8888888888888888,\"#fdca26\"],[1.0,\"#f0f921\"]],\"type\":\"heatmap\"}],\"heatmapgl\":[{\"colorbar\":{\"outlinewidth\":0,\"ticks\":\"\"},\"colorscale\":[[0.0,\"#0d0887\"],[0.1111111111111111,\"#46039f\"],[0.2222222222222222,\"#7201a8\"],[0.3333333333333333,\"#9c179e\"],[0.4444444444444444,\"#bd3786\"],[0.5555555555555556,\"#d8576b\"],[0.6666666666666666,\"#ed7953\"],[0.7777777777777778,\"#fb9f3a\"],[0.8888888888888888,\"#fdca26\"],[1.0,\"#f0f921\"]],\"type\":\"heatmapgl\"}],\"histogram\":[{\"marker\":{\"pattern\":{\"fillmode\":\"overlay\",\"size\":10,\"solidity\":0.2}},\"type\":\"histogram\"}],\"histogram2d\":[{\"colorbar\":{\"outlinewidth\":0,\"ticks\":\"\"},\"colorscale\":[[0.0,\"#0d0887\"],[0.1111111111111111,\"#46039f\"],[0.2222222222222222,\"#7201a8\"],[0.3333333333333333,\"#9c179e\"],[0.4444444444444444,\"#bd3786\"],[0.5555555555555556,\"#d8576b\"],[0.6666666666666666,\"#ed7953\"],[0.7777777777777778,\"#fb9f3a\"],[0.8888888888888888,\"#fdca26\"],[1.0,\"#f0f921\"]],\"type\":\"histogram2d\"}],\"histogram2dcontour\":[{\"colorbar\":{\"outlinewidth\":0,\"ticks\":\"\"},\"colorscale\":[[0.0,\"#0d0887\"],[0.1111111111111111,\"#46039f\"],[0.2222222222222222,\"#7201a8\"],[0.3333333333333333,\"#9c179e\"],[0.4444444444444444,\"#bd3786\"],[0.5555555555555556,\"#d8576b\"],[0.6666666666666666,\"#ed7953\"],[0.7777777777777778,\"#fb9f3a\"],[0.8888888888888888,\"#fdca26\"],[1.0,\"#f0f921\"]],\"type\":\"histogram2dcontour\"}],\"mesh3d\":[{\"colorbar\":{\"outlinewidth\":0,\"ticks\":\"\"},\"type\":\"mesh3d\"}],\"parcoords\":[{\"line\":{\"colorbar\":{\"outlinewidth\":0,\"ticks\":\"\"}},\"type\":\"parcoords\"}],\"pie\":[{\"automargin\":true,\"type\":\"pie\"}],\"scatter\":[{\"marker\":{\"colorbar\":{\"outlinewidth\":0,\"ticks\":\"\"}},\"type\":\"scatter\"}],\"scatter3d\":[{\"line\":{\"colorbar\":{\"outlinewidth\":0,\"ticks\":\"\"}},\"marker\":{\"colorbar\":{\"outlinewidth\":0,\"ticks\":\"\"}},\"type\":\"scatter3d\"}],\"scattercarpet\":[{\"marker\":{\"colorbar\":{\"outlinewidth\":0,\"ticks\":\"\"}},\"type\":\"scattercarpet\"}],\"scattergeo\":[{\"marker\":{\"colorbar\":{\"outlinewidth\":0,\"ticks\":\"\"}},\"type\":\"scattergeo\"}],\"scattergl\":[{\"marker\":{\"colorbar\":{\"outlinewidth\":0,\"ticks\":\"\"}},\"type\":\"scattergl\"}],\"scattermapbox\":[{\"marker\":{\"colorbar\":{\"outlinewidth\":0,\"ticks\":\"\"}},\"type\":\"scattermapbox\"}],\"scatterpolar\":[{\"marker\":{\"colorbar\":{\"outlinewidth\":0,\"ticks\":\"\"}},\"type\":\"scatterpolar\"}],\"scatterpolargl\":[{\"marker\":{\"colorbar\":{\"outlinewidth\":0,\"ticks\":\"\"}},\"type\":\"scatterpolargl\"}],\"scatterternary\":[{\"marker\":{\"colorbar\":{\"outlinewidth\":0,\"ticks\":\"\"}},\"type\":\"scatterternary\"}],\"surface\":[{\"colorbar\":{\"outlinewidth\":0,\"ticks\":\"\"},\"colorscale\":[[0.0,\"#0d0887\"],[0.1111111111111111,\"#46039f\"],[0.2222222222222222,\"#7201a8\"],[0.3333333333333333,\"#9c179e\"],[0.4444444444444444,\"#bd3786\"],[0.5555555555555556,\"#d8576b\"],[0.6666666666666666,\"#ed7953\"],[0.7777777777777778,\"#fb9f3a\"],[0.8888888888888888,\"#fdca26\"],[1.0,\"#f0f921\"]],\"type\":\"surface\"}],\"table\":[{\"cells\":{\"fill\":{\"color\":\"#EBF0F8\"},\"line\":{\"color\":\"white\"}},\"header\":{\"fill\":{\"color\":\"#C8D4E3\"},\"line\":{\"color\":\"white\"}},\"type\":\"table\"}]},\"layout\":{\"annotationdefaults\":{\"arrowcolor\":\"#2a3f5f\",\"arrowhead\":0,\"arrowwidth\":1},\"autotypenumbers\":\"strict\",\"coloraxis\":{\"colorbar\":{\"outlinewidth\":0,\"ticks\":\"\"}},\"colorscale\":{\"diverging\":[[0,\"#8e0152\"],[0.1,\"#c51b7d\"],[0.2,\"#de77ae\"],[0.3,\"#f1b6da\"],[0.4,\"#fde0ef\"],[0.5,\"#f7f7f7\"],[0.6,\"#e6f5d0\"],[0.7,\"#b8e186\"],[0.8,\"#7fbc41\"],[0.9,\"#4d9221\"],[1,\"#276419\"]],\"sequential\":[[0.0,\"#0d0887\"],[0.1111111111111111,\"#46039f\"],[0.2222222222222222,\"#7201a8\"],[0.3333333333333333,\"#9c179e\"],[0.4444444444444444,\"#bd3786\"],[0.5555555555555556,\"#d8576b\"],[0.6666666666666666,\"#ed7953\"],[0.7777777777777778,\"#fb9f3a\"],[0.8888888888888888,\"#fdca26\"],[1.0,\"#f0f921\"]],\"sequentialminus\":[[0.0,\"#0d0887\"],[0.1111111111111111,\"#46039f\"],[0.2222222222222222,\"#7201a8\"],[0.3333333333333333,\"#9c179e\"],[0.4444444444444444,\"#bd3786\"],[0.5555555555555556,\"#d8576b\"],[0.6666666666666666,\"#ed7953\"],[0.7777777777777778,\"#fb9f3a\"],[0.8888888888888888,\"#fdca26\"],[1.0,\"#f0f921\"]]},\"colorway\":[\"#636efa\",\"#EF553B\",\"#00cc96\",\"#ab63fa\",\"#FFA15A\",\"#19d3f3\",\"#FF6692\",\"#B6E880\",\"#FF97FF\",\"#FECB52\"],\"font\":{\"color\":\"#2a3f5f\"},\"geo\":{\"bgcolor\":\"white\",\"lakecolor\":\"white\",\"landcolor\":\"#E5ECF6\",\"showlakes\":true,\"showland\":true,\"subunitcolor\":\"white\"},\"hoverlabel\":{\"align\":\"left\"},\"hovermode\":\"closest\",\"mapbox\":{\"style\":\"light\"},\"paper_bgcolor\":\"white\",\"plot_bgcolor\":\"#E5ECF6\",\"polar\":{\"angularaxis\":{\"gridcolor\":\"white\",\"linecolor\":\"white\",\"ticks\":\"\"},\"bgcolor\":\"#E5ECF6\",\"radialaxis\":{\"gridcolor\":\"white\",\"linecolor\":\"white\",\"ticks\":\"\"}},\"scene\":{\"xaxis\":{\"backgroundcolor\":\"#E5ECF6\",\"gridcolor\":\"white\",\"gridwidth\":2,\"linecolor\":\"white\",\"showbackground\":true,\"ticks\":\"\",\"zerolinecolor\":\"white\"},\"yaxis\":{\"backgroundcolor\":\"#E5ECF6\",\"gridcolor\":\"white\",\"gridwidth\":2,\"linecolor\":\"white\",\"showbackground\":true,\"ticks\":\"\",\"zerolinecolor\":\"white\"},\"zaxis\":{\"backgroundcolor\":\"#E5ECF6\",\"gridcolor\":\"white\",\"gridwidth\":2,\"linecolor\":\"white\",\"showbackground\":true,\"ticks\":\"\",\"zerolinecolor\":\"white\"}},\"shapedefaults\":{\"line\":{\"color\":\"#2a3f5f\"}},\"ternary\":{\"aaxis\":{\"gridcolor\":\"white\",\"linecolor\":\"white\",\"ticks\":\"\"},\"baxis\":{\"gridcolor\":\"white\",\"linecolor\":\"white\",\"ticks\":\"\"},\"bgcolor\":\"#E5ECF6\",\"caxis\":{\"gridcolor\":\"white\",\"linecolor\":\"white\",\"ticks\":\"\"}},\"title\":{\"x\":0.05},\"xaxis\":{\"automargin\":true,\"gridcolor\":\"white\",\"linecolor\":\"white\",\"ticks\":\"\",\"title\":{\"standoff\":15},\"zerolinecolor\":\"white\",\"zerolinewidth\":2},\"yaxis\":{\"automargin\":true,\"gridcolor\":\"white\",\"linecolor\":\"white\",\"ticks\":\"\",\"title\":{\"standoff\":15},\"zerolinecolor\":\"white\",\"zerolinewidth\":2}}},\"xaxis\":{\"anchor\":\"y\",\"domain\":[0.0,1.0],\"title\":{\"text\":\"x\"}},\"yaxis\":{\"anchor\":\"x\",\"domain\":[0.0,1.0],\"title\":{\"text\":\"y\"}},\"legend\":{\"tracegroupgap\":0},\"margin\":{\"t\":60}},                        {\"responsive\": true}                    ).then(function(){\n",
              "                            \n",
              "var gd = document.getElementById('52a32b32-7fd4-4b28-9204-4353d14e567f');\n",
              "var x = new MutationObserver(function (mutations, observer) {{\n",
              "        var display = window.getComputedStyle(gd).display;\n",
              "        if (!display || display === 'none') {{\n",
              "            console.log([gd, 'removed!']);\n",
              "            Plotly.purge(gd);\n",
              "            observer.disconnect();\n",
              "        }}\n",
              "}});\n",
              "\n",
              "// Listen for the removal of the full notebook cells\n",
              "var notebookContainer = gd.closest('#notebook-container');\n",
              "if (notebookContainer) {{\n",
              "    x.observe(notebookContainer, {childList: true});\n",
              "}}\n",
              "\n",
              "// Listen for the clearing of the current output cell\n",
              "var outputEl = gd.closest('.output');\n",
              "if (outputEl) {{\n",
              "    x.observe(outputEl, {childList: true});\n",
              "}}\n",
              "\n",
              "                        })                };                            </script>        </div>\n",
              "</body>\n",
              "</html>"
            ]
          },
          "metadata": {}
        }
      ]
    },
    {
      "cell_type": "code",
      "source": [
        "vectors, labels = reduce_dimensions(w2v_model, num_dimensions=3)\n",
        "x_vals = [v[0] for v in vectors]\n",
        "y_vals = [v[1] for v in vectors]\n",
        "z_vals = [v[2] for v in vectors]\n",
        "\n",
        "MAX_WORDS = 400\n",
        "fig = px.scatter_3d(x=x_vals[:MAX_WORDS], y=y_vals[:MAX_WORDS], z=z_vals[:MAX_WORDS], text=labels[:MAX_WORDS], size_max=18, opacity=0.7)\n",
        "fig.update_layout(margin=dict(l=0, r=0, b=0, t=0))\n",
        "fig.show(renderer=\"colab\")"
      ],
      "metadata": {
        "colab": {
          "base_uri": "https://localhost:8080/",
          "height": 681
        },
        "id": "wHNKQffykk0M",
        "outputId": "505a525f-83a5-40a8-edd0-3f903b9d802f"
      },
      "execution_count": 18,
      "outputs": [
        {
          "output_type": "stream",
          "name": "stderr",
          "text": [
            "/usr/local/lib/python3.7/dist-packages/sklearn/manifold/_t_sne.py:783: FutureWarning:\n",
            "\n",
            "The default initialization in TSNE will change from 'random' to 'pca' in 1.2.\n",
            "\n",
            "/usr/local/lib/python3.7/dist-packages/sklearn/manifold/_t_sne.py:793: FutureWarning:\n",
            "\n",
            "The default learning rate in TSNE will change from 200.0 to 'auto' in 1.2.\n",
            "\n"
          ]
        },
        {
          "output_type": "display_data",
          "data": {
            "text/html": [
              "<html>\n",
              "<head><meta charset=\"utf-8\" /></head>\n",
              "<body>\n",
              "    <div>            <script src=\"https://cdnjs.cloudflare.com/ajax/libs/mathjax/2.7.5/MathJax.js?config=TeX-AMS-MML_SVG\"></script><script type=\"text/javascript\">if (window.MathJax) {MathJax.Hub.Config({SVG: {font: \"STIX-Web\"}});}</script>                <script type=\"text/javascript\">window.PlotlyConfig = {MathJaxConfig: 'local'};</script>\n",
              "        <script src=\"https://cdn.plot.ly/plotly-2.8.3.min.js\"></script>                <div id=\"b47e2827-f203-4a46-8318-1cdbfc579c6a\" class=\"plotly-graph-div\" style=\"height:525px; width:100%;\"></div>            <script type=\"text/javascript\">                                    window.PLOTLYENV=window.PLOTLYENV || {};                                    if (document.getElementById(\"b47e2827-f203-4a46-8318-1cdbfc579c6a\")) {                    Plotly.newPlot(                        \"b47e2827-f203-4a46-8318-1cdbfc579c6a\",                        [{\"hovertemplate\":\"x=%{x}<br>y=%{y}<br>z=%{z}<br>text=%{text}<extra></extra>\",\"legendgroup\":\"\",\"marker\":{\"color\":\"#636efa\",\"opacity\":0.7,\"symbol\":\"circle\"},\"mode\":\"markers+text\",\"name\":\"\",\"scene\":\"scene\",\"showlegend\":false,\"text\":[\"the\",\"i\",\"you\",\"and\",\"to\",\"a\",\"me\",\"my\",\"it\",\"in\",\"that\",\"on\",\"of\",\"your\",\"i'm\",\"like\",\"all\",\"is\",\"be\",\"we\",\"for\",\"up\",\"so\",\"with\",\"know\",\"love\",\"but\",\"just\",\"don't\",\"no\",\"oh\",\"got\",\"this\",\"get\",\"what\",\"when\",\"do\",\"yeah\",\"they\",\"now\",\"baby\",\"if\",\"go\",\"can\",\"she\",\"out\",\"was\",\"it's\",\"one\",\"down\",\"want\",\"he\",\"see\",\"come\",\"her\",\"say\",\"not\",\"at\",\"make\",\"time\",\"from\",\"back\",\"have\",\"are\",\"you're\",\"how\",\"let\",\"never\",\"girl\",\"as\",\"take\",\"man\",\"right\",\"way\",\"wanna\",\"will\",\"im\",\"can't\",\"ain't\",\"there\",\"need\",\"tell\",\"then\",\"gonna\",\"here\",\"more\",\"some\",\"i'll\",\"u\",\"feel\",\"too\",\"where\",\"his\",\"could\",\"been\",\"said\",\"'cause\",\"life\",\"good\",\"who\",\"them\",\"or\",\"about\",\"shit\",\"give\",\"why\",\"night\",\"had\",\"little\",\"off\",\"day\",\"still\",\"by\",\"that's\",\"la\",\"only\",\"ya\",\"think\",\"cause\",\"keep\",\"fuck\",\"bitch\",\"us\",\"through\",\"every\",\"look\",\"hey\",\"well\",\"away\",\"around\",\"these\",\"would\",\"heart\",\"him\",\"world\",\"money\",\"gotta\",\"over\",\"its\",\"dont\",\"put\",\"i've\",\"new\",\"better\",\"am\",\"call\",\"our\",\"ever\",\"bad\",\"boy\",\"2\",\"home\",\"an\",\"long\",\"stop\",\"even\",\"really\",\"than\",\"big\",\"did\",\"we're\",\"won't\",\"mind\",\"again\",\"nigga\",\"always\",\"there's\",\"aint\",\"da\",\"ooh\",\"were\",\"hold\",\"much\",\"things\",\"people\",\"thing\",\"nothing\",\"before\",\"head\",\"niggas\",\"show\",\"hear\",\"'em\",\"name\",\"everything\",\"uh\",\"going\",\"ass\",\"yo\",\"hard\",\"na\",\"hit\",\"god\",\"leave\",\"try\",\"gone\",\"eyes\",\"find\",\"live\",\"turn\",\"another\",\"should\",\"something\",\"talk\",\"real\",\"play\",\"she's\",\"face\",\"let's\",\"everybody\",\"old\",\"please\",\"light\",\"two\",\"believe\",\"mine\",\"high\",\"tonight\",\"made\",\"stay\",\"dance\",\"alone\",\"last\",\"into\",\"told\",\"best\",\"work\",\"hand\",\"ah\",\"chorus\",\"nixga\",\"body\",\"while\",\"yes\",\"die\",\"hot\",\"first\",\"their\",\"mean\",\"i'd\",\"came\",\"left\",\"nobody\",\"thats\",\"run\",\"place\",\"other\",\"wait\",\"stand\",\"cry\",\"same\",\"done\",\"em\",\"without\",\"fly\",\"bitches\",\"black\",\"wish\",\"girls\",\"friends\",\"whole\",\"enough\",\"damn\",\"wrong\",\"you'll\",\"thought\",\"hands\",\"free\",\"whoa\",\"alright\",\"crazy\",\"sky\",\"has\",\"fire\",\"game\",\"he's\",\"young\",\"cant\",\"somebody\",\"together\",\"care\",\"must\",\"maybe\",\"coming\",\"own\",\"move\",\"used\",\"end\",\"went\",\"rock\",\"fall\",\"inside\",\"heard\",\"ready\",\"party\",\"myself\",\"side\",\"you've\",\"break\",\"help\",\"many\",\"we'll\",\"bring\",\"looking\",\"music\",\"watch\",\"because\",\"sun\",\"friend\",\"guess\",\"remember\",\"touch\",\"ride\",\"ask\",\"seen\",\"trying\",\"walk\",\"door\",\"forever\",\"might\",\"sing\",\"knows\",\"next\",\"round\",\"4\",\"though\",\"soul\",\"lost\",\"lord\",\"house\",\"feeling\",\"song\",\"lie\",\"someone\",\"after\",\"start\",\"dream\",\"hope\",\"took\",\"change\",\"white\",\"kiss\",\"cold\",\"true\",\"beat\",\"pussy\",\"far\",\"top\",\"till\",\"goes\",\"waiting\",\"mama\",\"sweet\",\"woman\",\"matter\",\"didn't\",\"morning\",\"until\",\"knew\",\"biggie\",\"floor\",\"getting\",\"happy\",\"may\",\"huh\",\"rain\",\"room\",\"sometimes\",\"miss\",\"hate\",\"once\",\"y'all\",\"what's\",\"eh\",\"shot\",\"days\",\"town\",\"since\",\"babe\",\"honey\",\"bed\",\"lose\",\"comes\",\"lay\",\"smile\",\"nixgas\",\"lights\",\"blue\",\"road\",\"hair\",\"dead\",\"blow\",\"lot\",\"three\",\"roll\",\"hoes\",\"cut\",\"deep\",\"any\",\"each\"],\"x\":[-7.08326530456543,-6.086596488952637,-5.318950653076172,-4.915380954742432,1.967471957206726,-6.222057342529297,-4.738110542297363,-8.344574928283691,4.593024253845215,3.0802974700927734,-8.317269325256348,-2.2648446559906006,3.5213584899902344,-2.4785289764404297,21.9049015045166,-1.0629563331604004,5.038455486297607,-1.9559334516525269,3.6929807662963867,-7.452950477600098,-4.725924968719482,-6.157926559448242,2.391571044921875,-2.905095100402832,-0.4038173258304596,4.214234828948975,-1.5352787971496582,5.380977153778076,-1.5557923316955566,1.0707138776779175,-32.16333770751953,-9.092089653015137,-9.72586441040039,-3.0974881649017334,4.31467866897583,0.013649741187691689,-1.0700701475143433,-14.350348472595215,-4.275480270385742,-0.8223143815994263,-3.4098808765411377,-5.493648052215576,6.339199066162109,-35.06598663330078,-4.816333770751953,7.610141277313232,-5.866154670715332,-3.2733395099639893,-3.1763339042663574,-7.775968551635742,-0.9131131768226624,-30.862838745117188,-1.5795954465866089,-48.092079162597656,2.448462724685669,0.5071337223052979,7.929570198059082,2.1849632263183594,6.509838104248047,-9.109338760375977,6.639437675476074,6.438487529754639,0.8694477081298828,-9.536303520202637,19.9161434173584,7.706874847412109,-11.639913558959961,4.575503349304199,5.537636756896973,17.90237045288086,-28.67302894592285,6.756332874298096,2.915994644165039,-5.795382499694824,-4.5644917488098145,-40.45736312866211,11.68964672088623,-21.56097984313965,-0.6360477805137634,-4.445769786834717,6.9427385330200195,-6.481876373291016,-1.1039080619812012,-1.1300405263900757,-36.74929428100586,11.235315322875977,9.348004341125488,-22.394508361816406,-2.8882193565368652,0.6581834554672241,22.292633056640625,3.465257167816162,-30.453933715820312,-11.028947830200195,20.114097595214844,-35.67146301269531,5.258800029754639,-36.98368453979492,9.801655769348145,11.929861068725586,8.067460060119629,-12.310943603515625,-21.19525146484375,-12.357881546020508,-13.401515007019043,-32.962608337402344,6.382813930511475,-11.677571296691895,41.08796691894531,-1.4282402992248535,5.745616436004639,-11.138968467712402,-5.335536956787109,2.517585039138794,-24.765256881713867,7.505072593688965,-42.059425354003906,3.269172191619873,2.8216378688812256,1.0968972444534302,3.4488298892974854,1.3434250354766846,-32.529273986816406,4.702099323272705,-1.9148744344711304,13.124018669128418,-0.9408956170082092,2.908193588256836,-45.05965042114258,-2.133601427078247,11.828361511230469,8.004545211791992,-13.834478378295898,-8.342507362365723,7.847794532775879,7.879664421081543,-11.434793472290039,-15.443692207336426,29.73337173461914,-1.4178063869476318,-31.949451446533203,-14.841008186340332,13.05259895324707,17.408004760742188,-12.32879638671875,-17.91305160522461,-25.657804489135742,-5.403395652770996,22.948516845703125,25.17973518371582,2.299983024597168,-23.246761322021484,-26.044837951660156,23.989084243774414,14.830375671386719,8.378388404846191,-1.22976553440094,4.826128959655762,35.48554611206055,-10.385419845581055,13.863155364990234,-26.8870792388916,-2.527392864227295,2.8771510124206543,22.60707664489746,5.542812824249268,-53.09178161621094,-5.146231174468994,-23.66216278076172,-5.910256385803223,8.687755584716797,-49.941165924072266,17.918941497802734,-50.37461471557617,-7.794659614562988,-12.81471061706543,9.507817268371582,1.0716757774353027,-32.52435302734375,46.092830657958984,-3.537245273590088,-27.5039005279541,-13.596863746643066,-20.228763580322266,6.244823932647705,-6.0268235206604,-10.021159172058105,30.013446807861328,-35.529666900634766,25.049938201904297,-20.776630401611328,-44.70528030395508,-37.592018127441406,-42.226524353027344,-23.25172996520996,1.7946197986602783,-8.51902961730957,0.1651286482810974,-30.465967178344727,-10.179372787475586,-51.202720642089844,-24.376813888549805,-7.848292827606201,-0.7058373093605042,29.414134979248047,-1.5356495380401611,21.854724884033203,7.394390106201172,-53.02412033081055,-4.262549877166748,13.91033935546875,-37.247039794921875,-14.355409622192383,26.099191665649414,-17.225643157958984,44.63007736206055,-21.193584442138672,31.873584747314453,1.4473170042037964,-0.23313772678375244,-24.088783264160156,-41.9333610534668,-7.146519660949707,38.9599609375,-28.9139347076416,-6.538418292999268,-9.062440872192383,-57.04585647583008,-4.724631309509277,-21.843652725219727,-7.112476825714111,-36.128936767578125,-5.4803571701049805,-10.7365140914917,-13.653643608093262,50.017250061035156,-12.071937561035156,50.70571517944336,-9.278033256530762,-8.051945686340332,-16.487245559692383,4.008674621582031,-1.4966567754745483,11.26340103149414,17.91642189025879,14.849226951599121,45.985015869140625,16.387168884277344,-17.700647354125977,-0.7661871314048767,20.698917388916016,8.572099685668945,-1.7776286602020264,-8.616938591003418,-14.385710716247559,53.56045150756836,55.20494079589844,-35.2398567199707,47.31875991821289,14.930818557739258,-16.322261810302734,-7.964937686920166,6.7997331619262695,0.015204183757305145,-62.29814910888672,-10.83089542388916,-25.74793815612793,-52.36040496826172,-21.659643173217773,-6.30294942855835,24.059524536132812,6.55702543258667,-23.522294998168945,40.212764739990234,-4.493058681488037,-14.72981071472168,31.896528244018555,-21.176143646240234,-9.249038696289062,1.7906012535095215,-11.006911277770996,-4.906278610229492,6.610722541809082,14.792855262756348,-14.717949867248535,26.21470832824707,-54.230018615722656,-11.010207176208496,-23.452804565429688,23.76995277404785,-27.505130767822266,-41.478515625,-19.639808654785156,-28.338512420654297,38.12000274658203,-35.26521682739258,-33.17929458618164,-25.821868896484375,-33.55592727661133,-30.29653549194336,31.312074661254883,-15.051127433776855,26.029531478881836,32.6162109375,9.140304565429688,-46.624046325683594,42.75210952758789,-1.6705058813095093,-62.695194244384766,3.6534247398376465,-23.725736618041992,-2.9038524627685547,43.91084289550781,-41.52122497558594,-9.229727745056152,-31.621501922607422,-27.36335563659668,-17.361478805541992,-53.01813507080078,-18.245098114013672,28.224960327148438,3.3252806663513184,-15.158641815185547,-23.15531349182129,-27.138675689697266,4.324057102203369,18.123973846435547,32.51757049560547,-39.68050765991211,-26.528995513916016,-4.237946510314941,-15.260266304016113,-11.14635181427002,0.7010452747344971,13.534539222717285,5.99266242980957,41.55131912231445,17.545429229736328,21.092769622802734,21.206764221191406,48.9246940612793,5.767416477203369,13.506034851074219,31.820207595825195,3.6086063385009766,37.39032745361328,23.249950408935547,26.267765045166016,10.743186950683594,-3.151543617248535,4.336570739746094,-27.336231231689453,-61.826881408691406,-53.64573287963867,25.098377227783203,-1.4056107997894287,-37.923004150390625,-22.340927124023438,18.687854766845703,23.959543228149414,-41.93165969848633,-2.9677066802978516,14.536980628967285,-16.342262268066406,-1.3728736639022827,-10.552977561950684,-3.768446207046509,-24.610759735107422,21.32064437866211,-3.5449700355529785,10.325749397277832,1.147473931312561,-23.437339782714844,-24.19283103942871,-42.30655288696289,25.94526481628418,6.826840877532959,-42.00503158569336,-26.2474365234375,20.5106143951416,-25.419025421142578,7.726504325866699,-38.19865417480469,-25.29619598388672,-0.9783580899238586,43.772212982177734,31.698665618896484,20.686717987060547,-11.902933120727539,-41.11669921875,31.902616500854492,-2.9579977989196777,47.84297561645508,36.2260627746582,24.64555549621582,45.349117279052734,-6.861846446990967,43.957035064697266,-1.8745721578598022,-34.54673767089844],\"y\":[3.1952996253967285,18.18741798400879,18.495996475219727,11.70637035369873,9.677125930786133,8.715680122375488,15.826165199279785,10.260127067565918,8.68101978302002,5.827873706817627,7.284569263458252,3.2320756912231445,1.8020737171173096,8.468916893005371,56.6997184753418,0.6504442095756531,3.8236162662506104,14.183771133422852,12.5178861618042,15.661930084228516,0.1751442700624466,4.166872978210449,0.6616098284721375,12.407327651977539,19.366439819335938,15.579997062683105,11.382987976074219,5.570464134216309,48.04594802856445,20.527151107788086,37.16622543334961,2.2025156021118164,3.8946073055267334,-0.8824273347854614,19.473814010620117,7.197016716003418,22.055953979492188,58.69580841064453,16.78826332092285,2.0161266326904297,36.312503814697266,12.779430389404297,0.8697112202644348,29.324892044067383,20.679964065551758,10.490838050842285,4.52288818359375,17.655994415283203,4.777371406555176,-4.584684371948242,27.219806671142578,-5.950368404388428,15.220006942749023,35.560516357421875,1.2920888662338257,13.706477165222168,25.33129119873047,2.8950304985046387,9.886164665222168,7.770633697509766,5.481339931488037,10.010313987731934,13.615692138671875,25.866960525512695,53.743194580078125,11.198079109191895,19.21552276611328,2.0430586338043213,58.16558074951172,10.01845645904541,42.29179763793945,2.3993797302246094,25.54340934753418,-4.7696852684021,57.71622848510742,26.33501625061035,-4.9640278816223145,60.04680633544922,24.41681480407715,2.022397518157959,16.903078079223633,29.175447463989258,0.7587376832962036,64.47001647949219,0.3651488721370697,22.063386917114258,7.210677623748779,31.47580337524414,18.950740814208984,30.689605712890625,11.4532470703125,3.9996066093444824,11.32717514038086,5.827340602874756,11.271244049072266,43.31277847290039,14.43494701385498,-9.015231132507324,36.01346969604492,37.27567672729492,6.387085914611816,11.81555461883545,37.914207458496094,27.422779083251953,4.919794082641602,40.44524002075195,-9.018294334411621,1.6160818338394165,43.32339096069336,-13.299173355102539,-1.3352930545806885,7.235418319702148,-14.409375190734863,16.41710090637207,-3.4510140419006348,24.0944766998291,9.843077659606934,21.489532470703125,13.030609130859375,-3.8596699237823486,43.71112823486328,10.654412269592285,21.10789680480957,-0.5358089208602905,10.927929878234863,11.913914680480957,16.824045181274414,10.749619483947754,30.033227920532227,-6.39415979385376,-18.879531860351562,-8.554298400878906,20.48871612548828,-0.5783743858337402,3.2677223682403564,18.11337661743164,17.169719696044922,-8.727683067321777,12.591095924377441,47.679969787597656,-16.547700881958008,10.482964515686035,27.166168212890625,40.241233825683594,34.319664001464844,27.494808197021484,-7.313381195068359,22.350727081298828,39.89002990722656,45.750919342041016,11.211624145507812,-7.734548568725586,-8.568726539611816,15.533772468566895,30.370363235473633,25.476106643676758,24.9428653717041,19.953155517578125,-10.250993728637695,3.4567766189575195,60.6500244140625,54.125953674316406,-6.351808071136475,23.225460052490234,14.494132041931152,50.31375503540039,33.91836166381836,26.203596115112305,10.598636627197266,31.30079460144043,-12.005544662475586,13.96768856048584,21.23404884338379,36.79253387451172,40.637760162353516,12.666153907775879,42.99407196044922,-6.9619035720825195,-20.44428825378418,-10.422890663146973,21.392961502075195,13.71489143371582,6.326319694519043,24.20336151123047,32.050655364990234,29.44049644470215,18.396841049194336,-38.94145965576172,-2.8129758834838867,12.845664024353027,18.96255111694336,13.255542755126953,27.30135154724121,5.825901985168457,32.040077209472656,17.661380767822266,23.92406463623047,-8.080506324768066,-11.123525619506836,-7.748270511627197,17.77239227294922,39.84403610229492,28.032968521118164,24.385753631591797,25.707571029663086,24.10820198059082,8.649682998657227,-43.711952209472656,42.525386810302734,31.809059143066406,-0.7912515997886658,39.55910873413086,-45.99384689331055,-13.597671508789062,23.047414779663086,22.011253356933594,-49.4663200378418,26.426877975463867,11.97293758392334,-3.826697587966919,42.462772369384766,9.767026901245117,-2.444333791732788,28.930862426757812,28.611557006835938,55.5976676940918,33.513248443603516,9.840001106262207,4.431164741516113,35.70906066894531,57.19141387939453,-12.035045623779297,-24.81132698059082,55.57023239135742,31.925535202026367,14.967669486999512,2.3097188472747803,-26.033370971679688,31.692289352416992,47.08290481567383,-26.41404151916504,24.161149978637695,29.715328216552734,60.63365173339844,46.5664176940918,-6.3869733810424805,2.9790542125701904,17.121675491333008,-1.632644534111023,36.071083068847656,21.416248321533203,0.4759747385978699,59.40734100341797,62.18073654174805,-50.71331024169922,4.639072895050049,-25.58145523071289,10.687727928161621,27.2157039642334,12.452319145202637,-49.14046096801758,-7.3194661140441895,66.30218505859375,22.54962158203125,14.887456893920898,15.399092674255371,-31.255168914794922,30.502138137817383,34.086612701416016,32.67839431762695,22.116601943969727,-36.3568229675293,6.665224552154541,26.689414978027344,24.582612991333008,-6.017424583435059,22.88221549987793,60.49176025390625,28.63041114807129,27.61232566833496,13.149651527404785,8.990772247314453,15.326671600341797,6.562483787536621,8.320622444152832,-6.085112571716309,-1.3136249780654907,22.65478515625,-3.6831791400909424,-9.12535572052002,14.676021575927734,24.973968505859375,11.137100219726562,48.09637451171875,25.106081008911133,42.55048751831055,-43.11237335205078,-7.778141498565674,26.52886390686035,51.98743438720703,12.545811653137207,25.83136558532715,3.848706007003784,27.151514053344727,42.03610610961914,3.6956214904785156,14.799753189086914,-40.415740966796875,26.05119514465332,28.905057907104492,52.37147521972656,52.45225524902344,7.72357177734375,41.87016677856445,10.932419776916504,29.092329025268555,3.5893781185150146,-40.55510711669922,-2.1197779178619385,6.757250785827637,23.353845596313477,27.205171585083008,25.480812072753906,-22.673274993896484,16.40216827392578,32.49045944213867,52.11660385131836,21.818012237548828,20.879718780517578,-17.100080490112305,23.42426300048828,17.92420196533203,27.666854858398438,20.09214973449707,1.4821398258209229,6.424739360809326,27.259164810180664,51.26508331298828,-33.9202880859375,15.091635704040527,-26.899078369140625,18.181156158447266,-26.30784034729004,26.802371978759766,23.702394485473633,-9.365700721740723,19.60821533203125,11.626063346862793,13.044815063476562,-32.100772857666016,-54.416603088378906,32.478580474853516,-29.387792587280273,9.135568618774414,36.196475982666016,49.13775634765625,-46.4267692565918,-17.926794052124023,4.1632232666015625,-1.445202112197876,-48.42188262939453,8.529879570007324,25.305971145629883,9.08215618133545,27.930322647094727,-36.54899978637695,-52.839759826660156,24.0175724029541,44.12157440185547,30.71857261657715,-6.958662986755371,36.3453254699707,56.47468185424805,25.151031494140625,1.1152112483978271,-7.263216018676758,-1.4911311864852905,-20.853775024414062,36.03766632080078,60.549076080322266,-33.657752990722656,-2.378812074661255,30.450450897216797,-21.487119674682617,-27.233074188232422,-4.905603885650635,-45.373592376708984,-48.948211669921875,-20.476703643798828,-16.554141998291016,-19.17877197265625,-9.405258178710938,21.961374282836914,-23.257305145263672,-14.157536506652832,-6.815264701843262,-10.033061981201172,38.18068313598633,12.406340599060059,-35.67365646362305],\"z\":[-13.760078430175781,-14.446589469909668,-16.540742874145508,-16.470678329467773,-20.03432273864746,-18.67061424255371,-18.424514770507812,-12.076682090759277,-16.382122039794922,-18.736379623413086,-15.76565170288086,-6.365271091461182,-9.274799346923828,-20.55266761779785,-4.891359329223633,-13.687100410461426,-15.54141902923584,-15.198830604553223,-10.64604377746582,-15.087960243225098,-13.95662784576416,-9.256179809570312,-12.336740493774414,-7.655837535858154,-10.931251525878906,-14.232894897460938,-18.371179580688477,-10.918824195861816,-22.570703506469727,-19.381677627563477,26.950109481811523,-17.604942321777344,-10.938572883605957,-5.714348793029785,-11.890810012817383,-4.099178791046143,-14.279642105102539,-1.7904044389724731,-12.795146942138672,-17.81572914123535,-11.037332534790039,-12.404570579528809,-3.5671191215515137,-43.9716796875,-12.174758911132812,-12.69286823272705,-17.0930118560791,-22.972332000732422,-19.68985366821289,-10.413920402526855,-14.91073989868164,28.19992446899414,-9.946673393249512,-19.026901245117188,-16.07917594909668,-6.167745590209961,-42.74791717529297,-5.705183982849121,-8.767160415649414,-8.84347915649414,-7.351404190063477,-19.77151107788086,-12.872481346130371,1.8824619054794312,-9.854381561279297,-4.746760368347168,11.310321807861328,-19.883813858032227,11.494357109069824,-19.515018463134766,-40.5669059753418,-11.700252532958984,-14.238956451416016,-14.8518648147583,-24.860206604003906,-39.054603576660156,46.97309875488281,-11.471902847290039,-17.864084243774414,-46.42711639404297,-0.6924380660057068,-41.57730484008789,-9.698943138122559,-26.173368453979492,-16.618959426879883,-6.334744453430176,-10.197301864624023,-40.94606018066406,-16.933191299438477,-16.23499298095703,-14.663630485534668,-2.442629337310791,-43.80046463012695,-19.379863739013672,-9.772869110107422,-28.377437591552734,-7.3402910232543945,-5.267654895782471,-24.63829803466797,-34.78862380981445,-14.44704532623291,-12.617040634155273,-6.945570945739746,-45.414085388183594,-15.980352401733398,-4.170277118682861,-38.44658660888672,-13.933066368103027,27.347745895385742,3.3875820636749268,-16.42903709411621,-12.831657409667969,-18.005037307739258,-23.2736759185791,33.67127227783203,-29.85255241394043,23.792041778564453,-15.55020809173584,-17.653118133544922,0.6913231015205383,-36.01384735107422,-3.040898323059082,-14.894606590270996,-0.2570589482784271,-26.138402938842773,-36.87839126586914,45.642120361328125,-7.198420524597168,-19.580570220947266,-17.579837799072266,-14.643669128417969,-22.10293197631836,-18.7668399810791,-11.920650482177734,-30.06464195251465,-14.361966133117676,3.0347304344177246,-9.193794250488281,-37.755859375,-24.99598503112793,0.7673354148864746,-54.9171028137207,-41.596893310546875,-28.69603157043457,0.8074052333831787,4.954174995422363,-11.052389144897461,-16.423341751098633,17.700729370117188,40.23723602294922,-21.790496826171875,-57.20540237426758,9.16083812713623,-20.842580795288086,0.8791400790214539,-5.731745719909668,-10.994587898254395,-23.029802322387695,22.567466735839844,-6.9178266525268555,-24.195085525512695,28.37739372253418,1.8708609342575073,-10.619297981262207,35.83249282836914,-26.884395599365234,21.74420738220215,-19.478137969970703,35.240989685058594,25.196502685546875,-19.703052520751953,-7.94349479675293,-6.341019153594971,-12.940308570861816,-47.094478607177734,-24.003326416015625,-35.278045654296875,-38.670711517333984,-2.808293342590332,-18.452260971069336,-21.440513610839844,-27.78989028930664,-9.254881858825684,9.785496711730957,-50.15385818481445,43.14674758911133,-38.67201614379883,-10.454476356506348,50.880802154541016,-25.467510223388672,38.29970169067383,7.92056131362915,5.5245890617370605,-11.445876121520996,-15.460803985595703,-67.13920593261719,-28.46360206604004,-42.54777145385742,-8.512469291687012,-13.438394546508789,-18.629793167114258,-10.343228340148926,-23.79629135131836,-22.654300689697266,8.859540939331055,6.978244781494141,-7.382078647613525,9.555702209472656,-10.994827270507812,0.9786069989204407,28.91179847717285,-2.0111827850341797,-24.407176971435547,-57.017642974853516,-32.837684631347656,-33.70540237426758,10.11719799041748,-8.202978134155273,-27.97696304321289,-45.65553283691406,17.26022720336914,-10.484562873840332,-39.169830322265625,45.52800369262695,-9.991463661193848,-34.65855026245117,-36.8089599609375,-13.81005573272705,60.69924545288086,38.303993225097656,7.450003147125244,-35.875526428222656,1.021211862564087,-27.613422393798828,-24.34706687927246,-43.278926849365234,6.495243549346924,-23.88518714904785,-3.741352081298828,-19.897537231445312,-5.476958751678467,-18.935836791992188,-11.277883529663086,25.61275291442871,-23.916223526000977,-2.1833770275115967,-39.852439880371094,-4.508343696594238,0.7762401103973389,-26.879507064819336,-48.794395446777344,-49.41334915161133,22.49727439880371,-12.80018138885498,8.613510131835938,-18.60236930847168,-5.596498489379883,-31.178863525390625,-5.845887184143066,-5.838921070098877,2.156142473220825,-32.927921295166016,-11.056477546691895,-38.53371047973633,-0.791817843914032,-29.223112106323242,-8.24590015411377,-29.43216323852539,25.537817001342773,29.919269561767578,-41.187103271484375,-21.763126373291016,-60.06830978393555,1.9911713600158691,14.578774452209473,-4.64577054977417,16.941511154174805,-8.210698127746582,-31.447708129882812,-25.86039161682129,55.73627471923828,-37.66841506958008,-48.23578643798828,-48.50139617919922,1.137953519821167,-6.511070728302002,23.695466995239258,-15.692170143127441,-27.178354263305664,15.752422332763672,-21.034231185913086,-16.660966873168945,-38.90899658203125,-28.459278106689453,-11.701765060424805,-21.56890869140625,-23.978378295898438,-21.063852310180664,-25.305099487304688,3.445667028427124,-15.86771297454834,-40.03876495361328,15.506669998168945,-30.80736541748047,24.948177337646484,-16.130596160888672,-40.085655212402344,-25.936901092529297,9.691731452941895,-41.89118576049805,-4.539279937744141,3.246675491333008,35.01620864868164,7.48936128616333,-34.224609375,-29.29414939880371,-3.66703724861145,-16.54465103149414,6.901434421539307,-9.336685180664062,-57.68852615356445,-36.04047393798828,-61.075836181640625,20.187606811523438,27.047218322753906,-4.659610271453857,12.761678695678711,-10.585064888000488,0.5718308687210083,8.883440017700195,-31.65876007080078,20.499366760253906,-17.20181655883789,-24.07892608642578,-41.0414924621582,7.8047637939453125,-42.298946380615234,6.8124589920043945,-56.1177864074707,-45.769309997558594,-3.1047606468200684,25.34827423095703,-29.67833137512207,-35.664588928222656,20.215356826782227,-54.47226333618164,-23.049415588378906,61.13335037231445,-11.445280075073242,-36.3231315612793,-28.46316146850586,23.45412826538086,8.51795482635498,18.777889251708984,7.989287376403809,-20.333200454711914,-9.512131690979004,-14.71213436126709,-10.169492721557617,28.317501068115234,21.417400360107422,-58.612648010253906,-47.28630447387695,-6.7801432609558105,40.86811065673828,-30.02678108215332,-16.896034240722656,-51.476715087890625,-34.04240798950195,-15.401521682739258,-46.79264450073242,-9.626976013183594,9.128273963928223,38.454811096191406,-30.90052032470703,-37.719337463378906,38.900428771972656,29.978178024291992,26.385723114013672,24.441598892211914,4.490382671356201,-1.8628538846969604,-11.956357955932617,5.729330539703369,-40.09477615356445,-17.470613479614258,-23.708120346069336,-8.097321510314941,-11.499703407287598,6.392567157745361,-48.71794509887695,4.878427982330322,-4.662234306335449,1.9226881265640259,16.23574447631836,-20.647579193115234,7.374575138092041,-20.1051025390625,-30.212034225463867,-34.05437088012695],\"type\":\"scatter3d\"}],                        {\"template\":{\"data\":{\"bar\":[{\"error_x\":{\"color\":\"#2a3f5f\"},\"error_y\":{\"color\":\"#2a3f5f\"},\"marker\":{\"line\":{\"color\":\"#E5ECF6\",\"width\":0.5},\"pattern\":{\"fillmode\":\"overlay\",\"size\":10,\"solidity\":0.2}},\"type\":\"bar\"}],\"barpolar\":[{\"marker\":{\"line\":{\"color\":\"#E5ECF6\",\"width\":0.5},\"pattern\":{\"fillmode\":\"overlay\",\"size\":10,\"solidity\":0.2}},\"type\":\"barpolar\"}],\"carpet\":[{\"aaxis\":{\"endlinecolor\":\"#2a3f5f\",\"gridcolor\":\"white\",\"linecolor\":\"white\",\"minorgridcolor\":\"white\",\"startlinecolor\":\"#2a3f5f\"},\"baxis\":{\"endlinecolor\":\"#2a3f5f\",\"gridcolor\":\"white\",\"linecolor\":\"white\",\"minorgridcolor\":\"white\",\"startlinecolor\":\"#2a3f5f\"},\"type\":\"carpet\"}],\"choropleth\":[{\"colorbar\":{\"outlinewidth\":0,\"ticks\":\"\"},\"type\":\"choropleth\"}],\"contour\":[{\"colorbar\":{\"outlinewidth\":0,\"ticks\":\"\"},\"colorscale\":[[0.0,\"#0d0887\"],[0.1111111111111111,\"#46039f\"],[0.2222222222222222,\"#7201a8\"],[0.3333333333333333,\"#9c179e\"],[0.4444444444444444,\"#bd3786\"],[0.5555555555555556,\"#d8576b\"],[0.6666666666666666,\"#ed7953\"],[0.7777777777777778,\"#fb9f3a\"],[0.8888888888888888,\"#fdca26\"],[1.0,\"#f0f921\"]],\"type\":\"contour\"}],\"contourcarpet\":[{\"colorbar\":{\"outlinewidth\":0,\"ticks\":\"\"},\"type\":\"contourcarpet\"}],\"heatmap\":[{\"colorbar\":{\"outlinewidth\":0,\"ticks\":\"\"},\"colorscale\":[[0.0,\"#0d0887\"],[0.1111111111111111,\"#46039f\"],[0.2222222222222222,\"#7201a8\"],[0.3333333333333333,\"#9c179e\"],[0.4444444444444444,\"#bd3786\"],[0.5555555555555556,\"#d8576b\"],[0.6666666666666666,\"#ed7953\"],[0.7777777777777778,\"#fb9f3a\"],[0.8888888888888888,\"#fdca26\"],[1.0,\"#f0f921\"]],\"type\":\"heatmap\"}],\"heatmapgl\":[{\"colorbar\":{\"outlinewidth\":0,\"ticks\":\"\"},\"colorscale\":[[0.0,\"#0d0887\"],[0.1111111111111111,\"#46039f\"],[0.2222222222222222,\"#7201a8\"],[0.3333333333333333,\"#9c179e\"],[0.4444444444444444,\"#bd3786\"],[0.5555555555555556,\"#d8576b\"],[0.6666666666666666,\"#ed7953\"],[0.7777777777777778,\"#fb9f3a\"],[0.8888888888888888,\"#fdca26\"],[1.0,\"#f0f921\"]],\"type\":\"heatmapgl\"}],\"histogram\":[{\"marker\":{\"pattern\":{\"fillmode\":\"overlay\",\"size\":10,\"solidity\":0.2}},\"type\":\"histogram\"}],\"histogram2d\":[{\"colorbar\":{\"outlinewidth\":0,\"ticks\":\"\"},\"colorscale\":[[0.0,\"#0d0887\"],[0.1111111111111111,\"#46039f\"],[0.2222222222222222,\"#7201a8\"],[0.3333333333333333,\"#9c179e\"],[0.4444444444444444,\"#bd3786\"],[0.5555555555555556,\"#d8576b\"],[0.6666666666666666,\"#ed7953\"],[0.7777777777777778,\"#fb9f3a\"],[0.8888888888888888,\"#fdca26\"],[1.0,\"#f0f921\"]],\"type\":\"histogram2d\"}],\"histogram2dcontour\":[{\"colorbar\":{\"outlinewidth\":0,\"ticks\":\"\"},\"colorscale\":[[0.0,\"#0d0887\"],[0.1111111111111111,\"#46039f\"],[0.2222222222222222,\"#7201a8\"],[0.3333333333333333,\"#9c179e\"],[0.4444444444444444,\"#bd3786\"],[0.5555555555555556,\"#d8576b\"],[0.6666666666666666,\"#ed7953\"],[0.7777777777777778,\"#fb9f3a\"],[0.8888888888888888,\"#fdca26\"],[1.0,\"#f0f921\"]],\"type\":\"histogram2dcontour\"}],\"mesh3d\":[{\"colorbar\":{\"outlinewidth\":0,\"ticks\":\"\"},\"type\":\"mesh3d\"}],\"parcoords\":[{\"line\":{\"colorbar\":{\"outlinewidth\":0,\"ticks\":\"\"}},\"type\":\"parcoords\"}],\"pie\":[{\"automargin\":true,\"type\":\"pie\"}],\"scatter\":[{\"marker\":{\"colorbar\":{\"outlinewidth\":0,\"ticks\":\"\"}},\"type\":\"scatter\"}],\"scatter3d\":[{\"line\":{\"colorbar\":{\"outlinewidth\":0,\"ticks\":\"\"}},\"marker\":{\"colorbar\":{\"outlinewidth\":0,\"ticks\":\"\"}},\"type\":\"scatter3d\"}],\"scattercarpet\":[{\"marker\":{\"colorbar\":{\"outlinewidth\":0,\"ticks\":\"\"}},\"type\":\"scattercarpet\"}],\"scattergeo\":[{\"marker\":{\"colorbar\":{\"outlinewidth\":0,\"ticks\":\"\"}},\"type\":\"scattergeo\"}],\"scattergl\":[{\"marker\":{\"colorbar\":{\"outlinewidth\":0,\"ticks\":\"\"}},\"type\":\"scattergl\"}],\"scattermapbox\":[{\"marker\":{\"colorbar\":{\"outlinewidth\":0,\"ticks\":\"\"}},\"type\":\"scattermapbox\"}],\"scatterpolar\":[{\"marker\":{\"colorbar\":{\"outlinewidth\":0,\"ticks\":\"\"}},\"type\":\"scatterpolar\"}],\"scatterpolargl\":[{\"marker\":{\"colorbar\":{\"outlinewidth\":0,\"ticks\":\"\"}},\"type\":\"scatterpolargl\"}],\"scatterternary\":[{\"marker\":{\"colorbar\":{\"outlinewidth\":0,\"ticks\":\"\"}},\"type\":\"scatterternary\"}],\"surface\":[{\"colorbar\":{\"outlinewidth\":0,\"ticks\":\"\"},\"colorscale\":[[0.0,\"#0d0887\"],[0.1111111111111111,\"#46039f\"],[0.2222222222222222,\"#7201a8\"],[0.3333333333333333,\"#9c179e\"],[0.4444444444444444,\"#bd3786\"],[0.5555555555555556,\"#d8576b\"],[0.6666666666666666,\"#ed7953\"],[0.7777777777777778,\"#fb9f3a\"],[0.8888888888888888,\"#fdca26\"],[1.0,\"#f0f921\"]],\"type\":\"surface\"}],\"table\":[{\"cells\":{\"fill\":{\"color\":\"#EBF0F8\"},\"line\":{\"color\":\"white\"}},\"header\":{\"fill\":{\"color\":\"#C8D4E3\"},\"line\":{\"color\":\"white\"}},\"type\":\"table\"}]},\"layout\":{\"annotationdefaults\":{\"arrowcolor\":\"#2a3f5f\",\"arrowhead\":0,\"arrowwidth\":1},\"autotypenumbers\":\"strict\",\"coloraxis\":{\"colorbar\":{\"outlinewidth\":0,\"ticks\":\"\"}},\"colorscale\":{\"diverging\":[[0,\"#8e0152\"],[0.1,\"#c51b7d\"],[0.2,\"#de77ae\"],[0.3,\"#f1b6da\"],[0.4,\"#fde0ef\"],[0.5,\"#f7f7f7\"],[0.6,\"#e6f5d0\"],[0.7,\"#b8e186\"],[0.8,\"#7fbc41\"],[0.9,\"#4d9221\"],[1,\"#276419\"]],\"sequential\":[[0.0,\"#0d0887\"],[0.1111111111111111,\"#46039f\"],[0.2222222222222222,\"#7201a8\"],[0.3333333333333333,\"#9c179e\"],[0.4444444444444444,\"#bd3786\"],[0.5555555555555556,\"#d8576b\"],[0.6666666666666666,\"#ed7953\"],[0.7777777777777778,\"#fb9f3a\"],[0.8888888888888888,\"#fdca26\"],[1.0,\"#f0f921\"]],\"sequentialminus\":[[0.0,\"#0d0887\"],[0.1111111111111111,\"#46039f\"],[0.2222222222222222,\"#7201a8\"],[0.3333333333333333,\"#9c179e\"],[0.4444444444444444,\"#bd3786\"],[0.5555555555555556,\"#d8576b\"],[0.6666666666666666,\"#ed7953\"],[0.7777777777777778,\"#fb9f3a\"],[0.8888888888888888,\"#fdca26\"],[1.0,\"#f0f921\"]]},\"colorway\":[\"#636efa\",\"#EF553B\",\"#00cc96\",\"#ab63fa\",\"#FFA15A\",\"#19d3f3\",\"#FF6692\",\"#B6E880\",\"#FF97FF\",\"#FECB52\"],\"font\":{\"color\":\"#2a3f5f\"},\"geo\":{\"bgcolor\":\"white\",\"lakecolor\":\"white\",\"landcolor\":\"#E5ECF6\",\"showlakes\":true,\"showland\":true,\"subunitcolor\":\"white\"},\"hoverlabel\":{\"align\":\"left\"},\"hovermode\":\"closest\",\"mapbox\":{\"style\":\"light\"},\"paper_bgcolor\":\"white\",\"plot_bgcolor\":\"#E5ECF6\",\"polar\":{\"angularaxis\":{\"gridcolor\":\"white\",\"linecolor\":\"white\",\"ticks\":\"\"},\"bgcolor\":\"#E5ECF6\",\"radialaxis\":{\"gridcolor\":\"white\",\"linecolor\":\"white\",\"ticks\":\"\"}},\"scene\":{\"xaxis\":{\"backgroundcolor\":\"#E5ECF6\",\"gridcolor\":\"white\",\"gridwidth\":2,\"linecolor\":\"white\",\"showbackground\":true,\"ticks\":\"\",\"zerolinecolor\":\"white\"},\"yaxis\":{\"backgroundcolor\":\"#E5ECF6\",\"gridcolor\":\"white\",\"gridwidth\":2,\"linecolor\":\"white\",\"showbackground\":true,\"ticks\":\"\",\"zerolinecolor\":\"white\"},\"zaxis\":{\"backgroundcolor\":\"#E5ECF6\",\"gridcolor\":\"white\",\"gridwidth\":2,\"linecolor\":\"white\",\"showbackground\":true,\"ticks\":\"\",\"zerolinecolor\":\"white\"}},\"shapedefaults\":{\"line\":{\"color\":\"#2a3f5f\"}},\"ternary\":{\"aaxis\":{\"gridcolor\":\"white\",\"linecolor\":\"white\",\"ticks\":\"\"},\"baxis\":{\"gridcolor\":\"white\",\"linecolor\":\"white\",\"ticks\":\"\"},\"bgcolor\":\"#E5ECF6\",\"caxis\":{\"gridcolor\":\"white\",\"linecolor\":\"white\",\"ticks\":\"\"}},\"title\":{\"x\":0.05},\"xaxis\":{\"automargin\":true,\"gridcolor\":\"white\",\"linecolor\":\"white\",\"ticks\":\"\",\"title\":{\"standoff\":15},\"zerolinecolor\":\"white\",\"zerolinewidth\":2},\"yaxis\":{\"automargin\":true,\"gridcolor\":\"white\",\"linecolor\":\"white\",\"ticks\":\"\",\"title\":{\"standoff\":15},\"zerolinecolor\":\"white\",\"zerolinewidth\":2}}},\"scene\":{\"domain\":{\"x\":[0.0,1.0],\"y\":[0.0,1.0]},\"xaxis\":{\"title\":{\"text\":\"x\"}},\"yaxis\":{\"title\":{\"text\":\"y\"}},\"zaxis\":{\"title\":{\"text\":\"z\"}}},\"legend\":{\"tracegroupgap\":0},\"margin\":{\"t\":0,\"l\":0,\"r\":0,\"b\":0}},                        {\"responsive\": true}                    ).then(function(){\n",
              "                            \n",
              "var gd = document.getElementById('b47e2827-f203-4a46-8318-1cdbfc579c6a');\n",
              "var x = new MutationObserver(function (mutations, observer) {{\n",
              "        var display = window.getComputedStyle(gd).display;\n",
              "        if (!display || display === 'none') {{\n",
              "            console.log([gd, 'removed!']);\n",
              "            Plotly.purge(gd);\n",
              "            observer.disconnect();\n",
              "        }}\n",
              "}});\n",
              "\n",
              "// Listen for the removal of the full notebook cells\n",
              "var notebookContainer = gd.closest('#notebook-container');\n",
              "if (notebookContainer) {{\n",
              "    x.observe(notebookContainer, {childList: true});\n",
              "}}\n",
              "\n",
              "// Listen for the clearing of the current output cell\n",
              "var outputEl = gd.closest('.output');\n",
              "if (outputEl) {{\n",
              "    x.observe(outputEl, {childList: true});\n",
              "}}\n",
              "\n",
              "                        })                };                            </script>        </div>\n",
              "</body>\n",
              "</html>"
            ]
          },
          "metadata": {}
        }
      ]
    }
  ]
}