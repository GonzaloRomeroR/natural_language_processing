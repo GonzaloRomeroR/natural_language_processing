{
  "cells": [
    {
      "cell_type": "markdown",
      "metadata": {
        "id": "2-cByPIMTfDa"
      },
      "source": [
        "<img src=\"https://github.com/hernancontigiani/ceia_memorias_especializacion/raw/master/Figures/logoFIUBA.jpg\" width=\"500\" align=\"center\">\n",
        "\n",
        "\n",
        "# Natural language processing\n",
        "## Custom embedddings using Gensim\n",
        "\n"
      ]
    },
    {
      "cell_type": "code",
      "execution_count": 1,
      "metadata": {
        "id": "uWSsV04SToCB"
      },
      "outputs": [],
      "source": [
        "# Import libraries\n",
        "import pandas as pd\n",
        "import matplotlib.pyplot as plt\n",
        "import seaborn as sns\n",
        "import os\n",
        "import platform\n",
        "\n",
        "import multiprocessing\n",
        "from gensim.models import Word2Vec\n",
        "from keras.preprocessing.text import text_to_word_sequence\n",
        "from gensim.models.callbacks import CallbackAny2Vec\n",
        "from sklearn.decomposition import IncrementalPCA    \n",
        "from sklearn.manifold import TSNE                   \n",
        "import numpy as np\n",
        "import plotly.graph_objects as go\n",
        "import plotly.express as px\n",
        "\n"
      ]
    },
    {
      "cell_type": "markdown",
      "metadata": {
        "id": "kiE1N5_PUBL4"
      },
      "source": [
        "### Import dataset"
      ]
    },
    {
      "cell_type": "code",
      "execution_count": 2,
      "metadata": {
        "colab": {
          "base_uri": "https://localhost:8080/"
        },
        "id": "YMYTgl9CUEOh",
        "outputId": "5e366229-fb33-4938-a2b5-2a494cd2c061"
      },
      "outputs": [
        {
          "output_type": "stream",
          "name": "stdout",
          "text": [
            "--2022-03-29 23:26:20--  http://songs_dataset.zip/\n",
            "Resolving songs_dataset.zip (songs_dataset.zip)... failed: Name or service not known.\n",
            "wget: unable to resolve host address ‘songs_dataset.zip’\n",
            "--2022-03-29 23:26:20--  https://github.com/FIUBA-Posgrado-Inteligencia-Artificial/procesamiento_lenguaje_natural/raw/main/datasets/songs_dataset.zip\n",
            "Resolving github.com (github.com)... 140.82.121.4\n",
            "Connecting to github.com (github.com)|140.82.121.4|:443... connected.\n",
            "HTTP request sent, awaiting response... 302 Found\n",
            "Location: https://raw.githubusercontent.com/FIUBA-Posgrado-Inteligencia-Artificial/procesamiento_lenguaje_natural/main/datasets/songs_dataset.zip [following]\n",
            "--2022-03-29 23:26:21--  https://raw.githubusercontent.com/FIUBA-Posgrado-Inteligencia-Artificial/procesamiento_lenguaje_natural/main/datasets/songs_dataset.zip\n",
            "Resolving raw.githubusercontent.com (raw.githubusercontent.com)... 185.199.108.133, 185.199.109.133, 185.199.110.133, ...\n",
            "Connecting to raw.githubusercontent.com (raw.githubusercontent.com)|185.199.108.133|:443... connected.\n",
            "HTTP request sent, awaiting response... 200 OK\n",
            "Length: 2075036 (2.0M) [application/zip]\n",
            "Saving to: ‘songs_dataset.zip’\n",
            "\n",
            "songs_dataset.zip   100%[===================>]   1.98M  --.-KB/s    in 0.06s   \n",
            "\n",
            "2022-03-29 23:26:22 (35.4 MB/s) - ‘songs_dataset.zip’ saved [2075036/2075036]\n",
            "\n",
            "FINISHED --2022-03-29 23:26:22--\n",
            "Total wall clock time: 1.7s\n",
            "Downloaded: 1 files, 2.0M in 0.06s (35.4 MB/s)\n"
          ]
        }
      ],
      "source": [
        "if os.access('./songs_dataset', os.F_OK) is False:\n",
        "    if os.access('songs_dataset.zip', os.F_OK) is False:\n",
        "        if platform.system() == 'Windows':\n",
        "            !curl https://raw.githubusercontent.com/FIUBA-Posgrado-Inteligencia-Artificial/procesamiento_lenguaje_natural/main/datasets/songs_dataset.zip -o songs_dataset.zip\n",
        "        else:\n",
        "            !wget songs_dataset.zip https://github.com/FIUBA-Posgrado-Inteligencia-Artificial/procesamiento_lenguaje_natural/raw/main/datasets/songs_dataset.zip\n",
        "    !unzip -q songs_dataset.zip   \n",
        "else:\n",
        "    print(\"El dataset ya se encuentra descargado\")"
      ]
    },
    {
      "cell_type": "code",
      "execution_count": 3,
      "metadata": {
        "colab": {
          "base_uri": "https://localhost:8080/"
        },
        "id": "-ioEOfGyUW74",
        "outputId": "4b8710b9-b8aa-4bb7-c9fa-be24a121ee3f"
      },
      "outputs": [
        {
          "output_type": "execute_result",
          "data": {
            "text/plain": [
              "['rihanna.txt',\n",
              " 'notorious_big.txt',\n",
              " 'amy-winehouse.txt',\n",
              " 'johnny-cash.txt',\n",
              " 'al-green.txt',\n",
              " 'radiohead.txt',\n",
              " 'bob-marley.txt',\n",
              " 'missy-elliott.txt',\n",
              " 'bruno-mars.txt',\n",
              " 'bjork.txt',\n",
              " 'Lil_Wayne.txt',\n",
              " 'britney-spears.txt',\n",
              " 'notorious-big.txt',\n",
              " 'r-kelly.txt',\n",
              " 'dickinson.txt',\n",
              " 'lady-gaga.txt',\n",
              " 'dolly-parton.txt',\n",
              " 'dr-seuss.txt',\n",
              " 'bieber.txt',\n",
              " 'alicia-keys.txt',\n",
              " 'disney.txt',\n",
              " 'adele.txt',\n",
              " 'nicki-minaj.txt',\n",
              " 'kanye-west.txt',\n",
              " 'janisjoplin.txt',\n",
              " 'cake.txt',\n",
              " 'kanye.txt',\n",
              " 'drake.txt',\n",
              " 'eminem.txt',\n",
              " 'prince.txt',\n",
              " 'nickelback.txt',\n",
              " 'joni-mitchell.txt',\n",
              " 'nursery_rhymes.txt',\n",
              " 'lorde.txt',\n",
              " 'lin-manuel-miranda.txt',\n",
              " 'patti-smith.txt',\n",
              " 'ludacris.txt',\n",
              " 'nirvana.txt',\n",
              " 'Kanye_West.txt',\n",
              " 'beatles.txt',\n",
              " 'blink-182.txt',\n",
              " 'bruce-springsteen.txt',\n",
              " 'lil-wayne.txt',\n",
              " 'leonard-cohen.txt',\n",
              " 'bob-dylan.txt',\n",
              " 'michael-jackson.txt',\n",
              " 'dj-khaled.txt',\n",
              " 'paul-simon.txt',\n",
              " 'jimi-hendrix.txt']"
            ]
          },
          "metadata": {},
          "execution_count": 3
        }
      ],
      "source": [
        "# Posibles bandas\n",
        "os.listdir(\"./songs_dataset/\")"
      ]
    },
    {
      "cell_type": "code",
      "execution_count": 4,
      "metadata": {
        "colab": {
          "base_uri": "https://localhost:8080/",
          "height": 206
        },
        "id": "KaWEWnnTU73u",
        "outputId": "da8657cf-7462-4f9f-b07a-b99e1a373490"
      },
      "outputs": [
        {
          "output_type": "execute_result",
          "data": {
            "text/plain": [
              "                                                   0\n",
              "0                                Ghost in the mirror\n",
              "1        I knew your face once, but now it's unclear\n",
              "2                       And I can't feel my body now\n",
              "3  I'm separate from here and now A drug and a dream\n",
              "4             We lost connection, oh come back to me"
            ],
            "text/html": [
              "\n",
              "  <div id=\"df-b9785bb4-d3b2-48d3-bb82-9b970050639f\">\n",
              "    <div class=\"colab-df-container\">\n",
              "      <div>\n",
              "<style scoped>\n",
              "    .dataframe tbody tr th:only-of-type {\n",
              "        vertical-align: middle;\n",
              "    }\n",
              "\n",
              "    .dataframe tbody tr th {\n",
              "        vertical-align: top;\n",
              "    }\n",
              "\n",
              "    .dataframe thead th {\n",
              "        text-align: right;\n",
              "    }\n",
              "</style>\n",
              "<table border=\"1\" class=\"dataframe\">\n",
              "  <thead>\n",
              "    <tr style=\"text-align: right;\">\n",
              "      <th></th>\n",
              "      <th>0</th>\n",
              "    </tr>\n",
              "  </thead>\n",
              "  <tbody>\n",
              "    <tr>\n",
              "      <th>0</th>\n",
              "      <td>Ghost in the mirror</td>\n",
              "    </tr>\n",
              "    <tr>\n",
              "      <th>1</th>\n",
              "      <td>I knew your face once, but now it's unclear</td>\n",
              "    </tr>\n",
              "    <tr>\n",
              "      <th>2</th>\n",
              "      <td>And I can't feel my body now</td>\n",
              "    </tr>\n",
              "    <tr>\n",
              "      <th>3</th>\n",
              "      <td>I'm separate from here and now A drug and a dream</td>\n",
              "    </tr>\n",
              "    <tr>\n",
              "      <th>4</th>\n",
              "      <td>We lost connection, oh come back to me</td>\n",
              "    </tr>\n",
              "  </tbody>\n",
              "</table>\n",
              "</div>\n",
              "      <button class=\"colab-df-convert\" onclick=\"convertToInteractive('df-b9785bb4-d3b2-48d3-bb82-9b970050639f')\"\n",
              "              title=\"Convert this dataframe to an interactive table.\"\n",
              "              style=\"display:none;\">\n",
              "        \n",
              "  <svg xmlns=\"http://www.w3.org/2000/svg\" height=\"24px\"viewBox=\"0 0 24 24\"\n",
              "       width=\"24px\">\n",
              "    <path d=\"M0 0h24v24H0V0z\" fill=\"none\"/>\n",
              "    <path d=\"M18.56 5.44l.94 2.06.94-2.06 2.06-.94-2.06-.94-.94-2.06-.94 2.06-2.06.94zm-11 1L8.5 8.5l.94-2.06 2.06-.94-2.06-.94L8.5 2.5l-.94 2.06-2.06.94zm10 10l.94 2.06.94-2.06 2.06-.94-2.06-.94-.94-2.06-.94 2.06-2.06.94z\"/><path d=\"M17.41 7.96l-1.37-1.37c-.4-.4-.92-.59-1.43-.59-.52 0-1.04.2-1.43.59L10.3 9.45l-7.72 7.72c-.78.78-.78 2.05 0 2.83L4 21.41c.39.39.9.59 1.41.59.51 0 1.02-.2 1.41-.59l7.78-7.78 2.81-2.81c.8-.78.8-2.07 0-2.86zM5.41 20L4 18.59l7.72-7.72 1.47 1.35L5.41 20z\"/>\n",
              "  </svg>\n",
              "      </button>\n",
              "      \n",
              "  <style>\n",
              "    .colab-df-container {\n",
              "      display:flex;\n",
              "      flex-wrap:wrap;\n",
              "      gap: 12px;\n",
              "    }\n",
              "\n",
              "    .colab-df-convert {\n",
              "      background-color: #E8F0FE;\n",
              "      border: none;\n",
              "      border-radius: 50%;\n",
              "      cursor: pointer;\n",
              "      display: none;\n",
              "      fill: #1967D2;\n",
              "      height: 32px;\n",
              "      padding: 0 0 0 0;\n",
              "      width: 32px;\n",
              "    }\n",
              "\n",
              "    .colab-df-convert:hover {\n",
              "      background-color: #E2EBFA;\n",
              "      box-shadow: 0px 1px 2px rgba(60, 64, 67, 0.3), 0px 1px 3px 1px rgba(60, 64, 67, 0.15);\n",
              "      fill: #174EA6;\n",
              "    }\n",
              "\n",
              "    [theme=dark] .colab-df-convert {\n",
              "      background-color: #3B4455;\n",
              "      fill: #D2E3FC;\n",
              "    }\n",
              "\n",
              "    [theme=dark] .colab-df-convert:hover {\n",
              "      background-color: #434B5C;\n",
              "      box-shadow: 0px 1px 3px 1px rgba(0, 0, 0, 0.15);\n",
              "      filter: drop-shadow(0px 1px 2px rgba(0, 0, 0, 0.3));\n",
              "      fill: #FFFFFF;\n",
              "    }\n",
              "  </style>\n",
              "\n",
              "      <script>\n",
              "        const buttonEl =\n",
              "          document.querySelector('#df-b9785bb4-d3b2-48d3-bb82-9b970050639f button.colab-df-convert');\n",
              "        buttonEl.style.display =\n",
              "          google.colab.kernel.accessAllowed ? 'block' : 'none';\n",
              "\n",
              "        async function convertToInteractive(key) {\n",
              "          const element = document.querySelector('#df-b9785bb4-d3b2-48d3-bb82-9b970050639f');\n",
              "          const dataTable =\n",
              "            await google.colab.kernel.invokeFunction('convertToInteractive',\n",
              "                                                     [key], {});\n",
              "          if (!dataTable) return;\n",
              "\n",
              "          const docLinkHtml = 'Like what you see? Visit the ' +\n",
              "            '<a target=\"_blank\" href=https://colab.research.google.com/notebooks/data_table.ipynb>data table notebook</a>'\n",
              "            + ' to learn more about interactive tables.';\n",
              "          element.innerHTML = '';\n",
              "          dataTable['output_type'] = 'display_data';\n",
              "          await google.colab.output.renderOutput(dataTable, element);\n",
              "          const docLink = document.createElement('div');\n",
              "          docLink.innerHTML = docLinkHtml;\n",
              "          element.appendChild(docLink);\n",
              "        }\n",
              "      </script>\n",
              "    </div>\n",
              "  </div>\n",
              "  "
            ]
          },
          "metadata": {},
          "execution_count": 4
        }
      ],
      "source": [
        "df = pd.DataFrame()\n",
        "for dataset in os.listdir(\"./songs_dataset/\"):\n",
        "    df_tmp = pd.read_csv(f'songs_dataset/{dataset}', sep='/n', header=None, engine=\"python\")\n",
        "    df = pd.concat([df, df_tmp])\n",
        "df.head()"
      ]
    },
    {
      "cell_type": "code",
      "execution_count": 5,
      "metadata": {
        "colab": {
          "base_uri": "https://localhost:8080/"
        },
        "id": "25GP9NWzU_Ee",
        "outputId": "473b9b6b-e07f-4e5f-ae11-d9353e312ff6"
      },
      "outputs": [
        {
          "output_type": "stream",
          "name": "stdout",
          "text": [
            "Number of documents: 175960\n"
          ]
        }
      ],
      "source": [
        "print(\"Number of documents:\", df.shape[0])"
      ]
    },
    {
      "cell_type": "markdown",
      "metadata": {
        "id": "hRZLoQucVIYE"
      },
      "source": [
        "### Preprocessing"
      ]
    },
    {
      "cell_type": "code",
      "execution_count": 6,
      "metadata": {
        "colab": {
          "base_uri": "https://localhost:8080/"
        },
        "id": "U79tezP3VHPH",
        "outputId": "2f43f238-dbdc-4fac-e162-1023e022d569"
      },
      "outputs": [
        {
          "output_type": "execute_result",
          "data": {
            "text/plain": [
              "[['ghost', 'in', 'the', 'mirror'],\n",
              " ['i', 'knew', 'your', 'face', 'once', 'but', 'now', \"it's\", 'unclear']]"
            ]
          },
          "metadata": {},
          "execution_count": 6
        }
      ],
      "source": [
        "sentence_tokens = []\n",
        "# Transform sentence in sequence of words\n",
        "for _, row in df[:None].iterrows():\n",
        "    sentence_tokens.append(text_to_word_sequence(row[0]))\n",
        "sentence_tokens[:2]"
      ]
    },
    {
      "cell_type": "markdown",
      "metadata": {
        "id": "C8bjw0JXVs03"
      },
      "source": [
        "### Create vectors (word2vec)"
      ]
    },
    {
      "cell_type": "code",
      "execution_count": 7,
      "metadata": {
        "id": "vwPd9nXmVlNe"
      },
      "outputs": [],
      "source": [
        "class callback(CallbackAny2Vec):\n",
        "    \"\"\"\n",
        "    Callback to print loss after each epoch\n",
        "    \"\"\"\n",
        "    def __init__(self):\n",
        "        self.epoch = 0\n",
        "        self.loss = []\n",
        "\n",
        "    def on_epoch_end(self, model):\n",
        "        loss = model.get_latest_training_loss()\n",
        "        if self.epoch == 0:\n",
        "            print('Loss after epoch {}: {}'.format(self.epoch, loss))\n",
        "            self.loss.append(loss)\n",
        "        else:\n",
        "            print('Loss after epoch {}: {}'.format(self.epoch, loss - self.loss_previous_step))\n",
        "            self.loss.append(loss - self.loss_previous_step)\n",
        "        self.epoch += 1\n",
        "        self.loss_previous_step = loss\n",
        "        "
      ]
    },
    {
      "cell_type": "code",
      "execution_count": 8,
      "metadata": {
        "id": "5ocK50uKYTcd"
      },
      "outputs": [],
      "source": [
        "# Create vector generator model\n",
        "w2v_model = Word2Vec(\n",
        "    min_count=5,    # Minumum frequency of words to be included in the vocabulary\n",
        "    window=2,       # Number of words before and after the predicted one\n",
        "    size=300,       # Vectors dimentionality \n",
        "    negative=20,    # Number of negative samples\n",
        "    workers=1,      # Number of workers\n",
        "    sg=1,           # Model 0:CBOW  1:skipgram\n",
        ")           "
      ]
    },
    {
      "cell_type": "code",
      "execution_count": 9,
      "metadata": {
        "colab": {
          "base_uri": "https://localhost:8080/"
        },
        "id": "vJ-Dd-k4ZeMj",
        "outputId": "631e4547-9a87-446f-e56e-07a1c57eaa90"
      },
      "outputs": [
        {
          "output_type": "stream",
          "name": "stdout",
          "text": [
            "Number of docs in the corpus: 175960\n",
            "Number of distinct words in the copus: 10029\n"
          ]
        }
      ],
      "source": [
        "w2v_model.build_vocab(sentence_tokens)\n",
        "print(\"Number of docs in the corpus:\", w2v_model.corpus_count)\n",
        "print(\"Number of distinct words in the copus:\", len(w2v_model.wv.vocab))"
      ]
    },
    {
      "cell_type": "markdown",
      "metadata": {
        "id": "dO9rsfVrZrHP"
      },
      "source": [
        "### Train generator model"
      ]
    },
    {
      "cell_type": "code",
      "execution_count": 10,
      "metadata": {
        "colab": {
          "base_uri": "https://localhost:8080/"
        },
        "id": "OPVvY0sUZppL",
        "outputId": "21687331-fe61-46b8-b634-1e0ea2ce983b"
      },
      "outputs": [
        {
          "output_type": "stream",
          "name": "stdout",
          "text": [
            "Loss after epoch 0: 6998164.0\n",
            "Loss after epoch 1: 5507270.0\n",
            "Loss after epoch 2: 5229768.0\n",
            "Loss after epoch 3: 4901906.0\n",
            "Loss after epoch 4: 4778556.0\n",
            "Loss after epoch 5: 4676384.0\n",
            "Loss after epoch 6: 4504792.0\n",
            "Loss after epoch 7: 4349456.0\n",
            "Loss after epoch 8: 4267724.0\n",
            "Loss after epoch 9: 4197348.0\n",
            "Loss after epoch 10: 4146460.0\n",
            "Loss after epoch 11: 4099668.0\n",
            "Loss after epoch 12: 4064168.0\n",
            "Loss after epoch 13: 4023500.0\n",
            "Loss after epoch 14: 2189036.0\n",
            "Loss after epoch 15: 1236896.0\n",
            "Loss after epoch 16: 1216456.0\n",
            "Loss after epoch 17: 1199664.0\n",
            "Loss after epoch 18: 1182024.0\n",
            "Loss after epoch 19: 1165464.0\n",
            "Loss after epoch 20: 1148112.0\n",
            "Loss after epoch 21: 1131392.0\n",
            "Loss after epoch 22: 1114168.0\n",
            "Loss after epoch 23: 1098680.0\n",
            "Loss after epoch 24: 1082944.0\n",
            "Loss after epoch 25: 1064512.0\n",
            "Loss after epoch 26: 1052464.0\n",
            "Loss after epoch 27: 1029592.0\n",
            "Loss after epoch 28: 1016800.0\n",
            "Loss after epoch 29: 998864.0\n",
            "Loss after epoch 30: 984024.0\n",
            "Loss after epoch 31: 965136.0\n",
            "Loss after epoch 32: 945440.0\n",
            "Loss after epoch 33: 928408.0\n",
            "Loss after epoch 34: 912240.0\n",
            "Loss after epoch 35: 894240.0\n",
            "Loss after epoch 36: 873536.0\n",
            "Loss after epoch 37: 860800.0\n",
            "Loss after epoch 38: 843608.0\n",
            "Loss after epoch 39: 826064.0\n",
            "Loss after epoch 40: 806672.0\n",
            "Loss after epoch 41: 790296.0\n",
            "Loss after epoch 42: 775664.0\n",
            "Loss after epoch 43: 754208.0\n",
            "Loss after epoch 44: 735568.0\n",
            "Loss after epoch 45: 719112.0\n",
            "Loss after epoch 46: 701208.0\n",
            "Loss after epoch 47: 680528.0\n",
            "Loss after epoch 48: 668544.0\n",
            "Loss after epoch 49: 656896.0\n"
          ]
        },
        {
          "output_type": "execute_result",
          "data": {
            "text/plain": [
              "(48782044, 67753350)"
            ]
          },
          "metadata": {},
          "execution_count": 10
        }
      ],
      "source": [
        "# Train the generator model\n",
        "train_callback = callback()\n",
        "w2v_model.train(\n",
        "    sentence_tokens,\n",
        "    total_examples=w2v_model.corpus_count,\n",
        "    epochs=50,\n",
        "    compute_loss = True,\n",
        "    callbacks=[train_callback]\n",
        ")"
      ]
    },
    {
      "cell_type": "code",
      "execution_count": 11,
      "metadata": {
        "colab": {
          "base_uri": "https://localhost:8080/",
          "height": 290
        },
        "id": "rL6YMP83qTfF",
        "outputId": "195351e5-235d-491b-f216-570365db1725"
      },
      "outputs": [
        {
          "output_type": "display_data",
          "data": {
            "text/plain": [
              "<Figure size 432x288 with 1 Axes>"
            ],
            "image/png": "[encoded data removed]"
          },
          "metadata": {
            "needs_background": "light"
          }
        }
      ],
      "source": [
        "plt.plot(train_callback.loss)\n",
        "plt.ylabel(\"loss\")\n",
        "plt.xlabel(\"epoch\")\n",
        "plt.grid()"
      ]
    },
    {
      "cell_type": "markdown",
      "metadata": {
        "id": "n8OHM7O0esQg"
      },
      "source": [
        "### Results\n"
      ]
    },
    {
      "cell_type": "code",
      "execution_count": 12,
      "metadata": {
        "colab": {
          "base_uri": "https://localhost:8080/"
        },
        "id": "YI3aYMsUerzS",
        "outputId": "97c4b0af-40d2-4722-a433-50b05b971a52"
      },
      "outputs": [
        {
          "output_type": "execute_result",
          "data": {
            "text/plain": [
              "[('oooo', 0.3480376601219177),\n",
              " ('cok', 0.33057934045791626),\n",
              " ('whoaa', 0.3303224742412567),\n",
              " ('baby', 0.3287123441696167),\n",
              " ('discreet', 0.3285036087036133),\n",
              " ('dignity', 0.32693248987197876),\n",
              " ('deceive', 0.32666757702827454),\n",
              " ('womanizer', 0.3259226679801941),\n",
              " ('naive', 0.3253239393234253),\n",
              " ('ohhhh', 0.3244801461696625)]"
            ]
          },
          "metadata": {},
          "execution_count": 12
        }
      ],
      "source": [
        "# The most related\n",
        "w2v_model.wv.most_similar(positive=[\"darling\"], topn=10)"
      ]
    },
    {
      "cell_type": "code",
      "execution_count": 13,
      "metadata": {
        "colab": {
          "base_uri": "https://localhost:8080/"
        },
        "id": "8zDeC9hFed9Y",
        "outputId": "278206ce-d3ec-40d0-e438-ba90ca5f2cb2"
      },
      "outputs": [
        {
          "output_type": "execute_result",
          "data": {
            "text/plain": [
              "[('xxvii', 0.10154709219932556),\n",
              " ('xv', 0.10022833943367004),\n",
              " ('cheater', 0.09414657950401306),\n",
              " ('xxi', 0.09347429126501083),\n",
              " ('xl', 0.053184449672698975),\n",
              " ('xxxiv', 0.04168454557657242),\n",
              " ('xxxviii', 0.04038892686367035),\n",
              " ('xxix', 0.03888888657093048),\n",
              " ('xli', 0.037230588495731354),\n",
              " ('xxxv', 0.03658324107527733)]"
            ]
          },
          "metadata": {},
          "execution_count": 13
        }
      ],
      "source": [
        "# The least related\n",
        "w2v_model.wv.most_similar(negative=[\"love\"], topn=10)"
      ]
    },
    {
      "cell_type": "code",
      "execution_count": 14,
      "metadata": {
        "colab": {
          "base_uri": "https://localhost:8080/"
        },
        "id": "30tW0Krke83P",
        "outputId": "515e9693-ba9f-4934-a7dc-3df18de92c74"
      },
      "outputs": [
        {
          "output_type": "execute_result",
          "data": {
            "text/plain": [
              "[('whee', 0.3986014127731323),\n",
              " ('blackbirds', 0.3863898813724518),\n",
              " ('fahrenheit', 0.37584051489830017),\n",
              " ('swiftly', 0.355258971452713),\n",
              " ('twenty', 0.3523986339569092),\n",
              " ('lopez', 0.3519430458545685),\n",
              " ('thirty', 0.3449026942253113),\n",
              " ('seven', 0.3395269513130188),\n",
              " ('travelling', 0.33931148052215576),\n",
              " ('creak', 0.33883151412010193)]"
            ]
          },
          "metadata": {},
          "execution_count": 14
        }
      ],
      "source": [
        "# The most related\n",
        "w2v_model.wv.most_similar(positive=[\"four\"], topn=10)"
      ]
    },
    {
      "cell_type": "code",
      "execution_count": 15,
      "metadata": {
        "colab": {
          "base_uri": "https://localhost:8080/"
        },
        "id": "xs4AZ7mgfEbI",
        "outputId": "a430dc42-28da-42fa-9c4b-4cdf061fd063"
      },
      "outputs": [
        {
          "output_type": "execute_result",
          "data": {
            "text/plain": [
              "[('naire', 0.4657869338989258),\n",
              " ('cash', 0.3802233338356018),\n",
              " ('forrest', 0.3655218482017517),\n",
              " ('spectacular', 0.3535172939300537),\n",
              " ('insured', 0.3456072509288788)]"
            ]
          },
          "metadata": {},
          "execution_count": 15
        }
      ],
      "source": [
        "# The most related\n",
        "w2v_model.wv.most_similar(positive=[\"money\"], topn=5)"
      ]
    },
    {
      "cell_type": "code",
      "execution_count": 16,
      "metadata": {
        "id": "K6WmaY9NfZCJ"
      },
      "outputs": [],
      "source": [
        "def reduce_dimensions(model, num_dimensions=2):\n",
        "\n",
        "    vectors = np.asarray(model.wv.vectors)\n",
        "    labels = np.asarray(model.wv.index2word)  \n",
        "\n",
        "    tsne = TSNE(n_components=num_dimensions, random_state=0)\n",
        "    vectors = tsne.fit_transform(vectors)\n",
        "\n",
        "    return vectors, labels"
      ]
    },
    {
      "cell_type": "code",
      "execution_count": 17,
      "metadata": {
        "id": "A8_AABpNffvY",
        "colab": {
          "base_uri": "https://localhost:8080/",
          "height": 611
        },
        "outputId": "d4f936fc-fade-4de3-cbcc-314fc57e659c"
      },
      "outputs": [
        {
          "output_type": "stream",
          "name": "stderr",
          "text": [
            "/usr/local/lib/python3.7/dist-packages/sklearn/manifold/_t_sne.py:783: FutureWarning: The default initialization in TSNE will change from 'random' to 'pca' in 1.2.\n",
            "  FutureWarning,\n",
            "/usr/local/lib/python3.7/dist-packages/sklearn/manifold/_t_sne.py:793: FutureWarning: The default learning rate in TSNE will change from 200.0 to 'auto' in 1.2.\n",
            "  FutureWarning,\n"
          ]
        },
        {
          "output_type": "display_data",
          "data": {
            "text/html": [
              "<html>\n",
              "<head><meta charset=\"utf-8\" /></head>\n",
              "<body>\n",
              "    <div>            <script src=\"https://cdnjs.cloudflare.com/ajax/libs/mathjax/2.7.5/MathJax.js?config=TeX-AMS-MML_SVG\"></script><script type=\"text/javascript\">if (window.MathJax) {MathJax.Hub.Config({SVG: {font: \"STIX-Web\"}});}</script>                <script type=\"text/javascript\">window.PlotlyConfig = {MathJaxConfig: 'local'};</script>\n",
              "        <script src=\"https://cdn.plot.ly/plotly-2.8.3.min.js\"></script>                <div id=\"5eaae387-b2b8-4b49-8e9f-54b020880690\" class=\"plotly-graph-div\" style=\"height:525px; width:100%;\"></div>            <script type=\"text/javascript\">                                    window.PLOTLYENV=window.PLOTLYENV || {};                                    if (document.getElementById(\"5eaae387-b2b8-4b49-8e9f-54b020880690\")) {                    Plotly.newPlot(                        \"5eaae387-b2b8-4b49-8e9f-54b020880690\",                        [{\"hovertemplate\":\"x=%{x}<br>y=%{y}<br>text=%{text}<extra></extra>\",\"legendgroup\":\"\",\"marker\":{\"color\":\"#636efa\",\"symbol\":\"circle\"},\"mode\":\"markers+text\",\"name\":\"\",\"orientation\":\"v\",\"showlegend\":false,\"text\":[\"the\",\"i\",\"you\",\"and\",\"to\",\"a\",\"me\",\"my\",\"it\",\"in\",\"that\",\"on\",\"of\",\"your\",\"i'm\",\"like\",\"all\",\"is\",\"be\",\"we\",\"for\",\"up\",\"so\",\"with\",\"know\",\"love\",\"but\",\"just\",\"don't\",\"no\",\"oh\",\"got\",\"this\",\"get\",\"what\",\"when\",\"do\",\"yeah\",\"they\",\"now\",\"baby\",\"if\",\"go\",\"can\",\"she\",\"out\",\"was\",\"it's\",\"one\",\"down\",\"want\",\"he\",\"see\",\"come\",\"her\",\"say\",\"not\",\"at\",\"make\",\"time\",\"from\",\"back\",\"have\",\"are\",\"you're\",\"how\",\"let\",\"never\",\"girl\",\"as\",\"take\",\"man\",\"right\",\"way\",\"wanna\",\"will\",\"im\",\"can't\",\"ain't\",\"there\",\"need\",\"tell\",\"then\",\"gonna\",\"here\",\"more\",\"some\",\"i'll\",\"u\",\"feel\",\"too\",\"where\",\"his\",\"could\",\"been\",\"said\",\"'cause\",\"life\",\"good\",\"who\",\"them\",\"or\",\"about\",\"shit\",\"give\",\"why\",\"night\",\"had\",\"little\",\"off\",\"day\",\"still\",\"by\",\"that's\",\"la\",\"only\",\"ya\",\"think\",\"cause\",\"keep\",\"fuck\",\"bitch\",\"us\",\"through\",\"every\",\"look\",\"hey\",\"well\",\"away\",\"around\",\"these\",\"would\",\"heart\",\"him\",\"world\",\"money\",\"gotta\",\"over\",\"its\",\"dont\",\"put\",\"i've\",\"new\",\"better\",\"am\",\"call\",\"our\",\"ever\",\"bad\",\"boy\",\"2\",\"home\",\"an\",\"long\",\"stop\",\"even\",\"really\",\"than\",\"big\",\"did\",\"we're\",\"won't\",\"again\",\"mind\",\"nigga\",\"always\",\"there's\",\"aint\",\"da\",\"ooh\",\"were\",\"hold\",\"much\",\"things\",\"nothing\",\"thing\",\"people\",\"before\",\"head\",\"niggas\",\"show\",\"hear\",\"'em\",\"name\",\"everything\",\"uh\",\"going\",\"ass\",\"yo\",\"hard\",\"na\",\"hit\",\"god\",\"leave\",\"try\",\"gone\",\"eyes\",\"find\",\"live\",\"turn\"],\"x\":[-0.16523268818855286,-1.9412058591842651,-1.9188565015792847,-0.21485744416713715,-0.5903877019882202,-0.2663360834121704,-1.5433224439620972,-0.2580386996269226,-0.2952413558959961,-0.24483710527420044,-0.2757376432418823,-0.8108373284339905,0.4775122404098511,-0.21909454464912415,-1.01517653465271,-0.31577762961387634,-0.3444560766220093,-0.24201153218746185,-0.3458333909511566,-1.7913142442703247,-0.3316945731639862,-0.2208212912082672,-0.22952505946159363,-0.39416560530662537,-1.574173092842102,-0.9060052037239075,-0.23204588890075684,-0.227448970079422,-4.166554927825928,-8.017026901245117,-3.8977370262145996,-0.27940306067466736,0.042592793703079224,-0.31686750054359436,-8.272984504699707,-0.39378196001052856,-3.7275888919830322,-17.11060905456543,-1.741164207458496,-0.5746156573295593,-4.384178161621094,-0.8009080290794373,-0.6719385385513306,0.10283985733985901,-2.5854992866516113,0.12231411039829254,-0.24489909410476685,-0.3826809227466583,-0.2618573307991028,-0.8001093864440918,-3.665510416030884,-1.6650395393371582,-0.04016539454460144,-0.638766348361969,-1.1332733631134033,-1.2363765239715576,-3.8849170207977295,-0.08728601038455963,-0.7672836184501648,-0.2468774914741516,0.26692429184913635,0.5305471420288086,0.17858053743839264,-2.7592504024505615,-1.4963115453720093,-3.928914785385132,0.2626335620880127,-0.3422164022922516,9.625982284545898,4.645568370819092,23.574806213378906,-0.22560960054397583,-4.342116355895996,-0.4439464807510376,17.65477180480957,1.01164710521698,-6.719108581542969,-11.211597442626953,-4.292453289031982,-0.3030698001384735,-9.020807266235352,-5.304832458496094,-0.4306257963180542,-13.258593559265137,-1.1755802631378174,-12.306249618530273,-0.3356333076953888,-1.3514480590820312,-1.901045799255371,-0.4513595402240753,-13.638381004333496,22.556047439575195,0.7078784108161926,1.2300602197647095,-5.722272872924805,-1.7683249711990356,-0.8148118257522583,13.95814323425293,-4.9371562004089355,0.14851251244544983,-1.0887058973312378,-7.896139144897461,-3.9617204666137695,25.973974227905273,-2.2149343490600586,-7.88321590423584,-21.569047927856445,21.03495979309082,-4.993028163909912,-7.828542232513428,0.5685595273971558,-1.1972382068634033,4.065646171569824,-1.465394377708435,-10.08693790435791,-1.3330312967300415,-5.007760524749756,-1.4341529607772827,-0.918456494808197,-1.7347338199615479,-4.696208477020264,8.315977096557617,-1.3114826679229736,0.7769189476966858,-1.1498123407363892,-1.857296347618103,-13.941230773925781,0.14619506895542145,15.037989616394043,9.285954475402832,-0.027562206611037254,-2.802445888519287,-2.9028658866882324,-1.644951581954956,-5.53578519821167,-3.9738705158233643,0.15377065539360046,1.441144585609436,9.788240432739258,-4.204009056091309,-1.8035967350006104,6.976159572601318,9.368179321289062,-7.846621036529541,-9.197399139404297,-14.298530578613281,15.765728950500488,-1.6122148036956787,-4.643374443054199,-5.723290920257568,-0.712583065032959,-1.7154579162597656,8.705988883972168,-2.8816256523132324,-12.953957557678223,-0.14698876440525055,-2.438075304031372,-8.229626655578613,9.548771858215332,-2.262099027633667,-1.0820735692977905,-10.125900268554688,-2.192481517791748,-8.535151481628418,-7.468353271484375,0.5167306661605835,-8.47169017791748,-2.971336603164673,-12.905665397644043,-17.007883071899414,2.2083311080932617,0.38208550214767456,-13.566843032836914,-5.7471466064453125,-0.24098718166351318,-1.0739222764968872,-5.8952202796936035,18.9763240814209,18.49161720275879,3.182307720184326,-4.622364521026611,-5.386202812194824,-5.9550371170043945,-14.332035064697266,-0.3351117670536041,-13.447032928466797,-8.587921142578125,-19.08652114868164,-9.643221855163574,-6.200047016143799,-14.391131401062012,-2.8203275203704834,-16.037744522094727,-7.648603916168213,-1.475712537765503,4.1914143562316895,2.6248016357421875,7.722187519073486,15.769367218017578,5.169466018676758],\"xaxis\":\"x\",\"y\":[-2.4312856197357178,-4.237176418304443,-4.134274959564209,-2.4395058155059814,-3.1627795696258545,-2.492624282836914,-3.799733877182007,-2.6351168155670166,-2.6336846351623535,-2.5951993465423584,-2.5354349613189697,-2.124145269393921,-2.322453260421753,-2.5148637294769287,-3.199653387069702,-2.309314489364624,-2.682053327560425,-2.601559638977051,-2.7445058822631836,-4.135889530181885,-2.705615997314453,-2.5268588066101074,-2.5198707580566406,-2.648742914199829,-2.982248544692993,-3.08516263961792,-2.5606393814086914,-2.612598180770874,-4.914371490478516,0.8508006930351257,-2.1677498817443848,-2.489597797393799,-2.170241355895996,-2.7050602436065674,-8.193933486938477,-2.6335084438323975,-4.197065830230713,-2.680511236190796,-4.07354736328125,-2.9341628551483154,-3.6363298892974854,-2.1546037197113037,-3.978879451751709,-2.90229868888855,-3.8358280658721924,-2.031506061553955,-2.5190951824188232,-2.7467904090881348,-2.567415237426758,-1.7459397315979004,-3.5742294788360596,-4.058834552764893,-3.375851631164551,-1.1892577409744263,-3.4752988815307617,-2.2376596927642822,-3.6345932483673096,-3.370159864425659,-2.1593010425567627,-2.6165125370025635,-3.156686305999756,-2.2331013679504395,-2.3901662826538086,6.13522481918335,-4.246222019195557,-7.511752605438232,-5.244830131530762,-2.705165386199951,14.476227760314941,1.7165374755859375,5.085780620574951,-2.5135388374328613,-3.6985316276550293,-3.0533039569854736,15.202607154846191,-3.234023332595825,15.092756271362305,-15.804201126098633,-3.687669038772583,-1.2757309675216675,1.4183677434921265,-6.335984230041504,-2.761301279067993,-14.835429191589355,-2.7301247119903564,3.523463010787964,-2.7207143306732178,-3.9734890460968018,-4.170652866363525,-4.308398723602295,-11.514778137207031,4.1929426193237305,-2.2757766246795654,-3.495387077331543,-3.16743540763855,-2.2871923446655273,-2.158749580383301,-9.999122619628906,-1.8560662269592285,-1.531219720840454,-4.432895660400391,-2.276988983154297,-3.8377482891082764,3.8467304706573486,-5.036062717437744,-2.6086578369140625,3.9305853843688965,-2.152465343475342,7.434068202972412,-16.838340759277344,-2.2900214195251465,-3.2693114280700684,-5.456101417541504,-2.4608118534088135,18.201862335205078,-3.567544937133789,-6.2581915855407715,-3.3835740089416504,-2.18815279006958,-5.532780170440674,-3.6310861110687256,13.897650718688965,-3.80222225189209,-2.2225866317749023,-3.138214588165283,-2.3244473934173584,16.87392807006836,-1.783650279045105,14.748360633850098,8.588445663452148,-4.312078475952148,-9.268965721130371,-4.578588962554932,-3.952059030532837,-15.083878517150879,-3.7253143787384033,-5.69412899017334,-2.7971255779266357,15.111278533935547,-5.158840656280518,0.9625285267829895,20.586179733276367,-10.18138313293457,-15.802228927612305,-1.7011598348617554,2.958250045776367,-9.049880981445312,-4.1658501625061035,-5.578791618347168,6.408211708068848,-3.523928165435791,-2.837625741958618,-12.836295127868652,-15.409817695617676,-10.250555992126465,-4.017646312713623,-4.097014427185059,-4.5882463455200195,18.473791122436523,-4.6703643798828125,-17.80462074279785,-16.083284378051758,-3.159384250640869,-16.365802764892578,11.804187774658203,-1.666805386543274,-3.9831008911132812,-4.474007606506348,19.404834747314453,-1.7332663536071777,-0.5355302095413208,-16.037250518798828,-11.616393089294434,-8.242860794067383,-4.765517234802246,-4.964451789855957,-9.33967113494873,-2.182668924331665,-2.3129682540893555,-10.642178535461426,-6.9424591064453125,-7.581969738006592,-8.56557846069336,1.6502106189727783,0.41508179903030396,10.884723663330078,-22.265636444091797,5.289577960968018,22.060489654541016,-11.659131050109863,12.172676086425781,-1.652806043624878,0.10062729567289352,-15.56434440612793,-10.698615074157715,8.469073295593262,-4.668276786804199,13.477216720581055,-10.252506256103516,-9.159868240356445],\"yaxis\":\"y\",\"type\":\"scatter\"}],                        {\"template\":{\"data\":{\"bar\":[{\"error_x\":{\"color\":\"#2a3f5f\"},\"error_y\":{\"color\":\"#2a3f5f\"},\"marker\":{\"line\":{\"color\":\"#E5ECF6\",\"width\":0.5},\"pattern\":{\"fillmode\":\"overlay\",\"size\":10,\"solidity\":0.2}},\"type\":\"bar\"}],\"barpolar\":[{\"marker\":{\"line\":{\"color\":\"#E5ECF6\",\"width\":0.5},\"pattern\":{\"fillmode\":\"overlay\",\"size\":10,\"solidity\":0.2}},\"type\":\"barpolar\"}],\"carpet\":[{\"aaxis\":{\"endlinecolor\":\"#2a3f5f\",\"gridcolor\":\"white\",\"linecolor\":\"white\",\"minorgridcolor\":\"white\",\"startlinecolor\":\"#2a3f5f\"},\"baxis\":{\"endlinecolor\":\"#2a3f5f\",\"gridcolor\":\"white\",\"linecolor\":\"white\",\"minorgridcolor\":\"white\",\"startlinecolor\":\"#2a3f5f\"},\"type\":\"carpet\"}],\"choropleth\":[{\"colorbar\":{\"outlinewidth\":0,\"ticks\":\"\"},\"type\":\"choropleth\"}],\"contour\":[{\"colorbar\":{\"outlinewidth\":0,\"ticks\":\"\"},\"colorscale\":[[0.0,\"#0d0887\"],[0.1111111111111111,\"#46039f\"],[0.2222222222222222,\"#7201a8\"],[0.3333333333333333,\"#9c179e\"],[0.4444444444444444,\"#bd3786\"],[0.5555555555555556,\"#d8576b\"],[0.6666666666666666,\"#ed7953\"],[0.7777777777777778,\"#fb9f3a\"],[0.8888888888888888,\"#fdca26\"],[1.0,\"#f0f921\"]],\"type\":\"contour\"}],\"contourcarpet\":[{\"colorbar\":{\"outlinewidth\":0,\"ticks\":\"\"},\"type\":\"contourcarpet\"}],\"heatmap\":[{\"colorbar\":{\"outlinewidth\":0,\"ticks\":\"\"},\"colorscale\":[[0.0,\"#0d0887\"],[0.1111111111111111,\"#46039f\"],[0.2222222222222222,\"#7201a8\"],[0.3333333333333333,\"#9c179e\"],[0.4444444444444444,\"#bd3786\"],[0.5555555555555556,\"#d8576b\"],[0.6666666666666666,\"#ed7953\"],[0.7777777777777778,\"#fb9f3a\"],[0.8888888888888888,\"#fdca26\"],[1.0,\"#f0f921\"]],\"type\":\"heatmap\"}],\"heatmapgl\":[{\"colorbar\":{\"outlinewidth\":0,\"ticks\":\"\"},\"colorscale\":[[0.0,\"#0d0887\"],[0.1111111111111111,\"#46039f\"],[0.2222222222222222,\"#7201a8\"],[0.3333333333333333,\"#9c179e\"],[0.4444444444444444,\"#bd3786\"],[0.5555555555555556,\"#d8576b\"],[0.6666666666666666,\"#ed7953\"],[0.7777777777777778,\"#fb9f3a\"],[0.8888888888888888,\"#fdca26\"],[1.0,\"#f0f921\"]],\"type\":\"heatmapgl\"}],\"histogram\":[{\"marker\":{\"pattern\":{\"fillmode\":\"overlay\",\"size\":10,\"solidity\":0.2}},\"type\":\"histogram\"}],\"histogram2d\":[{\"colorbar\":{\"outlinewidth\":0,\"ticks\":\"\"},\"colorscale\":[[0.0,\"#0d0887\"],[0.1111111111111111,\"#46039f\"],[0.2222222222222222,\"#7201a8\"],[0.3333333333333333,\"#9c179e\"],[0.4444444444444444,\"#bd3786\"],[0.5555555555555556,\"#d8576b\"],[0.6666666666666666,\"#ed7953\"],[0.7777777777777778,\"#fb9f3a\"],[0.8888888888888888,\"#fdca26\"],[1.0,\"#f0f921\"]],\"type\":\"histogram2d\"}],\"histogram2dcontour\":[{\"colorbar\":{\"outlinewidth\":0,\"ticks\":\"\"},\"colorscale\":[[0.0,\"#0d0887\"],[0.1111111111111111,\"#46039f\"],[0.2222222222222222,\"#7201a8\"],[0.3333333333333333,\"#9c179e\"],[0.4444444444444444,\"#bd3786\"],[0.5555555555555556,\"#d8576b\"],[0.6666666666666666,\"#ed7953\"],[0.7777777777777778,\"#fb9f3a\"],[0.8888888888888888,\"#fdca26\"],[1.0,\"#f0f921\"]],\"type\":\"histogram2dcontour\"}],\"mesh3d\":[{\"colorbar\":{\"outlinewidth\":0,\"ticks\":\"\"},\"type\":\"mesh3d\"}],\"parcoords\":[{\"line\":{\"colorbar\":{\"outlinewidth\":0,\"ticks\":\"\"}},\"type\":\"parcoords\"}],\"pie\":[{\"automargin\":true,\"type\":\"pie\"}],\"scatter\":[{\"marker\":{\"colorbar\":{\"outlinewidth\":0,\"ticks\":\"\"}},\"type\":\"scatter\"}],\"scatter3d\":[{\"line\":{\"colorbar\":{\"outlinewidth\":0,\"ticks\":\"\"}},\"marker\":{\"colorbar\":{\"outlinewidth\":0,\"ticks\":\"\"}},\"type\":\"scatter3d\"}],\"scattercarpet\":[{\"marker\":{\"colorbar\":{\"outlinewidth\":0,\"ticks\":\"\"}},\"type\":\"scattercarpet\"}],\"scattergeo\":[{\"marker\":{\"colorbar\":{\"outlinewidth\":0,\"ticks\":\"\"}},\"type\":\"scattergeo\"}],\"scattergl\":[{\"marker\":{\"colorbar\":{\"outlinewidth\":0,\"ticks\":\"\"}},\"type\":\"scattergl\"}],\"scattermapbox\":[{\"marker\":{\"colorbar\":{\"outlinewidth\":0,\"ticks\":\"\"}},\"type\":\"scattermapbox\"}],\"scatterpolar\":[{\"marker\":{\"colorbar\":{\"outlinewidth\":0,\"ticks\":\"\"}},\"type\":\"scatterpolar\"}],\"scatterpolargl\":[{\"marker\":{\"colorbar\":{\"outlinewidth\":0,\"ticks\":\"\"}},\"type\":\"scatterpolargl\"}],\"scatterternary\":[{\"marker\":{\"colorbar\":{\"outlinewidth\":0,\"ticks\":\"\"}},\"type\":\"scatterternary\"}],\"surface\":[{\"colorbar\":{\"outlinewidth\":0,\"ticks\":\"\"},\"colorscale\":[[0.0,\"#0d0887\"],[0.1111111111111111,\"#46039f\"],[0.2222222222222222,\"#7201a8\"],[0.3333333333333333,\"#9c179e\"],[0.4444444444444444,\"#bd3786\"],[0.5555555555555556,\"#d8576b\"],[0.6666666666666666,\"#ed7953\"],[0.7777777777777778,\"#fb9f3a\"],[0.8888888888888888,\"#fdca26\"],[1.0,\"#f0f921\"]],\"type\":\"surface\"}],\"table\":[{\"cells\":{\"fill\":{\"color\":\"#EBF0F8\"},\"line\":{\"color\":\"white\"}},\"header\":{\"fill\":{\"color\":\"#C8D4E3\"},\"line\":{\"color\":\"white\"}},\"type\":\"table\"}]},\"layout\":{\"annotationdefaults\":{\"arrowcolor\":\"#2a3f5f\",\"arrowhead\":0,\"arrowwidth\":1},\"autotypenumbers\":\"strict\",\"coloraxis\":{\"colorbar\":{\"outlinewidth\":0,\"ticks\":\"\"}},\"colorscale\":{\"diverging\":[[0,\"#8e0152\"],[0.1,\"#c51b7d\"],[0.2,\"#de77ae\"],[0.3,\"#f1b6da\"],[0.4,\"#fde0ef\"],[0.5,\"#f7f7f7\"],[0.6,\"#e6f5d0\"],[0.7,\"#b8e186\"],[0.8,\"#7fbc41\"],[0.9,\"#4d9221\"],[1,\"#276419\"]],\"sequential\":[[0.0,\"#0d0887\"],[0.1111111111111111,\"#46039f\"],[0.2222222222222222,\"#7201a8\"],[0.3333333333333333,\"#9c179e\"],[0.4444444444444444,\"#bd3786\"],[0.5555555555555556,\"#d8576b\"],[0.6666666666666666,\"#ed7953\"],[0.7777777777777778,\"#fb9f3a\"],[0.8888888888888888,\"#fdca26\"],[1.0,\"#f0f921\"]],\"sequentialminus\":[[0.0,\"#0d0887\"],[0.1111111111111111,\"#46039f\"],[0.2222222222222222,\"#7201a8\"],[0.3333333333333333,\"#9c179e\"],[0.4444444444444444,\"#bd3786\"],[0.5555555555555556,\"#d8576b\"],[0.6666666666666666,\"#ed7953\"],[0.7777777777777778,\"#fb9f3a\"],[0.8888888888888888,\"#fdca26\"],[1.0,\"#f0f921\"]]},\"colorway\":[\"#636efa\",\"#EF553B\",\"#00cc96\",\"#ab63fa\",\"#FFA15A\",\"#19d3f3\",\"#FF6692\",\"#B6E880\",\"#FF97FF\",\"#FECB52\"],\"font\":{\"color\":\"#2a3f5f\"},\"geo\":{\"bgcolor\":\"white\",\"lakecolor\":\"white\",\"landcolor\":\"#E5ECF6\",\"showlakes\":true,\"showland\":true,\"subunitcolor\":\"white\"},\"hoverlabel\":{\"align\":\"left\"},\"hovermode\":\"closest\",\"mapbox\":{\"style\":\"light\"},\"paper_bgcolor\":\"white\",\"plot_bgcolor\":\"#E5ECF6\",\"polar\":{\"angularaxis\":{\"gridcolor\":\"white\",\"linecolor\":\"white\",\"ticks\":\"\"},\"bgcolor\":\"#E5ECF6\",\"radialaxis\":{\"gridcolor\":\"white\",\"linecolor\":\"white\",\"ticks\":\"\"}},\"scene\":{\"xaxis\":{\"backgroundcolor\":\"#E5ECF6\",\"gridcolor\":\"white\",\"gridwidth\":2,\"linecolor\":\"white\",\"showbackground\":true,\"ticks\":\"\",\"zerolinecolor\":\"white\"},\"yaxis\":{\"backgroundcolor\":\"#E5ECF6\",\"gridcolor\":\"white\",\"gridwidth\":2,\"linecolor\":\"white\",\"showbackground\":true,\"ticks\":\"\",\"zerolinecolor\":\"white\"},\"zaxis\":{\"backgroundcolor\":\"#E5ECF6\",\"gridcolor\":\"white\",\"gridwidth\":2,\"linecolor\":\"white\",\"showbackground\":true,\"ticks\":\"\",\"zerolinecolor\":\"white\"}},\"shapedefaults\":{\"line\":{\"color\":\"#2a3f5f\"}},\"ternary\":{\"aaxis\":{\"gridcolor\":\"white\",\"linecolor\":\"white\",\"ticks\":\"\"},\"baxis\":{\"gridcolor\":\"white\",\"linecolor\":\"white\",\"ticks\":\"\"},\"bgcolor\":\"#E5ECF6\",\"caxis\":{\"gridcolor\":\"white\",\"linecolor\":\"white\",\"ticks\":\"\"}},\"title\":{\"x\":0.05},\"xaxis\":{\"automargin\":true,\"gridcolor\":\"white\",\"linecolor\":\"white\",\"ticks\":\"\",\"title\":{\"standoff\":15},\"zerolinecolor\":\"white\",\"zerolinewidth\":2},\"yaxis\":{\"automargin\":true,\"gridcolor\":\"white\",\"linecolor\":\"white\",\"ticks\":\"\",\"title\":{\"standoff\":15},\"zerolinecolor\":\"white\",\"zerolinewidth\":2}}},\"xaxis\":{\"anchor\":\"y\",\"domain\":[0.0,1.0],\"title\":{\"text\":\"x\"}},\"yaxis\":{\"anchor\":\"x\",\"domain\":[0.0,1.0],\"title\":{\"text\":\"y\"}},\"legend\":{\"tracegroupgap\":0},\"margin\":{\"t\":60}},                        {\"responsive\": true}                    ).then(function(){\n",
              "                            \n",
              "var gd = document.getElementById('5eaae387-b2b8-4b49-8e9f-54b020880690');\n",
              "var x = new MutationObserver(function (mutations, observer) {{\n",
              "        var display = window.getComputedStyle(gd).display;\n",
              "        if (!display || display === 'none') {{\n",
              "            console.log([gd, 'removed!']);\n",
              "            Plotly.purge(gd);\n",
              "            observer.disconnect();\n",
              "        }}\n",
              "}});\n",
              "\n",
              "// Listen for the removal of the full notebook cells\n",
              "var notebookContainer = gd.closest('#notebook-container');\n",
              "if (notebookContainer) {{\n",
              "    x.observe(notebookContainer, {childList: true});\n",
              "}}\n",
              "\n",
              "// Listen for the clearing of the current output cell\n",
              "var outputEl = gd.closest('.output');\n",
              "if (outputEl) {{\n",
              "    x.observe(outputEl, {childList: true});\n",
              "}}\n",
              "\n",
              "                        })                };                            </script>        </div>\n",
              "</body>\n",
              "</html>"
            ]
          },
          "metadata": {}
        }
      ],
      "source": [
        "vectors, labels = reduce_dimensions(w2v_model)\n",
        "x_vals = [v[0] for v in vectors]\n",
        "y_vals = [v[1] for v in vectors]\n",
        "\n",
        "MAX_WORDS = 200\n",
        "fig = px.scatter(x=x_vals[:MAX_WORDS], y=y_vals[:MAX_WORDS], text=labels[:MAX_WORDS])\n",
        "fig.show(renderer=\"colab\")"
      ]
    },
    {
      "cell_type": "code",
      "execution_count": 18,
      "metadata": {
        "colab": {
          "base_uri": "https://localhost:8080/",
          "height": 681
        },
        "id": "wHNKQffykk0M",
        "outputId": "0a94031d-ade9-47a6-8a73-45fac1d5530f"
      },
      "outputs": [
        {
          "output_type": "stream",
          "name": "stderr",
          "text": [
            "/usr/local/lib/python3.7/dist-packages/sklearn/manifold/_t_sne.py:783: FutureWarning:\n",
            "\n",
            "The default initialization in TSNE will change from 'random' to 'pca' in 1.2.\n",
            "\n",
            "/usr/local/lib/python3.7/dist-packages/sklearn/manifold/_t_sne.py:793: FutureWarning:\n",
            "\n",
            "The default learning rate in TSNE will change from 200.0 to 'auto' in 1.2.\n",
            "\n"
          ]
        },
        {
          "output_type": "display_data",
          "data": {
            "text/html": [
              "<html>\n",
              "<head><meta charset=\"utf-8\" /></head>\n",
              "<body>\n",
              "    <div>            <script src=\"https://cdnjs.cloudflare.com/ajax/libs/mathjax/2.7.5/MathJax.js?config=TeX-AMS-MML_SVG\"></script><script type=\"text/javascript\">if (window.MathJax) {MathJax.Hub.Config({SVG: {font: \"STIX-Web\"}});}</script>                <script type=\"text/javascript\">window.PlotlyConfig = {MathJaxConfig: 'local'};</script>\n",
              "        <script src=\"https://cdn.plot.ly/plotly-2.8.3.min.js\"></script>                <div id=\"8c19e867-130d-4586-bf03-bec61060412b\" class=\"plotly-graph-div\" style=\"height:525px; width:100%;\"></div>            <script type=\"text/javascript\">                                    window.PLOTLYENV=window.PLOTLYENV || {};                                    if (document.getElementById(\"8c19e867-130d-4586-bf03-bec61060412b\")) {                    Plotly.newPlot(                        \"8c19e867-130d-4586-bf03-bec61060412b\",                        [{\"hovertemplate\":\"x=%{x}<br>y=%{y}<br>z=%{z}<br>text=%{text}<extra></extra>\",\"legendgroup\":\"\",\"marker\":{\"color\":\"#636efa\",\"opacity\":0.7,\"symbol\":\"circle\"},\"mode\":\"markers+text\",\"name\":\"\",\"scene\":\"scene\",\"showlegend\":false,\"text\":[\"the\",\"i\",\"you\",\"and\",\"to\",\"a\",\"me\",\"my\",\"it\",\"in\",\"that\",\"on\",\"of\",\"your\",\"i'm\",\"like\",\"all\",\"is\",\"be\",\"we\",\"for\",\"up\",\"so\",\"with\",\"know\",\"love\",\"but\",\"just\",\"don't\",\"no\",\"oh\",\"got\",\"this\",\"get\",\"what\",\"when\",\"do\",\"yeah\",\"they\",\"now\",\"baby\",\"if\",\"go\",\"can\",\"she\",\"out\",\"was\",\"it's\",\"one\",\"down\",\"want\",\"he\",\"see\",\"come\",\"her\",\"say\",\"not\",\"at\",\"make\",\"time\",\"from\",\"back\",\"have\",\"are\",\"you're\",\"how\",\"let\",\"never\",\"girl\",\"as\",\"take\",\"man\",\"right\",\"way\",\"wanna\",\"will\",\"im\",\"can't\",\"ain't\",\"there\",\"need\",\"tell\",\"then\",\"gonna\",\"here\",\"more\",\"some\",\"i'll\",\"u\",\"feel\",\"too\",\"where\",\"his\",\"could\",\"been\",\"said\",\"'cause\",\"life\",\"good\",\"who\",\"them\",\"or\",\"about\",\"shit\",\"give\",\"why\",\"night\",\"had\",\"little\",\"off\",\"day\",\"still\",\"by\",\"that's\",\"la\",\"only\",\"ya\",\"think\",\"cause\",\"keep\",\"fuck\",\"bitch\",\"us\",\"through\",\"every\",\"look\",\"hey\",\"well\",\"away\",\"around\",\"these\",\"would\",\"heart\",\"him\",\"world\",\"money\",\"gotta\",\"over\",\"its\",\"dont\",\"put\",\"i've\",\"new\",\"better\",\"am\",\"call\",\"our\",\"ever\",\"bad\",\"boy\",\"2\",\"home\",\"an\",\"long\",\"stop\",\"even\",\"really\",\"than\",\"big\",\"did\",\"we're\",\"won't\",\"again\",\"mind\",\"nigga\",\"always\",\"there's\",\"aint\",\"da\",\"ooh\",\"were\",\"hold\",\"much\",\"things\",\"nothing\",\"thing\",\"people\",\"before\",\"head\",\"niggas\",\"show\",\"hear\",\"'em\",\"name\",\"everything\",\"uh\",\"going\",\"ass\",\"yo\",\"hard\",\"na\",\"hit\",\"god\",\"leave\",\"try\",\"gone\",\"eyes\",\"find\",\"live\",\"turn\",\"another\",\"should\",\"something\",\"talk\",\"real\",\"play\",\"she's\",\"face\",\"let's\",\"everybody\",\"please\",\"old\",\"light\",\"two\",\"believe\",\"mine\",\"high\",\"tonight\",\"made\",\"stay\",\"dance\",\"alone\",\"last\",\"into\",\"told\",\"best\",\"work\",\"hand\",\"ah\",\"chorus\",\"nixga\",\"body\",\"while\",\"yes\",\"die\",\"hot\",\"first\",\"their\",\"mean\",\"i'd\",\"came\",\"left\",\"nobody\",\"thats\",\"run\",\"place\",\"other\",\"wait\",\"stand\",\"cry\",\"same\",\"done\",\"em\",\"without\",\"fly\",\"black\",\"wish\",\"bitches\",\"girls\",\"friends\",\"whole\",\"enough\",\"damn\",\"wrong\",\"you'll\",\"thought\",\"hands\",\"free\",\"whoa\",\"alright\",\"crazy\",\"has\",\"sky\",\"fire\",\"game\",\"he's\",\"young\",\"cant\",\"somebody\",\"together\",\"care\",\"must\",\"maybe\",\"own\",\"coming\",\"used\",\"move\",\"end\",\"went\",\"rock\",\"fall\",\"inside\",\"heard\",\"ready\",\"party\",\"myself\",\"side\",\"you've\",\"break\",\"help\",\"we'll\",\"many\",\"looking\",\"bring\",\"watch\",\"music\",\"because\",\"sun\",\"friend\",\"guess\",\"remember\",\"touch\",\"seen\",\"ride\",\"ask\",\"trying\",\"walk\",\"door\",\"forever\",\"might\",\"sing\",\"knows\",\"next\",\"round\",\"4\",\"though\",\"soul\",\"lost\",\"lord\",\"feeling\",\"house\",\"lie\",\"song\",\"someone\",\"after\",\"start\",\"dream\",\"hope\",\"took\",\"change\",\"white\",\"kiss\",\"cold\",\"true\",\"beat\",\"pussy\",\"far\",\"goes\",\"till\",\"top\",\"mama\",\"waiting\",\"woman\",\"sweet\",\"matter\",\"didn't\",\"knew\",\"morning\",\"until\",\"biggie\",\"floor\",\"getting\",\"happy\",\"may\",\"rain\",\"huh\",\"room\",\"sometimes\",\"miss\",\"once\",\"hate\",\"y'all\",\"what's\",\"eh\",\"days\",\"shot\",\"town\",\"since\",\"babe\",\"honey\",\"bed\",\"lose\",\"comes\",\"lay\",\"smile\",\"nixgas\",\"lights\",\"blue\",\"road\",\"hair\",\"dead\",\"blow\",\"three\",\"lot\",\"cut\",\"deep\",\"roll\",\"any\",\"hoes\",\"each\"],\"x\":[-6.276882171630859,-15.329721450805664,-14.133021354675293,-4.366442680358887,-3.471278667449951,-10.84419059753418,-14.341297149658203,-17.530134201049805,-9.704394340515137,-12.385461807250977,-7.41376256942749,-11.312335014343262,-17.33751678466797,-12.3252592086792,-10.355693817138672,-4.162588596343994,-2.8283870220184326,-3.239783525466919,-14.725467681884766,-12.78502082824707,-8.777544975280762,-14.7554349899292,-3.804168462753296,-14.037627220153809,-20.72992515563965,11.96198558807373,-7.019908428192139,-5.023379325866699,-38.76139450073242,-51.81037521362305,-16.681501388549805,-16.60946273803711,-15.789008140563965,-15.546131134033203,-19.357036590576172,-16.555706024169922,-17.52055549621582,15.86367416381836,-15.828205108642578,-18.96002769470215,64.2643814086914,-13.98469352722168,39.67491149902344,-4.221873760223389,58.9896354675293,-4.080593585968018,-6.422812461853027,-7.4027605056762695,-5.982436656951904,0.9459666013717651,32.35482406616211,-13.908263206481934,-16.80269432067871,-12.359766006469727,-11.429736137390137,-4.715440273284912,38.446571350097656,-11.532841682434082,-19.970706939697266,-7.386160850524902,0.2653122842311859,-1.6934148073196411,-5.2910475730896,-8.609634399414062,-8.668485641479492,-25.68320083618164,-9.619869232177734,-16.6691951751709,-6.335354804992676,4.377545356750488,-4.646183967590332,-13.371573448181152,62.04200744628906,-7.697256088256836,-8.361153602600098,-20.348495483398438,30.868408203125,-10.965526580810547,43.65958023071289,-19.349275588989258,-22.65155029296875,-8.166425704956055,-16.654829025268555,-23.101152420043945,-8.252344131469727,-27.72089195251465,-10.774335861206055,-12.703042984008789,-16.190380096435547,29.37924575805664,-35.01625061035156,8.411245346069336,-12.581026077270508,-20.394969940185547,-52.52322006225586,21.076807022094727,-19.724061965942383,-6.669729232788086,-27.909503936767578,-15.406959533691406,-15.023293495178223,-9.637284278869629,40.55308532714844,0.03470219299197197,-15.458924293518066,-48.11561965942383,11.67232894897461,-19.81202507019043,14.25034236907959,-9.237120628356934,-0.38910239934921265,46.7774772644043,1.4140983819961548,-7.0759124755859375,49.16477966308594,-24.125389099121094,-0.4241103231906891,51.12904739379883,-5.280991554260254,-10.182210922241211,39.76160430908203,-6.0900726318359375,-15.067501068115234,-6.630397796630859,-5.605753421783447,9.334688186645508,7.607736587524414,-11.436823844909668,-26.339645385742188,0.3916699290275574,-68.36270141601562,-19.196741104125977,-12.627150535583496,-11.648079872131348,-38.37348937988281,65.34054565429688,-0.44037535786628723,-16.42106819152832,3.2383244037628174,-35.83610916137695,-36.835235595703125,-29.298442840576172,-13.491572380065918,-36.155887603759766,-55.32755661010742,10.060822486877441,-21.27025032043457,-17.734806060791016,-5.222311496734619,19.976980209350586,-1.3027558326721191,-14.776766777038574,-24.015892028808594,-27.66067886352539,-8.62118148803711,-22.407901763916016,26.912097930908203,-31.936410903930664,38.3592643737793,-17.416202545166016,-14.796041488647461,-13.747786521911621,22.360549926757812,-7.717031002044678,31.61947250366211,-8.50069808959961,-34.25258255004883,-16.31191062927246,50.976924896240234,6.78399658203125,-12.978769302368164,-35.065608978271484,-38.3870735168457,-15.802966117858887,-36.83319854736328,-11.96470832824707,-23.295101165771484,-1.6446250677108765,3.0018370151519775,0.8123176097869873,-23.649871826171875,-13.906967163085938,-14.90953540802002,5.309935569763184,-33.174537658691406,30.55941390991211,-10.058259010314941,40.9441032409668,61.93555450439453,-22.02690315246582,42.556182861328125,-58.81899642944336,-42.41578674316406,-26.905427932739258,-10.5604887008667,-4.429666996002197,-42.706787109375,-11.964367866516113,-24.926069259643555,-14.236652374267578,10.037787437438965,-17.88236427307129,-37.3611946105957,37.2370491027832,-42.147605895996094,-9.083521842956543,-4.824836730957031,-32.28076171875,-4.369856834411621,-28.346195220947266,-29.301250457763672,10.134763717651367,9.814899444580078,6.802422046661377,56.01820755004883,9.939936637878418,7.207012176513672,-18.668851852416992,-22.19922637939453,14.68964672088623,-26.545589447021484,0.791418731212616,-20.984298706054688,-15.72935676574707,15.561219215393066,-35.938446044921875,-15.423463821411133,16.583709716796875,55.916866302490234,30.03923988342285,0.783690869808197,-15.434244155883789,-21.939130783081055,-41.011940002441406,-36.12682342529297,61.13036346435547,6.630692958831787,43.616722106933594,-31.916175842285156,-18.425764083862305,4.127673625946045,18.144804000854492,-60.286155700683594,-23.950618743896484,-43.82040023803711,-1.150476336479187,-13.376113891601562,-34.40106201171875,-20.92897605895996,-35.28647994995117,7.981372356414795,-52.0302734375,40.0473518371582,41.11231231689453,49.56337356567383,21.38391876220703,-34.23744583129883,-36.6296272277832,31.895288467407227,-32.337100982666016,15.852331161499023,5.511087417602539,-6.484756946563721,-6.332259178161621,-14.225431442260742,-29.744915008544922,5.544770240783691,-10.675515174865723,-4.467960357666016,13.988776206970215,-35.99649429321289,-11.853763580322266,9.165210723876953,-3.2028844356536865,-9.661151885986328,-25.406946182250977,30.797622680664062,-13.107666015625,-37.5560188293457,-18.32744789123535,21.615079879760742,-44.11810302734375,-4.394819736480713,-29.24184799194336,-4.3826422691345215,-32.692378997802734,-50.05889129638672,-43.74175262451172,1.8775476217269897,37.97494888305664,-38.85511779785156,-39.57048797607422,-43.19255447387695,-54.75895309448242,-11.08139419555664,-29.873838424682617,-22.60683822631836,-5.615348815917969,-34.049495697021484,-34.518890380859375,-21.263416290283203,-33.262977600097656,-29.459978103637695,-34.681427001953125,24.010629653930664,-12.343426704406738,-29.42685890197754,-0.009674815461039543,2.9119997024536133,-38.77235412597656,-0.5046520829200745,-43.449771881103516,-35.62531661987305,16.474817276000977,-18.85569190979004,-11.658455848693848,2.826192617416382,-6.158622741699219,-52.799373626708984,-20.56391143798828,12.372395515441895,-30.260202407836914,-53.473201751708984,36.202301025390625,21.033803939819336,-22.82777214050293,-20.63186264038086,-26.301219940185547,-24.184860229492188,-60.71246337890625,15.650467872619629,-26.217674255371094,20.02446746826172,-27.831890106201172,-29.170591354370117,-9.085168838500977,-53.471458435058594,-18.331615447998047,16.2446346282959,-13.329768180847168,18.836227416992188,-26.368183135986328,40.57780838012695,-57.50069808959961,20.688583374023438,11.264030456542969,-49.322540283203125,-10.473665237426758,-13.694448471069336,-6.019320011138916,-9.037556648254395,-41.87049102783203,-44.8035888671875,-33.78184509277344,-24.623022079467773,-40.209617614746094,-34.92409896850586,-11.878101348876953,7.771912097930908,-21.998050689697266,-33.92598342895508,4.965881824493408,-36.27215576171875,-16.473766326904297,17.89980125427246,26.88292121887207,-8.756043434143066,-4.5352301597595215,-52.943603515625,1.280449628829956,44.42551803588867,-11.560623168945312,-56.99620056152344,14.219367980957031,-50.31397247314453,24.53380584716797,21.02591896057129,-18.786273956298828,-7.9694037437438965,6.955749988555908,13.327506065368652,-15.45564079284668,-1.2324285507202148,-47.51416778564453,-16.68001937866211,3.5425219535827637,45.97170639038086,21.107494354248047,8.403724670410156,6.597556114196777,1.0417903661727905,-3.774301528930664,50.775787353515625,6.232917785644531,11.451508522033691,22.44301414489746,33.22689437866211,-39.04659652709961,3.5639283657073975,-17.830602645874023],\"y\":[6.209010124206543,11.261858940124512,8.97457218170166,2.1126649379730225,8.659944534301758,0.7449721097946167,6.326496601104736,3.3740835189819336,13.97352123260498,-1.3237264156341553,9.947142601013184,9.008315086364746,3.9440691471099854,1.592923879623413,16.20161247253418,9.558566093444824,5.5406813621521,6.697834491729736,2.2428689002990723,12.884292602539062,-0.3918273150920868,-0.3401792347431183,5.282173156738281,13.778483390808105,4.223133563995361,-57.96255111694336,0.23911859095096588,1.5504659414291382,7.336766242980957,19.528270721435547,38.17899703979492,10.335394859313965,8.352347373962402,3.046159267425537,6.2626214027404785,10.091604232788086,-53.870487213134766,48.27165222167969,10.078259468078613,1.1794759035110474,-15.58537483215332,12.099624633789062,11.41124153137207,11.530535697937012,-39.82988739013672,5.684455394744873,3.5078279972076416,8.539031982421875,13.285642623901367,3.957894802093506,32.6337890625,13.55927562713623,12.6662015914917,-5.2485833168029785,9.436125755310059,16.783203125,41.195980072021484,18.98530387878418,7.937686920166016,-0.45425736904144287,8.359282493591309,12.089136123657227,2.291086435317993,17.52743911743164,19.200407028198242,-7.18991756439209,30.846357345581055,7.610073089599609,9.4570894241333,9.187110900878906,12.745311737060547,5.202036380767822,-34.57943344116211,14.028701782226562,51.1785888671875,9.497164726257324,32.6528434753418,18.388525009155273,-46.156105041503906,18.336034774780273,16.438814163208008,1.3980709314346313,6.218217372894287,60.594940185546875,4.913617134094238,15.554804801940918,-1.2021957635879517,3.2869110107421875,7.262609004974365,42.06496810913086,-1.9533056020736694,13.743040084838867,16.13717269897461,12.103039741516113,39.1497917175293,39.04083251953125,5.537973880767822,-6.566170692443848,2.8394534587860107,18.127927780151367,-1.5735318660736084,13.008394241333008,-29.897974014282227,16.16652488708496,19.116153717041016,33.31025314331055,47.86358642578125,14.063005447387695,17.947681427001953,-49.615291595458984,8.77491283416748,-47.79672622680664,-6.539059638977051,17.749658584594727,20.875459671020508,6.556416988372803,-7.612636089324951,-37.95858383178711,13.76220989227295,-17.60384178161621,58.78931427001953,20.297536849975586,2.584890365600586,9.845598220825195,14.28209114074707,8.648290634155273,38.10203170776367,16.071216583251953,-19.037607192993164,14.08200740814209,-21.799095153808594,1.1352757215499878,1.6413244009017944,7.202897548675537,30.93706512451172,-10.741121292114258,-18.61390495300293,27.10487174987793,-19.097360610961914,7.681220054626465,-38.72284698486328,10.202937126159668,-27.25313949584961,-21.32114601135254,28.897056579589844,3.5966479778289795,-29.346723556518555,9.037603378295898,-2.1835079193115234,22.291118621826172,9.29446029663086,30.404010772705078,-10.514669418334961,30.60744857788086,5.2049336433410645,4.2663798332214355,45.227237701416016,7.9041666984558105,-11.505644798278809,15.215392112731934,56.64592361450195,25.657249450683594,46.536659240722656,-42.45341110229492,-2.6645169258117676,14.577202796936035,5.419277667999268,1.328619360923767,20.158784866333008,42.09474182128906,14.826677322387695,-3.077160120010376,-0.023240040987730026,13.175334930419922,35.18126678466797,-1.6604641675949097,49.96662521362305,8.902822494506836,16.970380783081055,-20.549480438232422,-10.909272193908691,-4.909488677978516,19.925691604614258,29.188386917114258,38.963348388671875,20.811281204223633,62.925514221191406,-20.381994247436523,3.388352632522583,-28.75581932067871,28.858036041259766,2.7104570865631104,32.20659637451172,-1.0697811841964722,2.1705377101898193,69.695556640625,19.45992088317871,-30.64066505432129,-29.998727798461914,-26.286178588867188,-3.5867059230804443,13.845758438110352,29.30352210998535,-59.608673095703125,28.39325523376465,5.696673393249512,34.05664825439453,-8.413900375366211,-0.046785421669483185,42.49021911621094,48.16332244873047,23.89488410949707,-67.2905502319336,4.705770969390869,-41.170387268066406,0.7238762378692627,-42.01229476928711,-5.102956295013428,6.956548690795898,17.60226821899414,19.562171936035156,5.598546981811523,-11.813140869140625,-22.100135803222656,-11.710525512695312,38.320152282714844,-14.823267936706543,53.60654067993164,33.46855163574219,23.77741813659668,12.084673881530762,-40.10332107543945,-15.337492942810059,30.337848663330078,24.250791549682617,-26.2578125,9.431001663208008,-9.959057807922363,7.209716320037842,11.152400016784668,-5.017429351806641,29.391698837280273,-33.504722595214844,-29.171106338500977,-7.1084089279174805,1.0485856533050537,-31.268152236938477,0.6910465359687805,-15.98496150970459,19.883249282836914,-5.436852931976318,-15.804370880126953,-21.508394241333008,41.22116470336914,-47.477535247802734,55.56126022338867,-9.099434852600098,51.624595642089844,3.568277597427368,44.37315368652344,-35.152381896972656,27.327316284179688,-8.487186431884766,-4.346907615661621,5.808465003967285,2.756631374359131,-41.48625183105469,-16.04844093322754,39.265079498291016,35.075706481933594,-22.465429306030273,35.8929443359375,-14.030760765075684,30.09562110900879,-19.159711837768555,24.739988327026367,5.82138729095459,-49.262115478515625,-13.36618709564209,-25.034379959106445,51.18373489379883,8.550056457519531,12.35910415649414,-14.393816947937012,16.744346618652344,15.71132755279541,-19.670591354370117,-40.27875518798828,31.627750396728516,-26.560440063476562,-17.48415184020996,-31.882875442504883,-18.526432037353516,-30.88584327697754,-30.547800064086914,39.568336486816406,-19.172239303588867,17.90111541748047,-22.70131492614746,8.010355949401855,-20.848453521728516,-32.6946907043457,-32.768394470214844,-44.80682373046875,-7.155961036682129,25.12220001220703,7.104053497314453,12.650581359863281,-69.71916198730469,17.05558204650879,51.136959075927734,-44.87606430053711,-10.953352928161621,-8.731670379638672,38.34931182861328,-22.4100341796875,-7.8246846199035645,-49.16191101074219,-27.170555114746094,17.01248550415039,3.0984344482421875,25.580326080322266,44.721343994140625,11.405478477478027,47.09444046020508,11.177223205566406,-35.64312744140625,-53.96269226074219,36.86912155151367,1.0152429342269897,26.982501983642578,20.245529174804688,29.436185836791992,8.075895309448242,4.242627143859863,-5.583181858062744,-16.21028709411621,-2.086704730987549,14.2271728515625,-17.6812744140625,-2.1876490116119385,-61.54054641723633,24.990140914916992,-0.9783434867858887,-38.38388442993164,-43.39530563354492,-6.645187854766846,48.16023635864258,-5.48249626159668,-65.8557357788086,37.955047607421875,-12.5643949508667,25.15716552734375,40.33183670043945,53.11783981323242,7.963564872741699,-15.668423652648926,26.883460998535156,-19.239898681640625,-3.3097877502441406,-48.094932556152344,32.216243743896484,25.163753509521484,-10.589855194091797,29.916000366210938,24.015897750854492,-26.590463638305664,-8.273636817932129,37.62344741821289,4.049196720123291,-38.99173355102539,13.852370262145996,-10.540353775024414,35.580806732177734,-43.15347671508789,64.1033935546875,12.272870063781738,4.886862277984619,33.566097259521484,13.755879402160645,-27.544315338134766,-21.614744186401367,46.50346755981445,-21.553686141967773,-50.94852828979492,-24.623918533325195,-15.517407417297363,17.780540466308594,1.7830979824066162,-57.232757568359375,32.950809478759766,-41.73086929321289,-25.762624740600586,-45.88642120361328,-38.173370361328125,21.442729949951172,-26.209575653076172,46.18208694458008,-20.918956756591797,-31.787248611450195],\"z\":[0.5294731259346008,19.477088928222656,20.302547454833984,7.838901042938232,12.985639572143555,12.59399700164795,16.427297592163086,8.854891777038574,4.000355243682861,4.815330982208252,1.1021188497543335,-1.574889063835144,0.7243474125862122,2.0456390380859375,8.0521879196167,4.0661516189575195,2.9936652183532715,7.164529323577881,11.620656967163086,19.479095458984375,2.3935601711273193,8.483996391296387,10.900918960571289,10.220466613769531,11.933181762695312,31.079654693603516,10.952808380126953,3.781751871109009,42.86052703857422,-9.169180870056152,42.4048957824707,10.988893508911133,-0.8478682637214661,4.6066694259643555,15.827604293823242,6.768884658813477,32.844356536865234,32.6462287902832,16.372638702392578,5.545214653015137,18.59982681274414,0.74754399061203,26.518024444580078,10.122580528259277,5.604820251464844,16.385831832885742,13.660490036010742,14.705632209777832,6.608932971954346,4.911220073699951,45.29506301879883,15.711776733398438,3.7023167610168457,66.71636199951172,16.516103744506836,9.446887016296387,28.368864059448242,4.597304344177246,9.400049209594727,6.413198947906494,4.340884208679199,6.563626289367676,-0.33515673875808716,28.646963119506836,10.432334899902344,34.64888381958008,24.536832809448242,3.2723779678344727,18.552669525146484,2.4097626209259033,14.968849182128906,0.7145871520042419,-2.759446144104004,10.492536544799805,46.277427673339844,3.747424602508545,-27.332183837890625,16.92223358154297,-30.75004005432129,11.623872756958008,8.597089767456055,20.50466537475586,12.1106595993042,-5.92781925201416,17.76323127746582,-2.8950726985931396,8.908946990966797,19.889867782592773,20.105314254760742,50.05400848388672,11.82675838470459,46.37828063964844,1.1862988471984863,7.568206787109375,2.8361012935638428,29.295116424560547,5.694794654846191,-52.83634948730469,6.458444118499756,14.127829551696777,13.226006507873535,-0.3781808912754059,42.188236236572266,64.91929626464844,19.216760635375977,30.895713806152344,38.962432861328125,26.014780044555664,29.19994354248047,10.31786823272705,9.27514362335205,21.63111114501953,2.1729488372802734,5.429375648498535,-1.446744680404663,4.686707019805908,37.7015266418457,-25.254253387451172,2.3973162174224854,13.574864387512207,1.2033833265304565,25.252010345458984,16.013723373413086,-3.3206052780151367,-2.2103371620178223,61.89093780517578,31.27532958984375,12.810832023620605,56.977294921875,-10.877522468566895,-5.609935283660889,14.74996566772461,26.937416076660156,19.747543334960938,13.227389335632324,25.04802894592285,40.56034469604492,-17.783729553222656,64.65326690673828,42.8329963684082,-30.557960510253906,50.821109771728516,10.265707015991211,-1.9384233951568604,-21.413368225097656,37.21421813964844,-22.452468872070312,23.990549087524414,20.502525329589844,43.34347915649414,14.028751373291016,27.230573654174805,-37.569602966308594,10.393149375915527,52.9974479675293,18.710914611816406,43.86277389526367,9.09052848815918,18.24141502380371,18.210817337036133,43.428897857666016,24.81324005126953,37.16497802734375,4.252395153045654,-5.539405822753906,18.7105712890625,0.4651692509651184,24.79461097717285,5.0412139892578125,37.545677185058594,-32.5828742980957,55.270179748535156,9.930235862731934,27.834457397460938,41.96525573730469,-5.0410380363464355,46.15475082397461,19.106342315673828,23.032560348510742,30.1304931640625,37.84178161621094,41.246307373046875,51.30503845214844,23.699642181396484,-19.09941291809082,23.245866775512695,-4.558535575866699,40.184326171875,-17.279844284057617,9.779123306274414,15.946579933166504,44.09468460083008,-13.4056978225708,9.389204978942871,42.31465148925781,12.5498628616333,6.767684459686279,63.88258361816406,-28.674341201782227,20.755922317504883,55.66608810424805,13.021454811096191,27.47147560119629,-9.420040130615234,41.22682189941406,68.39850616455078,8.27469253540039,-40.242374420166016,34.44588851928711,39.97494125366211,8.612933158874512,-32.065086364746094,-14.29942798614502,-32.037628173828125,-9.367391586303711,30.36181640625,-29.26796531677246,35.27415466308594,-23.059598922729492,24.131914138793945,55.41459655761719,52.772132873535156,-3.7552907466888428,19.93421173095703,57.667354583740234,26.366199493408203,33.70476531982422,20.217567443847656,7.323080539703369,52.05056381225586,34.03196334838867,46.10226058959961,10.325060844421387,51.325618743896484,25.472471237182617,-2.2558958530426025,17.13040542602539,-40.034114837646484,33.2807731628418,19.495773315429688,-7.729199409484863,58.17252731323242,11.140813827514648,54.68319320678711,38.71843719482422,0.9550195336341858,23.64871597290039,8.625484466552734,14.755797386169434,13.451920509338379,43.15217590332031,-3.119929552078247,53.308013916015625,40.913978576660156,-11.660143852233887,7.17917537689209,30.720294952392578,-29.587303161621094,25.04451560974121,33.45570373535156,-21.39707374572754,-17.929983139038086,69.77595520019531,63.18866729736328,23.63069725036621,11.03238582611084,-11.93449592590332,6.085915565490723,34.7489128112793,34.767669677734375,50.218929290771484,-3.897256851196289,-8.250896453857422,33.329898834228516,19.311187744140625,-23.067983627319336,47.176918029785156,6.514749526977539,36.713165283203125,25.731225967407227,16.984607696533203,28.913616180419922,40.13711166381836,-61.828975677490234,-27.619749069213867,15.1966552734375,47.5919075012207,18.02277374267578,-9.640827178955078,8.435644149780273,17.888187408447266,34.528297424316406,40.292205810546875,-32.11171340942383,53.118412017822266,21.95490837097168,-13.39435863494873,39.940696716308594,12.156294822692871,18.63115692138672,20.351871490478516,-3.6570608615875244,20.436670303344727,-30.943443298339844,21.075902938842773,-46.86323928833008,3.675792694091797,-16.58118438720703,7.8569440841674805,32.68958282470703,40.15684509277344,24.978313446044922,-14.841856002807617,36.31586837768555,19.304834365844727,43.28500747680664,8.002814292907715,-30.741230010986328,4.095661163330078,20.595609664916992,7.511446475982666,-21.026966094970703,-9.527990341186523,22.629016876220703,4.757030963897705,23.473812103271484,-45.86286163330078,37.405487060546875,22.067148208618164,-7.484419822692871,-15.636041641235352,29.306577682495117,7.147711753845215,8.283570289611816,-17.766178131103516,17.05784797668457,-20.20780372619629,40.70649719238281,16.315162658691406,9.881738662719727,-8.645439147949219,-11.812908172607422,32.0737419128418,9.64145278930664,19.97353172302246,18.916061401367188,-2.279139280319214,-6.641630172729492,20.79860496520996,-22.156780242919922,36.98082733154297,-2.4258782863616943,7.7375335693359375,17.719383239746094,-5.314347267150879,45.944725036621094,27.776805877685547,37.9809455871582,9.96048641204834,50.942012786865234,2.2841603755950928,7.350633144378662,42.03322219848633,-1.7196109294891357,17.209651947021484,23.31995391845703,-22.90614128112793,3.016422986984253,-6.69676399230957,29.310497283935547,-36.778961181640625,25.2179012298584,37.100502014160156,55.10786056518555,-8.088078498840332,17.15480613708496,-27.591970443725586,-57.92811965942383,37.34325408935547,65.06523132324219,-14.59148120880127,8.887914657592773,-17.44521141052246,22.998836517333984,20.68570327758789,30.87969207763672,23.164560317993164,-1.6328802108764648,4.0411906242370605,-10.915609359741211,-52.15888214111328,2.7748215198516846,23.875150680541992,30.024429321289062,2.2477917671203613,1.4750103950500488,8.586703300476074,-36.32545471191406,34.45875549316406,14.905131340026855],\"type\":\"scatter3d\"}],                        {\"template\":{\"data\":{\"bar\":[{\"error_x\":{\"color\":\"#2a3f5f\"},\"error_y\":{\"color\":\"#2a3f5f\"},\"marker\":{\"line\":{\"color\":\"#E5ECF6\",\"width\":0.5},\"pattern\":{\"fillmode\":\"overlay\",\"size\":10,\"solidity\":0.2}},\"type\":\"bar\"}],\"barpolar\":[{\"marker\":{\"line\":{\"color\":\"#E5ECF6\",\"width\":0.5},\"pattern\":{\"fillmode\":\"overlay\",\"size\":10,\"solidity\":0.2}},\"type\":\"barpolar\"}],\"carpet\":[{\"aaxis\":{\"endlinecolor\":\"#2a3f5f\",\"gridcolor\":\"white\",\"linecolor\":\"white\",\"minorgridcolor\":\"white\",\"startlinecolor\":\"#2a3f5f\"},\"baxis\":{\"endlinecolor\":\"#2a3f5f\",\"gridcolor\":\"white\",\"linecolor\":\"white\",\"minorgridcolor\":\"white\",\"startlinecolor\":\"#2a3f5f\"},\"type\":\"carpet\"}],\"choropleth\":[{\"colorbar\":{\"outlinewidth\":0,\"ticks\":\"\"},\"type\":\"choropleth\"}],\"contour\":[{\"colorbar\":{\"outlinewidth\":0,\"ticks\":\"\"},\"colorscale\":[[0.0,\"#0d0887\"],[0.1111111111111111,\"#46039f\"],[0.2222222222222222,\"#7201a8\"],[0.3333333333333333,\"#9c179e\"],[0.4444444444444444,\"#bd3786\"],[0.5555555555555556,\"#d8576b\"],[0.6666666666666666,\"#ed7953\"],[0.7777777777777778,\"#fb9f3a\"],[0.8888888888888888,\"#fdca26\"],[1.0,\"#f0f921\"]],\"type\":\"contour\"}],\"contourcarpet\":[{\"colorbar\":{\"outlinewidth\":0,\"ticks\":\"\"},\"type\":\"contourcarpet\"}],\"heatmap\":[{\"colorbar\":{\"outlinewidth\":0,\"ticks\":\"\"},\"colorscale\":[[0.0,\"#0d0887\"],[0.1111111111111111,\"#46039f\"],[0.2222222222222222,\"#7201a8\"],[0.3333333333333333,\"#9c179e\"],[0.4444444444444444,\"#bd3786\"],[0.5555555555555556,\"#d8576b\"],[0.6666666666666666,\"#ed7953\"],[0.7777777777777778,\"#fb9f3a\"],[0.8888888888888888,\"#fdca26\"],[1.0,\"#f0f921\"]],\"type\":\"heatmap\"}],\"heatmapgl\":[{\"colorbar\":{\"outlinewidth\":0,\"ticks\":\"\"},\"colorscale\":[[0.0,\"#0d0887\"],[0.1111111111111111,\"#46039f\"],[0.2222222222222222,\"#7201a8\"],[0.3333333333333333,\"#9c179e\"],[0.4444444444444444,\"#bd3786\"],[0.5555555555555556,\"#d8576b\"],[0.6666666666666666,\"#ed7953\"],[0.7777777777777778,\"#fb9f3a\"],[0.8888888888888888,\"#fdca26\"],[1.0,\"#f0f921\"]],\"type\":\"heatmapgl\"}],\"histogram\":[{\"marker\":{\"pattern\":{\"fillmode\":\"overlay\",\"size\":10,\"solidity\":0.2}},\"type\":\"histogram\"}],\"histogram2d\":[{\"colorbar\":{\"outlinewidth\":0,\"ticks\":\"\"},\"colorscale\":[[0.0,\"#0d0887\"],[0.1111111111111111,\"#46039f\"],[0.2222222222222222,\"#7201a8\"],[0.3333333333333333,\"#9c179e\"],[0.4444444444444444,\"#bd3786\"],[0.5555555555555556,\"#d8576b\"],[0.6666666666666666,\"#ed7953\"],[0.7777777777777778,\"#fb9f3a\"],[0.8888888888888888,\"#fdca26\"],[1.0,\"#f0f921\"]],\"type\":\"histogram2d\"}],\"histogram2dcontour\":[{\"colorbar\":{\"outlinewidth\":0,\"ticks\":\"\"},\"colorscale\":[[0.0,\"#0d0887\"],[0.1111111111111111,\"#46039f\"],[0.2222222222222222,\"#7201a8\"],[0.3333333333333333,\"#9c179e\"],[0.4444444444444444,\"#bd3786\"],[0.5555555555555556,\"#d8576b\"],[0.6666666666666666,\"#ed7953\"],[0.7777777777777778,\"#fb9f3a\"],[0.8888888888888888,\"#fdca26\"],[1.0,\"#f0f921\"]],\"type\":\"histogram2dcontour\"}],\"mesh3d\":[{\"colorbar\":{\"outlinewidth\":0,\"ticks\":\"\"},\"type\":\"mesh3d\"}],\"parcoords\":[{\"line\":{\"colorbar\":{\"outlinewidth\":0,\"ticks\":\"\"}},\"type\":\"parcoords\"}],\"pie\":[{\"automargin\":true,\"type\":\"pie\"}],\"scatter\":[{\"marker\":{\"colorbar\":{\"outlinewidth\":0,\"ticks\":\"\"}},\"type\":\"scatter\"}],\"scatter3d\":[{\"line\":{\"colorbar\":{\"outlinewidth\":0,\"ticks\":\"\"}},\"marker\":{\"colorbar\":{\"outlinewidth\":0,\"ticks\":\"\"}},\"type\":\"scatter3d\"}],\"scattercarpet\":[{\"marker\":{\"colorbar\":{\"outlinewidth\":0,\"ticks\":\"\"}},\"type\":\"scattercarpet\"}],\"scattergeo\":[{\"marker\":{\"colorbar\":{\"outlinewidth\":0,\"ticks\":\"\"}},\"type\":\"scattergeo\"}],\"scattergl\":[{\"marker\":{\"colorbar\":{\"outlinewidth\":0,\"ticks\":\"\"}},\"type\":\"scattergl\"}],\"scattermapbox\":[{\"marker\":{\"colorbar\":{\"outlinewidth\":0,\"ticks\":\"\"}},\"type\":\"scattermapbox\"}],\"scatterpolar\":[{\"marker\":{\"colorbar\":{\"outlinewidth\":0,\"ticks\":\"\"}},\"type\":\"scatterpolar\"}],\"scatterpolargl\":[{\"marker\":{\"colorbar\":{\"outlinewidth\":0,\"ticks\":\"\"}},\"type\":\"scatterpolargl\"}],\"scatterternary\":[{\"marker\":{\"colorbar\":{\"outlinewidth\":0,\"ticks\":\"\"}},\"type\":\"scatterternary\"}],\"surface\":[{\"colorbar\":{\"outlinewidth\":0,\"ticks\":\"\"},\"colorscale\":[[0.0,\"#0d0887\"],[0.1111111111111111,\"#46039f\"],[0.2222222222222222,\"#7201a8\"],[0.3333333333333333,\"#9c179e\"],[0.4444444444444444,\"#bd3786\"],[0.5555555555555556,\"#d8576b\"],[0.6666666666666666,\"#ed7953\"],[0.7777777777777778,\"#fb9f3a\"],[0.8888888888888888,\"#fdca26\"],[1.0,\"#f0f921\"]],\"type\":\"surface\"}],\"table\":[{\"cells\":{\"fill\":{\"color\":\"#EBF0F8\"},\"line\":{\"color\":\"white\"}},\"header\":{\"fill\":{\"color\":\"#C8D4E3\"},\"line\":{\"color\":\"white\"}},\"type\":\"table\"}]},\"layout\":{\"annotationdefaults\":{\"arrowcolor\":\"#2a3f5f\",\"arrowhead\":0,\"arrowwidth\":1},\"autotypenumbers\":\"strict\",\"coloraxis\":{\"colorbar\":{\"outlinewidth\":0,\"ticks\":\"\"}},\"colorscale\":{\"diverging\":[[0,\"#8e0152\"],[0.1,\"#c51b7d\"],[0.2,\"#de77ae\"],[0.3,\"#f1b6da\"],[0.4,\"#fde0ef\"],[0.5,\"#f7f7f7\"],[0.6,\"#e6f5d0\"],[0.7,\"#b8e186\"],[0.8,\"#7fbc41\"],[0.9,\"#4d9221\"],[1,\"#276419\"]],\"sequential\":[[0.0,\"#0d0887\"],[0.1111111111111111,\"#46039f\"],[0.2222222222222222,\"#7201a8\"],[0.3333333333333333,\"#9c179e\"],[0.4444444444444444,\"#bd3786\"],[0.5555555555555556,\"#d8576b\"],[0.6666666666666666,\"#ed7953\"],[0.7777777777777778,\"#fb9f3a\"],[0.8888888888888888,\"#fdca26\"],[1.0,\"#f0f921\"]],\"sequentialminus\":[[0.0,\"#0d0887\"],[0.1111111111111111,\"#46039f\"],[0.2222222222222222,\"#7201a8\"],[0.3333333333333333,\"#9c179e\"],[0.4444444444444444,\"#bd3786\"],[0.5555555555555556,\"#d8576b\"],[0.6666666666666666,\"#ed7953\"],[0.7777777777777778,\"#fb9f3a\"],[0.8888888888888888,\"#fdca26\"],[1.0,\"#f0f921\"]]},\"colorway\":[\"#636efa\",\"#EF553B\",\"#00cc96\",\"#ab63fa\",\"#FFA15A\",\"#19d3f3\",\"#FF6692\",\"#B6E880\",\"#FF97FF\",\"#FECB52\"],\"font\":{\"color\":\"#2a3f5f\"},\"geo\":{\"bgcolor\":\"white\",\"lakecolor\":\"white\",\"landcolor\":\"#E5ECF6\",\"showlakes\":true,\"showland\":true,\"subunitcolor\":\"white\"},\"hoverlabel\":{\"align\":\"left\"},\"hovermode\":\"closest\",\"mapbox\":{\"style\":\"light\"},\"paper_bgcolor\":\"white\",\"plot_bgcolor\":\"#E5ECF6\",\"polar\":{\"angularaxis\":{\"gridcolor\":\"white\",\"linecolor\":\"white\",\"ticks\":\"\"},\"bgcolor\":\"#E5ECF6\",\"radialaxis\":{\"gridcolor\":\"white\",\"linecolor\":\"white\",\"ticks\":\"\"}},\"scene\":{\"xaxis\":{\"backgroundcolor\":\"#E5ECF6\",\"gridcolor\":\"white\",\"gridwidth\":2,\"linecolor\":\"white\",\"showbackground\":true,\"ticks\":\"\",\"zerolinecolor\":\"white\"},\"yaxis\":{\"backgroundcolor\":\"#E5ECF6\",\"gridcolor\":\"white\",\"gridwidth\":2,\"linecolor\":\"white\",\"showbackground\":true,\"ticks\":\"\",\"zerolinecolor\":\"white\"},\"zaxis\":{\"backgroundcolor\":\"#E5ECF6\",\"gridcolor\":\"white\",\"gridwidth\":2,\"linecolor\":\"white\",\"showbackground\":true,\"ticks\":\"\",\"zerolinecolor\":\"white\"}},\"shapedefaults\":{\"line\":{\"color\":\"#2a3f5f\"}},\"ternary\":{\"aaxis\":{\"gridcolor\":\"white\",\"linecolor\":\"white\",\"ticks\":\"\"},\"baxis\":{\"gridcolor\":\"white\",\"linecolor\":\"white\",\"ticks\":\"\"},\"bgcolor\":\"#E5ECF6\",\"caxis\":{\"gridcolor\":\"white\",\"linecolor\":\"white\",\"ticks\":\"\"}},\"title\":{\"x\":0.05},\"xaxis\":{\"automargin\":true,\"gridcolor\":\"white\",\"linecolor\":\"white\",\"ticks\":\"\",\"title\":{\"standoff\":15},\"zerolinecolor\":\"white\",\"zerolinewidth\":2},\"yaxis\":{\"automargin\":true,\"gridcolor\":\"white\",\"linecolor\":\"white\",\"ticks\":\"\",\"title\":{\"standoff\":15},\"zerolinecolor\":\"white\",\"zerolinewidth\":2}}},\"scene\":{\"domain\":{\"x\":[0.0,1.0],\"y\":[0.0,1.0]},\"xaxis\":{\"title\":{\"text\":\"x\"}},\"yaxis\":{\"title\":{\"text\":\"y\"}},\"zaxis\":{\"title\":{\"text\":\"z\"}}},\"legend\":{\"tracegroupgap\":0},\"margin\":{\"t\":0,\"l\":0,\"r\":0,\"b\":0}},                        {\"responsive\": true}                    ).then(function(){\n",
              "                            \n",
              "var gd = document.getElementById('8c19e867-130d-4586-bf03-bec61060412b');\n",
              "var x = new MutationObserver(function (mutations, observer) {{\n",
              "        var display = window.getComputedStyle(gd).display;\n",
              "        if (!display || display === 'none') {{\n",
              "            console.log([gd, 'removed!']);\n",
              "            Plotly.purge(gd);\n",
              "            observer.disconnect();\n",
              "        }}\n",
              "}});\n",
              "\n",
              "// Listen for the removal of the full notebook cells\n",
              "var notebookContainer = gd.closest('#notebook-container');\n",
              "if (notebookContainer) {{\n",
              "    x.observe(notebookContainer, {childList: true});\n",
              "}}\n",
              "\n",
              "// Listen for the clearing of the current output cell\n",
              "var outputEl = gd.closest('.output');\n",
              "if (outputEl) {{\n",
              "    x.observe(outputEl, {childList: true});\n",
              "}}\n",
              "\n",
              "                        })                };                            </script>        </div>\n",
              "</body>\n",
              "</html>"
            ]
          },
          "metadata": {}
        }
      ],
      "source": [
        "vectors, labels = reduce_dimensions(w2v_model, num_dimensions=3)\n",
        "x_vals = [v[0] for v in vectors]\n",
        "y_vals = [v[1] for v in vectors]\n",
        "z_vals = [v[2] for v in vectors]\n",
        "\n",
        "MAX_WORDS = 400\n",
        "fig = px.scatter_3d(x=x_vals[:MAX_WORDS], y=y_vals[:MAX_WORDS], z=z_vals[:MAX_WORDS], text=labels[:MAX_WORDS], size_max=18, opacity=0.7)\n",
        "fig.update_layout(margin=dict(l=0, r=0, b=0, t=0))\n",
        "fig.show(renderer=\"colab\")"
      ]
    }
  ],
  "metadata": {
    "accelerator": "GPU",
    "colab": {
      "collapsed_sections": [],
      "name": "NLP_clase_3_embedding.ipynb",
      "provenance": [],
      "authorship_tag": "ABX9TyPu4VStnaE+yzVswS9LKHYp"
    },
    "kernelspec": {
      "display_name": "Python 3",
      "name": "python3"
    },
    "language_info": {
      "name": "python"
    }
  },
  "nbformat": 4,
  "nbformat_minor": 0
}