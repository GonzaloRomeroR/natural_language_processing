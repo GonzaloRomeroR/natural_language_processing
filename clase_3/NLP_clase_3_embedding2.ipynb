{
  "cells": [
    {
      "cell_type": "markdown",
      "metadata": {
        "id": "2-cByPIMTfDa"
      },
      "source": [
        "<img src=\"https://github.com/hernancontigiani/ceia_memorias_especializacion/raw/master/Figures/logoFIUBA.jpg\" width=\"500\" align=\"center\">\n",
        "\n",
        "\n",
        "# Natural language processing\n",
        "## Custom embedddings using Gensim\n",
        "\n"
      ]
    },
    {
      "cell_type": "code",
      "execution_count": 1,
      "metadata": {
        "id": "uWSsV04SToCB"
      },
      "outputs": [],
      "source": [
        "# Import libraries\n",
        "import pandas as pd\n",
        "import matplotlib.pyplot as plt\n",
        "import seaborn as sns\n",
        "import os\n",
        "import platform\n",
        "\n",
        "import multiprocessing\n",
        "from gensim.models import Word2Vec\n",
        "from keras.preprocessing.text import text_to_word_sequence\n",
        "from gensim.models.callbacks import CallbackAny2Vec\n",
        "from sklearn.decomposition import IncrementalPCA    \n",
        "from sklearn.manifold import TSNE                   \n",
        "import numpy as np\n",
        "import plotly.graph_objects as go\n",
        "import plotly.express as px\n",
        "\n"
      ]
    },
    {
      "cell_type": "markdown",
      "metadata": {
        "id": "kiE1N5_PUBL4"
      },
      "source": [
        "### Import dataset"
      ]
    },
    {
      "cell_type": "code",
      "execution_count": 2,
      "metadata": {
        "colab": {
          "base_uri": "https://localhost:8080/"
        },
        "id": "YMYTgl9CUEOh",
        "outputId": "5e366229-fb33-4938-a2b5-2a494cd2c061"
      },
      "outputs": [
        {
          "name": "stdout",
          "output_type": "stream",
          "text": [
            "--2022-03-29 23:26:20--  http://songs_dataset.zip/\n",
            "Resolving songs_dataset.zip (songs_dataset.zip)... failed: Name or service not known.\n",
            "wget: unable to resolve host address ‘songs_dataset.zip’\n",
            "--2022-03-29 23:26:20--  https://github.com/FIUBA-Posgrado-Inteligencia-Artificial/procesamiento_lenguaje_natural/raw/main/datasets/songs_dataset.zip\n",
            "Resolving github.com (github.com)... 140.82.121.4\n",
            "Connecting to github.com (github.com)|140.82.121.4|:443... connected.\n",
            "HTTP request sent, awaiting response... 302 Found\n",
            "Location: https://raw.githubusercontent.com/FIUBA-Posgrado-Inteligencia-Artificial/procesamiento_lenguaje_natural/main/datasets/songs_dataset.zip [following]\n",
            "--2022-03-29 23:26:21--  https://raw.githubusercontent.com/FIUBA-Posgrado-Inteligencia-Artificial/procesamiento_lenguaje_natural/main/datasets/songs_dataset.zip\n",
            "Resolving raw.githubusercontent.com (raw.githubusercontent.com)... 185.199.108.133, 185.199.109.133, 185.199.110.133, ...\n",
            "Connecting to raw.githubusercontent.com (raw.githubusercontent.com)|185.199.108.133|:443... connected.\n",
            "HTTP request sent, awaiting response... 200 OK\n",
            "Length: 2075036 (2.0M) [application/zip]\n",
            "Saving to: ‘songs_dataset.zip’\n",
            "\n",
            "songs_dataset.zip   100%[===================>]   1.98M  --.-KB/s    in 0.06s   \n",
            "\n",
            "2022-03-29 23:26:22 (35.4 MB/s) - ‘songs_dataset.zip’ saved [2075036/2075036]\n",
            "\n",
            "FINISHED --2022-03-29 23:26:22--\n",
            "Total wall clock time: 1.7s\n",
            "Downloaded: 1 files, 2.0M in 0.06s (35.4 MB/s)\n"
          ]
        }
      ],
      "source": [
        "if os.access('./songs_dataset', os.F_OK) is False:\n",
        "    if os.access('songs_dataset.zip', os.F_OK) is False:\n",
        "        if platform.system() == 'Windows':\n",
        "            !curl https://raw.githubusercontent.com/FIUBA-Posgrado-Inteligencia-Artificial/procesamiento_lenguaje_natural/main/datasets/songs_dataset.zip -o songs_dataset.zip\n",
        "        else:\n",
        "            !wget songs_dataset.zip https://github.com/FIUBA-Posgrado-Inteligencia-Artificial/procesamiento_lenguaje_natural/raw/main/datasets/songs_dataset.zip\n",
        "    !unzip -q songs_dataset.zip   \n",
        "else:\n",
        "    print(\"El dataset ya se encuentra descargado\")"
      ]
    },
    {
      "cell_type": "code",
      "execution_count": 3,
      "metadata": {
        "colab": {
          "base_uri": "https://localhost:8080/"
        },
        "id": "-ioEOfGyUW74",
        "outputId": "4b8710b9-b8aa-4bb7-c9fa-be24a121ee3f"
      },
      "outputs": [
        {
          "data": {
            "text/plain": [
              "['rihanna.txt',\n",
              " 'notorious_big.txt',\n",
              " 'amy-winehouse.txt',\n",
              " 'johnny-cash.txt',\n",
              " 'al-green.txt',\n",
              " 'radiohead.txt',\n",
              " 'bob-marley.txt',\n",
              " 'missy-elliott.txt',\n",
              " 'bruno-mars.txt',\n",
              " 'bjork.txt',\n",
              " 'Lil_Wayne.txt',\n",
              " 'britney-spears.txt',\n",
              " 'notorious-big.txt',\n",
              " 'r-kelly.txt',\n",
              " 'dickinson.txt',\n",
              " 'lady-gaga.txt',\n",
              " 'dolly-parton.txt',\n",
              " 'dr-seuss.txt',\n",
              " 'bieber.txt',\n",
              " 'alicia-keys.txt',\n",
              " 'disney.txt',\n",
              " 'adele.txt',\n",
              " 'nicki-minaj.txt',\n",
              " 'kanye-west.txt',\n",
              " 'janisjoplin.txt',\n",
              " 'cake.txt',\n",
              " 'kanye.txt',\n",
              " 'drake.txt',\n",
              " 'eminem.txt',\n",
              " 'prince.txt',\n",
              " 'nickelback.txt',\n",
              " 'joni-mitchell.txt',\n",
              " 'nursery_rhymes.txt',\n",
              " 'lorde.txt',\n",
              " 'lin-manuel-miranda.txt',\n",
              " 'patti-smith.txt',\n",
              " 'ludacris.txt',\n",
              " 'nirvana.txt',\n",
              " 'Kanye_West.txt',\n",
              " 'beatles.txt',\n",
              " 'blink-182.txt',\n",
              " 'bruce-springsteen.txt',\n",
              " 'lil-wayne.txt',\n",
              " 'leonard-cohen.txt',\n",
              " 'bob-dylan.txt',\n",
              " 'michael-jackson.txt',\n",
              " 'dj-khaled.txt',\n",
              " 'paul-simon.txt',\n",
              " 'jimi-hendrix.txt']"
            ]
          },
          "execution_count": 3,
          "metadata": {},
          "output_type": "execute_result"
        }
      ],
      "source": [
        "# Posibles bandas\n",
        "os.listdir(\"./songs_dataset/\")"
      ]
    },
    {
      "cell_type": "code",
      "execution_count": 4,
      "metadata": {
        "colab": {
          "base_uri": "https://localhost:8080/",
          "height": 206
        },
        "id": "KaWEWnnTU73u",
        "outputId": "da8657cf-7462-4f9f-b07a-b99e1a373490"
      },
      "outputs": [
        {
          "data": {
            "text/html": [
              "\n",
              "  <div id=\"df-b9785bb4-d3b2-48d3-bb82-9b970050639f\">\n",
              "    <div class=\"colab-df-container\">\n",
              "      <div>\n",
              "<style scoped>\n",
              "    .dataframe tbody tr th:only-of-type {\n",
              "        vertical-align: middle;\n",
              "    }\n",
              "\n",
              "    .dataframe tbody tr th {\n",
              "        vertical-align: top;\n",
              "    }\n",
              "\n",
              "    .dataframe thead th {\n",
              "        text-align: right;\n",
              "    }\n",
              "</style>\n",
              "<table border=\"1\" class=\"dataframe\">\n",
              "  <thead>\n",
              "    <tr style=\"text-align: right;\">\n",
              "      <th></th>\n",
              "      <th>0</th>\n",
              "    </tr>\n",
              "  </thead>\n",
              "  <tbody>\n",
              "    <tr>\n",
              "      <th>0</th>\n",
              "      <td>Ghost in the mirror</td>\n",
              "    </tr>\n",
              "    <tr>\n",
              "      <th>1</th>\n",
              "      <td>I knew your face once, but now it's unclear</td>\n",
              "    </tr>\n",
              "    <tr>\n",
              "      <th>2</th>\n",
              "      <td>And I can't feel my body now</td>\n",
              "    </tr>\n",
              "    <tr>\n",
              "      <th>3</th>\n",
              "      <td>I'm separate from here and now A drug and a dream</td>\n",
              "    </tr>\n",
              "    <tr>\n",
              "      <th>4</th>\n",
              "      <td>We lost connection, oh come back to me</td>\n",
              "    </tr>\n",
              "  </tbody>\n",
              "</table>\n",
              "</div>\n",
              "      <button class=\"colab-df-convert\" onclick=\"convertToInteractive('df-b9785bb4-d3b2-48d3-bb82-9b970050639f')\"\n",
              "              title=\"Convert this dataframe to an interactive table.\"\n",
              "              style=\"display:none;\">\n",
              "        \n",
              "  <svg xmlns=\"http://www.w3.org/2000/svg\" height=\"24px\"viewBox=\"0 0 24 24\"\n",
              "       width=\"24px\">\n",
              "    <path d=\"M0 0h24v24H0V0z\" fill=\"none\"/>\n",
              "    <path d=\"M18.56 5.44l.94 2.06.94-2.06 2.06-.94-2.06-.94-.94-2.06-.94 2.06-2.06.94zm-11 1L8.5 8.5l.94-2.06 2.06-.94-2.06-.94L8.5 2.5l-.94 2.06-2.06.94zm10 10l.94 2.06.94-2.06 2.06-.94-2.06-.94-.94-2.06-.94 2.06-2.06.94z\"/><path d=\"M17.41 7.96l-1.37-1.37c-.4-.4-.92-.59-1.43-.59-.52 0-1.04.2-1.43.59L10.3 9.45l-7.72 7.72c-.78.78-.78 2.05 0 2.83L4 21.41c.39.39.9.59 1.41.59.51 0 1.02-.2 1.41-.59l7.78-7.78 2.81-2.81c.8-.78.8-2.07 0-2.86zM5.41 20L4 18.59l7.72-7.72 1.47 1.35L5.41 20z\"/>\n",
              "  </svg>\n",
              "      </button>\n",
              "      \n",
              "  <style>\n",
              "    .colab-df-container {\n",
              "      display:flex;\n",
              "      flex-wrap:wrap;\n",
              "      gap: 12px;\n",
              "    }\n",
              "\n",
              "    .colab-df-convert {\n",
              "      background-color: #E8F0FE;\n",
              "      border: none;\n",
              "      border-radius: 50%;\n",
              "      cursor: pointer;\n",
              "      display: none;\n",
              "      fill: #1967D2;\n",
              "      height: 32px;\n",
              "      padding: 0 0 0 0;\n",
              "      width: 32px;\n",
              "    }\n",
              "\n",
              "    .colab-df-convert:hover {\n",
              "      background-color: #E2EBFA;\n",
              "      box-shadow: 0px 1px 2px rgba(60, 64, 67, 0.3), 0px 1px 3px 1px rgba(60, 64, 67, 0.15);\n",
              "      fill: #174EA6;\n",
              "    }\n",
              "\n",
              "    [theme=dark] .colab-df-convert {\n",
              "      background-color: #3B4455;\n",
              "      fill: #D2E3FC;\n",
              "    }\n",
              "\n",
              "    [theme=dark] .colab-df-convert:hover {\n",
              "      background-color: #434B5C;\n",
              "      box-shadow: 0px 1px 3px 1px rgba(0, 0, 0, 0.15);\n",
              "      filter: drop-shadow(0px 1px 2px rgba(0, 0, 0, 0.3));\n",
              "      fill: #FFFFFF;\n",
              "    }\n",
              "  </style>\n",
              "\n",
              "      <script>\n",
              "        const buttonEl =\n",
              "          document.querySelector('#df-b9785bb4-d3b2-48d3-bb82-9b970050639f button.colab-df-convert');\n",
              "        buttonEl.style.display =\n",
              "          google.colab.kernel.accessAllowed ? 'block' : 'none';\n",
              "\n",
              "        async function convertToInteractive(key) {\n",
              "          const element = document.querySelector('#df-b9785bb4-d3b2-48d3-bb82-9b970050639f');\n",
              "          const dataTable =\n",
              "            await google.colab.kernel.invokeFunction('convertToInteractive',\n",
              "                                                     [key], {});\n",
              "          if (!dataTable) return;\n",
              "\n",
              "          const docLinkHtml = 'Like what you see? Visit the ' +\n",
              "            '<a target=\"_blank\" href=https://colab.research.google.com/notebooks/data_table.ipynb>data table notebook</a>'\n",
              "            + ' to learn more about interactive tables.';\n",
              "          element.innerHTML = '';\n",
              "          dataTable['output_type'] = 'display_data';\n",
              "          await google.colab.output.renderOutput(dataTable, element);\n",
              "          const docLink = document.createElement('div');\n",
              "          docLink.innerHTML = docLinkHtml;\n",
              "          element.appendChild(docLink);\n",
              "        }\n",
              "      </script>\n",
              "    </div>\n",
              "  </div>\n",
              "  "
            ],
            "text/plain": [
              "                                                   0\n",
              "0                                Ghost in the mirror\n",
              "1        I knew your face once, but now it's unclear\n",
              "2                       And I can't feel my body now\n",
              "3  I'm separate from here and now A drug and a dream\n",
              "4             We lost connection, oh come back to me"
            ]
          },
          "execution_count": 4,
          "metadata": {},
          "output_type": "execute_result"
        }
      ],
      "source": [
        "df = pd.DataFrame()\n",
        "for dataset in os.listdir(\"./songs_dataset/\"):\n",
        "    df_tmp = pd.read_csv(f'songs_dataset/{dataset}', sep='/n', header=None, engine=\"python\")\n",
        "    df = pd.concat([df, df_tmp])\n",
        "df.head()"
      ]
    },
    {
      "cell_type": "code",
      "execution_count": 5,
      "metadata": {
        "colab": {
          "base_uri": "https://localhost:8080/"
        },
        "id": "25GP9NWzU_Ee",
        "outputId": "473b9b6b-e07f-4e5f-ae11-d9353e312ff6"
      },
      "outputs": [
        {
          "name": "stdout",
          "output_type": "stream",
          "text": [
            "Number of documents: 175960\n"
          ]
        }
      ],
      "source": [
        "print(\"Number of documents:\", df.shape[0])"
      ]
    },
    {
      "cell_type": "markdown",
      "metadata": {
        "id": "hRZLoQucVIYE"
      },
      "source": [
        "### Preprocessing"
      ]
    },
    {
      "cell_type": "code",
      "execution_count": 6,
      "metadata": {
        "colab": {
          "base_uri": "https://localhost:8080/"
        },
        "id": "U79tezP3VHPH",
        "outputId": "2f43f238-dbdc-4fac-e162-1023e022d569"
      },
      "outputs": [
        {
          "data": {
            "text/plain": [
              "[['ghost', 'in', 'the', 'mirror'],\n",
              " ['i', 'knew', 'your', 'face', 'once', 'but', 'now', \"it's\", 'unclear']]"
            ]
          },
          "execution_count": 6,
          "metadata": {},
          "output_type": "execute_result"
        }
      ],
      "source": [
        "sentence_tokens = []\n",
        "# Transform sentence in sequence of words\n",
        "for _, row in df[:None].iterrows():\n",
        "    sentence_tokens.append(text_to_word_sequence(row[0]))\n",
        "sentence_tokens[:2]"
      ]
    },
    {
      "cell_type": "markdown",
      "metadata": {
        "id": "C8bjw0JXVs03"
      },
      "source": [
        "### Create vectors (word2vec)"
      ]
    },
    {
      "cell_type": "code",
      "execution_count": 7,
      "metadata": {
        "id": "vwPd9nXmVlNe"
      },
      "outputs": [],
      "source": [
        "class callback(CallbackAny2Vec):\n",
        "    \"\"\"\n",
        "    Callback to print loss after each epoch\n",
        "    \"\"\"\n",
        "    def __init__(self):\n",
        "        self.epoch = 0\n",
        "        self.loss = []\n",
        "\n",
        "    def on_epoch_end(self, model):\n",
        "        loss = model.get_latest_training_loss()\n",
        "        if self.epoch == 0:\n",
        "            print('Loss after epoch {}: {}'.format(self.epoch, loss))\n",
        "            self.loss.append(loss)\n",
        "        else:\n",
        "            print('Loss after epoch {}: {}'.format(self.epoch, loss - self.loss_previous_step))\n",
        "            self.loss.append(loss - self.loss_previous_step)\n",
        "        self.epoch += 1\n",
        "        self.loss_previous_step = loss\n",
        "        "
      ]
    },
    {
      "cell_type": "code",
      "execution_count": 8,
      "metadata": {
        "id": "5ocK50uKYTcd"
      },
      "outputs": [],
      "source": [
        "# Create vector generator model\n",
        "w2v_model = Word2Vec(\n",
        "    min_count=5,    # Minumum frequency of words to be included in the vocabulary\n",
        "    window=2,       # Number of words before and after the predicted one\n",
        "    size=300,       # Vectors dimentionality \n",
        "    negative=20,    # Number of negative samples\n",
        "    workers=1,      # Number of workers\n",
        "    sg=1,           # Model 0:CBOW  1:skipgram\n",
        ")           "
      ]
    },
    {
      "cell_type": "code",
      "execution_count": 9,
      "metadata": {
        "colab": {
          "base_uri": "https://localhost:8080/"
        },
        "id": "vJ-Dd-k4ZeMj",
        "outputId": "631e4547-9a87-446f-e56e-07a1c57eaa90"
      },
      "outputs": [
        {
          "name": "stdout",
          "output_type": "stream",
          "text": [
            "Number of docs in the corpus: 175960\n",
            "Number of distinct words in the copus: 10029\n"
          ]
        }
      ],
      "source": [
        "w2v_model.build_vocab(sentence_tokens)\n",
        "print(\"Number of docs in the corpus:\", w2v_model.corpus_count)\n",
        "print(\"Number of distinct words in the copus:\", len(w2v_model.wv.vocab))"
      ]
    },
    {
      "cell_type": "markdown",
      "metadata": {
        "id": "dO9rsfVrZrHP"
      },
      "source": [
        "### Train generator model"
      ]
    },
    {
      "cell_type": "code",
      "execution_count": 10,
      "metadata": {
        "colab": {
          "base_uri": "https://localhost:8080/"
        },
        "id": "OPVvY0sUZppL",
        "outputId": "21687331-fe61-46b8-b634-1e0ea2ce983b"
      },
      "outputs": [
        {
          "name": "stdout",
          "output_type": "stream",
          "text": [
            "Loss after epoch 0: 6998164.0\n",
            "Loss after epoch 1: 5507270.0\n",
            "Loss after epoch 2: 5229768.0\n",
            "Loss after epoch 3: 4901906.0\n",
            "Loss after epoch 4: 4778556.0\n",
            "Loss after epoch 5: 4676384.0\n",
            "Loss after epoch 6: 4504792.0\n",
            "Loss after epoch 7: 4349456.0\n",
            "Loss after epoch 8: 4267724.0\n",
            "Loss after epoch 9: 4197348.0\n",
            "Loss after epoch 10: 4146460.0\n",
            "Loss after epoch 11: 4099668.0\n",
            "Loss after epoch 12: 4064168.0\n",
            "Loss after epoch 13: 4023500.0\n",
            "Loss after epoch 14: 2189036.0\n",
            "Loss after epoch 15: 1236896.0\n",
            "Loss after epoch 16: 1216456.0\n",
            "Loss after epoch 17: 1199664.0\n",
            "Loss after epoch 18: 1182024.0\n",
            "Loss after epoch 19: 1165464.0\n",
            "Loss after epoch 20: 1148112.0\n",
            "Loss after epoch 21: 1131392.0\n",
            "Loss after epoch 22: 1114168.0\n",
            "Loss after epoch 23: 1098680.0\n",
            "Loss after epoch 24: 1082944.0\n",
            "Loss after epoch 25: 1064512.0\n",
            "Loss after epoch 26: 1052464.0\n",
            "Loss after epoch 27: 1029592.0\n",
            "Loss after epoch 28: 1016800.0\n",
            "Loss after epoch 29: 998864.0\n",
            "Loss after epoch 30: 984024.0\n",
            "Loss after epoch 31: 965136.0\n",
            "Loss after epoch 32: 945440.0\n",
            "Loss after epoch 33: 928408.0\n",
            "Loss after epoch 34: 912240.0\n",
            "Loss after epoch 35: 894240.0\n",
            "Loss after epoch 36: 873536.0\n",
            "Loss after epoch 37: 860800.0\n",
            "Loss after epoch 38: 843608.0\n",
            "Loss after epoch 39: 826064.0\n",
            "Loss after epoch 40: 806672.0\n",
            "Loss after epoch 41: 790296.0\n",
            "Loss after epoch 42: 775664.0\n",
            "Loss after epoch 43: 754208.0\n",
            "Loss after epoch 44: 735568.0\n",
            "Loss after epoch 45: 719112.0\n",
            "Loss after epoch 46: 701208.0\n",
            "Loss after epoch 47: 680528.0\n",
            "Loss after epoch 48: 668544.0\n",
            "Loss after epoch 49: 656896.0\n"
          ]
        },
        {
          "data": {
            "text/plain": [
              "(48782044, 67753350)"
            ]
          },
          "execution_count": 10,
          "metadata": {},
          "output_type": "execute_result"
        }
      ],
      "source": [
        "# Train the generator model\n",
        "train_callback = callback()\n",
        "w2v_model.train(\n",
        "    sentence_tokens,\n",
        "    total_examples=w2v_model.corpus_count,\n",
        "    epochs=50,\n",
        "    compute_loss = True,\n",
        "    callbacks=[train_callback]\n",
        ")"
      ]
    },
    {
      "cell_type": "code",
      "execution_count": 11,
      "metadata": {
        "colab": {
          "base_uri": "https://localhost:8080/",
          "height": 290
        },
        "id": "rL6YMP83qTfF",
        "outputId": "195351e5-235d-491b-f216-570365db1725"
      },
      "outputs": [
        {
          "data": {
            "image/png": "[encoded data removed]",
            "text/plain": [
              "<Figure size 432x288 with 1 Axes>"
            ]
          },
          "metadata": {
            "needs_background": "light"
          },
          "output_type": "display_data"
        }
      ],
      "source": [
        "plt.plot(train_callback.loss)\n",
        "plt.ylabel(\"loss\")\n",
        "plt.xlabel(\"epoch\")\n",
        "plt.grid()"
      ]
    },
    {
      "cell_type": "markdown",
      "metadata": {
        "id": "n8OHM7O0esQg"
      },
      "source": [
        "### Results\n"
      ]
    },
    {
      "cell_type": "code",
      "execution_count": 12,
      "metadata": {
        "colab": {
          "base_uri": "https://localhost:8080/"
        },
        "id": "YI3aYMsUerzS",
        "outputId": "97c4b0af-40d2-4722-a433-50b05b971a52"
      },
      "outputs": [
        {
          "data": {
            "text/plain": [
              "[('oooo', 0.3480376601219177),\n",
              " ('cok', 0.33057934045791626),\n",
              " ('whoaa', 0.3303224742412567),\n",
              " ('baby', 0.3287123441696167),\n",
              " ('discreet', 0.3285036087036133),\n",
              " ('dignity', 0.32693248987197876),\n",
              " ('deceive', 0.32666757702827454),\n",
              " ('womanizer', 0.3259226679801941),\n",
              " ('naive', 0.3253239393234253),\n",
              " ('ohhhh', 0.3244801461696625)]"
            ]
          },
          "execution_count": 12,
          "metadata": {},
          "output_type": "execute_result"
        }
      ],
      "source": [
        "# The most related\n",
        "w2v_model.wv.most_similar(positive=[\"darling\"], topn=10)"
      ]
    },
    {
      "cell_type": "code",
      "execution_count": 13,
      "metadata": {
        "colab": {
          "base_uri": "https://localhost:8080/"
        },
        "id": "8zDeC9hFed9Y",
        "outputId": "278206ce-d3ec-40d0-e438-ba90ca5f2cb2"
      },
      "outputs": [
        {
          "data": {
            "text/plain": [
              "[('xxvii', 0.10154709219932556),\n",
              " ('xv', 0.10022833943367004),\n",
              " ('cheater', 0.09414657950401306),\n",
              " ('xxi', 0.09347429126501083),\n",
              " ('xl', 0.053184449672698975),\n",
              " ('xxxiv', 0.04168454557657242),\n",
              " ('xxxviii', 0.04038892686367035),\n",
              " ('xxix', 0.03888888657093048),\n",
              " ('xli', 0.037230588495731354),\n",
              " ('xxxv', 0.03658324107527733)]"
            ]
          },
          "execution_count": 13,
          "metadata": {},
          "output_type": "execute_result"
        }
      ],
      "source": [
        "# The least related\n",
        "w2v_model.wv.most_similar(negative=[\"love\"], topn=10)"
      ]
    },
    {
      "cell_type": "code",
      "execution_count": 14,
      "metadata": {
        "colab": {
          "base_uri": "https://localhost:8080/"
        },
        "id": "30tW0Krke83P",
        "outputId": "515e9693-ba9f-4934-a7dc-3df18de92c74"
      },
      "outputs": [
        {
          "data": {
            "text/plain": [
              "[('whee', 0.3986014127731323),\n",
              " ('blackbirds', 0.3863898813724518),\n",
              " ('fahrenheit', 0.37584051489830017),\n",
              " ('swiftly', 0.355258971452713),\n",
              " ('twenty', 0.3523986339569092),\n",
              " ('lopez', 0.3519430458545685),\n",
              " ('thirty', 0.3449026942253113),\n",
              " ('seven', 0.3395269513130188),\n",
              " ('travelling', 0.33931148052215576),\n",
              " ('creak', 0.33883151412010193)]"
            ]
          },
          "execution_count": 14,
          "metadata": {},
          "output_type": "execute_result"
        }
      ],
      "source": [
        "# The most related\n",
        "w2v_model.wv.most_similar(positive=[\"four\"], topn=10)"
      ]
    },
    {
      "cell_type": "code",
      "execution_count": 15,
      "metadata": {
        "colab": {
          "base_uri": "https://localhost:8080/"
        },
        "id": "xs4AZ7mgfEbI",
        "outputId": "a430dc42-28da-42fa-9c4b-4cdf061fd063"
      },
      "outputs": [
        {
          "data": {
            "text/plain": [
              "[('naire', 0.4657869338989258),\n",
              " ('cash', 0.3802233338356018),\n",
              " ('forrest', 0.3655218482017517),\n",
              " ('spectacular', 0.3535172939300537),\n",
              " ('insured', 0.3456072509288788)]"
            ]
          },
          "execution_count": 15,
          "metadata": {},
          "output_type": "execute_result"
        }
      ],
      "source": [
        "# The most related\n",
        "w2v_model.wv.most_similar(positive=[\"money\"], topn=5)"
      ]
    },
    {
      "cell_type": "code",
      "execution_count": 16,
      "metadata": {
        "id": "K6WmaY9NfZCJ"
      },
      "outputs": [],
      "source": [
        "def reduce_dimensions(model, num_dimensions=2):\n",
        "\n",
        "    vectors = np.asarray(model.wv.vectors)\n",
        "    labels = np.asarray(model.wv.index2word)  \n",
        "\n",
        "    tsne = TSNE(n_components=num_dimensions, random_state=0)\n",
        "    vectors = tsne.fit_transform(vectors)\n",
        "\n",
        "    return vectors, labels"
      ]
    },
    {
      "cell_type": "code",
      "execution_count": null,
      "metadata": {},
      "outputs": [],
      "source": [
        "vectors, labels = reduce_dimensions(w2v_model)\n",
        "x_vals = [v[0] for v in vectors]\n",
        "y_vals = [v[1] for v in vectors]\n",
        "\n",
        "MAX_WORDS = 200\n",
        "fig = px.scatter(x=x_vals[:MAX_WORDS], y=y_vals[:MAX_WORDS], text=labels[:MAX_WORDS])\n",
        "fig.show(renderer=\"colab\")"
      ]
    },
    {
      "cell_type": "markdown",
      "metadata": {},
      "source": [
        "<img src=\"2d.PNG\" alt=\"Embeddings 2d\" style=\"height: 400px; width:900px;\"/>"
      ]
    },
    {
      "cell_type": "code",
      "execution_count": null,
      "metadata": {},
      "outputs": [],
      "source": [
        "vectors, labels = reduce_dimensions(w2v_model, num_dimensions=3)\n",
        "x_vals = [v[0] for v in vectors]\n",
        "y_vals = [v[1] for v in vectors]\n",
        "z_vals = [v[2] for v in vectors]\n",
        "\n",
        "MAX_WORDS = 400\n",
        "fig = px.scatter_3d(x=x_vals[:MAX_WORDS], y=y_vals[:MAX_WORDS], z=z_vals[:MAX_WORDS], text=labels[:MAX_WORDS], size_max=18, opacity=0.7)\n",
        "fig.update_layout(margin=dict(l=0, r=0, b=0, t=0))\n",
        "fig.show(renderer=\"colab\")"
      ]
    },
    {
      "cell_type": "markdown",
      "metadata": {},
      "source": [
        "<img src=\"3D.PNG\" alt=\"Embeddings 3d\" style=\"height: 400px; width:400px;\"/>"
      ]
    }
  ],
  "metadata": {
    "accelerator": "GPU",
    "colab": {
      "collapsed_sections": [],
      "name": "NLP_clase_3_embedding.ipynb",
      "provenance": []
    },
    "kernelspec": {
      "display_name": "Python 3",
      "name": "python3"
    },
    "language_info": {
      "name": "python",
      "version": "3.7.7"
    }
  },
  "nbformat": 4,
  "nbformat_minor": 0
}
